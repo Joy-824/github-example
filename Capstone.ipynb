{
 "cells": [
  {
   "cell_type": "markdown",
   "metadata": {},
   "source": [
    "Capstone Project --Metro Stations of Shanghai\n",
    "\n",
    "Applied Data Science Capstone by IBM/Coursera"
   ]
  },
  {
   "cell_type": "markdown",
   "metadata": {},
   "source": [
    "Table of contents\n",
    "•Introduction: Business Problem\n",
    "•Data\n",
    "•Methodology\n",
    "•Analysis\n",
    "•Results and Discussion\n",
    "•Conclusion"
   ]
  },
  {
   "cell_type": "markdown",
   "metadata": {},
   "source": [
    "Introduction: Business Problem"
   ]
  },
  {
   "cell_type": "markdown",
   "metadata": {},
   "source": [
    "  Shanghai is the economic center of China and has a population of over 14 million people. As a developed city, Shanghai is blessed with 19 metro lines and 413 stations. \n",
    "  As a newly born city, millions of people come in and out from Shanghai in one year. When people look for suitable house to rent or buy, places near a metro station are prone to be more attractive. The aim of this project is to look at the kinds of venues surrounding the metro stations and classify them based on the types of venues near a station the most, as well as taking into consideration the geographic location of the station. The target customer of this project is the one who searches for a new home and wants to get well known about one area."
   ]
  },
  {
   "cell_type": "markdown",
   "metadata": {},
   "source": [
    "Data"
   ]
  },
  {
   "cell_type": "markdown",
   "metadata": {},
   "source": [
    "  The final dataframe used for data analysis contains the line 1 of Shanghai's metro stations' data. The list of all the metro stations we used were retrieved from the Wikipedia page:https://wanweibaike.com/wiki-%E4%B8%8A%E6%B5%B7%E5%9C%B0%E9%93%81%E7%AB%99%E7%82%B9%E5%88%97%E8%A1%A8#1号线\n",
    "  The dataframe which was retrieved through URL is concise and there is no need to molify the content. So the next step of this project is to coordinate the latitude and longitude to each row, by looping through the whole list and creating custom Google Geocoding API queries for each row from their cell values. We then save the dataframe into a .csv file, so that we can use it for repeated testing and data classification, without having to call the Google API each time.\n",
    "  Using the coordinates we got from querying with the Google API, we can query locations and any nearby venues with the Foursquare Places API. We query each station's location and collect the number of venues, sorted by the top-level categories available from the Foursquare API. We can then classify each station based on the top categories of the total number of nearby venues around a station. Clusters of station locations and their surrounding areas can then be marked on a map of Shanghai and inform users about that part of the city."
   ]
  },
  {
   "cell_type": "markdown",
   "metadata": {},
   "source": [
    "Retrieve Shanghai metro stations' information from Wikipedia:"
   ]
  },
  {
   "cell_type": "code",
   "execution_count": 11,
   "metadata": {},
   "outputs": [
    {
     "name": "stdout",
     "output_type": "stream",
     "text": [
      "第1页抓取完成\n"
     ]
    }
   ],
   "source": [
    "import pandas as pd\n",
    "import csv\n",
    "for i in range(1,2):\n",
    "    url='https://wanweibaike.com/wiki-%E4%B8%8A%E6%B5%B7%E5%9C%B0%E9%93%81%E7%AB%99%E7%82%B9%E5%88%97%E8%A1%A8#1号线'\n",
    "    tb=pd.read_html(url)[0]\n",
    "    tb.to_csv(r'SH.csv', mode='a', encoding='utf_8_sig', header=1, index=0)\n",
    "    print('第'+str(i)+'页抓取完成')"
   ]
  },
  {
   "cell_type": "markdown",
   "metadata": {},
   "source": [
    "Take a look at the data using the code below :"
   ]
  },
  {
   "cell_type": "code",
   "execution_count": 12,
   "metadata": {
    "scrolled": true
   },
   "outputs": [
    {
     "data": {
      "text/html": [
       "<div>\n",
       "<style scoped>\n",
       "    .dataframe tbody tr th:only-of-type {\n",
       "        vertical-align: middle;\n",
       "    }\n",
       "\n",
       "    .dataframe tbody tr th {\n",
       "        vertical-align: top;\n",
       "    }\n",
       "\n",
       "    .dataframe thead th {\n",
       "        text-align: right;\n",
       "    }\n",
       "</style>\n",
       "<table border=\"1\" class=\"dataframe\">\n",
       "  <thead>\n",
       "    <tr style=\"text-align: right;\">\n",
       "      <th></th>\n",
       "      <th>Number</th>\n",
       "      <th>Station_Name</th>\n",
       "      <th>Opened</th>\n",
       "      <th>Location</th>\n",
       "      <th>Platform_Level</th>\n",
       "      <th>Platform_Type</th>\n",
       "      <th>Transfers</th>\n",
       "    </tr>\n",
       "  </thead>\n",
       "  <tbody>\n",
       "    <tr>\n",
       "      <th>0</th>\n",
       "      <td>1</td>\n",
       "      <td>莘庄</td>\n",
       "      <td>1996年12月28日</td>\n",
       "      <td>Minhang</td>\n",
       "      <td>At-grade</td>\n",
       "      <td>Side platform</td>\n",
       "      <td>5</td>\n",
       "    </tr>\n",
       "    <tr>\n",
       "      <th>1</th>\n",
       "      <td>1</td>\n",
       "      <td>外环路</td>\n",
       "      <td>1996年12月28日</td>\n",
       "      <td>Minhang</td>\n",
       "      <td>At-grade</td>\n",
       "      <td>Side platform</td>\n",
       "      <td>NaN</td>\n",
       "    </tr>\n",
       "    <tr>\n",
       "      <th>2</th>\n",
       "      <td>1</td>\n",
       "      <td>莲花路</td>\n",
       "      <td>1996年12月28日</td>\n",
       "      <td>Minhang</td>\n",
       "      <td>At-grade</td>\n",
       "      <td>Side platform</td>\n",
       "      <td>NaN</td>\n",
       "    </tr>\n",
       "    <tr>\n",
       "      <th>3</th>\n",
       "      <td>1</td>\n",
       "      <td>锦江乐园</td>\n",
       "      <td>1996年12月28日</td>\n",
       "      <td>Xuhui</td>\n",
       "      <td>At-grade</td>\n",
       "      <td>Side platform</td>\n",
       "      <td>NaN</td>\n",
       "    </tr>\n",
       "    <tr>\n",
       "      <th>4</th>\n",
       "      <td>1</td>\n",
       "      <td>上海南站</td>\n",
       "      <td>2004年10月30日</td>\n",
       "      <td>Xuhui</td>\n",
       "      <td>Underground</td>\n",
       "      <td>Island platform</td>\n",
       "      <td>3</td>\n",
       "    </tr>\n",
       "  </tbody>\n",
       "</table>\n",
       "</div>"
      ],
      "text/plain": [
       "  Number Station_Name       Opened Location Platform_Level    Platform_Type  \\\n",
       "0      1           莘庄  1996年12月28日  Minhang       At-grade    Side platform   \n",
       "1      1          外环路  1996年12月28日  Minhang       At-grade   Side platform    \n",
       "2      1          莲花路  1996年12月28日  Minhang       At-grade    Side platform   \n",
       "3      1         锦江乐园  1996年12月28日    Xuhui       At-grade    Side platform   \n",
       "4      1         上海南站  2004年10月30日    Xuhui    Underground  Island platform   \n",
       "\n",
       "  Transfers  \n",
       "0         5  \n",
       "1       NaN  \n",
       "2       NaN  \n",
       "3       NaN  \n",
       "4         3  "
      ]
     },
     "execution_count": 12,
     "metadata": {},
     "output_type": "execute_result"
    }
   ],
   "source": [
    "import pandas as pd\n",
    "import numpy as np\n",
    "raw_df=pd.read_csv(r'SH.csv')\n",
    "raw_df.head()"
   ]
  },
  {
   "cell_type": "markdown",
   "metadata": {},
   "source": [
    " We want to get the longitude and latitude from the Baidu API (http://api.map.baidu.com/place/v2/search?query=#geocoding) and we will use the json outputFormat with the address and components filtering parameters, with our API key being the last ingredient in the query.For the components part, we use the administrative_area:Shanghai to help narrow down the search to just the Shanghai administrative area in China. The output from the query will be a csv text. "
   ]
  },
  {
   "cell_type": "code",
   "execution_count": 13,
   "metadata": {},
   "outputs": [],
   "source": [
    "import pandas\n",
    "from bs4 import BeautifulSoup \n",
    "from urllib import request\n",
    "import re\n",
    "import pandas as pd\n",
    "import numpy as np\n",
    "import urllib.parse as urp\n",
    "from xml.etree import ElementTree\n",
    "import time\n",
    "\n",
    "def __get_location1__(name,city):  \n",
    "        my_ak = '54sYa6LO9aMKWOdyzaQfRkIGc3eD31Qa'    \n",
    "        tag = urp.quote('地铁站')\n",
    "        qurey = urp.quote(name)\n",
    "        try:\n",
    "            url = 'http://api.map.baidu.com/place/v2/search?query='+qurey+'&tag='+'&region='+urp.quote(city)+'&output=json&ak='+my_ak\n",
    "            print(url)\n",
    "            req = request.urlopen(url)\n",
    "            res = req.read().decode()\n",
    "            lat = pd.to_numeric(re.findall('\"lat\":(.*)',res)[0].split(',')[0])\n",
    "            lng = pd.to_numeric(re.findall('\"lng\":(.*)',res)[0])\n",
    "            return (lng,lat)\n",
    "        except:\n",
    "            return 0,0"
   ]
  },
  {
   "cell_type": "markdown",
   "metadata": {},
   "source": [
    "Combine the latitude and longitude with the dataframe:"
   ]
  },
  {
   "cell_type": "code",
   "execution_count": 14,
   "metadata": {},
   "outputs": [
    {
     "data": {
      "text/html": [
       "<div>\n",
       "<style scoped>\n",
       "    .dataframe tbody tr th:only-of-type {\n",
       "        vertical-align: middle;\n",
       "    }\n",
       "\n",
       "    .dataframe tbody tr th {\n",
       "        vertical-align: top;\n",
       "    }\n",
       "\n",
       "    .dataframe thead th {\n",
       "        text-align: right;\n",
       "    }\n",
       "</style>\n",
       "<table border=\"1\" class=\"dataframe\">\n",
       "  <thead>\n",
       "    <tr style=\"text-align: right;\">\n",
       "      <th></th>\n",
       "      <th>Station_Name</th>\n",
       "    </tr>\n",
       "  </thead>\n",
       "  <tbody>\n",
       "    <tr>\n",
       "      <th>0</th>\n",
       "      <td>莘庄</td>\n",
       "    </tr>\n",
       "    <tr>\n",
       "      <th>1</th>\n",
       "      <td>外环路</td>\n",
       "    </tr>\n",
       "    <tr>\n",
       "      <th>2</th>\n",
       "      <td>莲花路</td>\n",
       "    </tr>\n",
       "    <tr>\n",
       "      <th>3</th>\n",
       "      <td>锦江乐园</td>\n",
       "    </tr>\n",
       "    <tr>\n",
       "      <th>4</th>\n",
       "      <td>上海南站</td>\n",
       "    </tr>\n",
       "  </tbody>\n",
       "</table>\n",
       "</div>"
      ],
      "text/plain": [
       "  Station_Name\n",
       "0           莘庄\n",
       "1          外环路\n",
       "2          莲花路\n",
       "3         锦江乐园\n",
       "4         上海南站"
      ]
     },
     "execution_count": 14,
     "metadata": {},
     "output_type": "execute_result"
    }
   ],
   "source": [
    "Station=pd.read_csv(r'Station.csv',encoding='gb18030')\n",
    "Station.head()\n",
    "Station.head()latitudes=[]\n",
    "longitudes=[]\n",
    "for i in Stations:\n",
    "    __get_location1__(i,'上海')\n",
    "    latitudes.append(lat)\n",
    "    longitudes.append(lng)"
   ]
  },
  {
   "cell_type": "code",
   "execution_count": 1,
   "metadata": {},
   "outputs": [
    {
     "data": {
      "text/html": [
       "<div>\n",
       "<style scoped>\n",
       "    .dataframe tbody tr th:only-of-type {\n",
       "        vertical-align: middle;\n",
       "    }\n",
       "\n",
       "    .dataframe tbody tr th {\n",
       "        vertical-align: top;\n",
       "    }\n",
       "\n",
       "    .dataframe thead th {\n",
       "        text-align: right;\n",
       "    }\n",
       "</style>\n",
       "<table border=\"1\" class=\"dataframe\">\n",
       "  <thead>\n",
       "    <tr style=\"text-align: right;\">\n",
       "      <th></th>\n",
       "      <th>Number</th>\n",
       "      <th>Station_Name</th>\n",
       "      <th>Opened</th>\n",
       "      <th>Location</th>\n",
       "      <th>Platform_Level</th>\n",
       "      <th>Platform_Type</th>\n",
       "      <th>Transfers</th>\n",
       "      <th>Longitude</th>\n",
       "      <th>Latitude</th>\n",
       "    </tr>\n",
       "  </thead>\n",
       "  <tbody>\n",
       "    <tr>\n",
       "      <th>0</th>\n",
       "      <td>1</td>\n",
       "      <td>莘庄</td>\n",
       "      <td>1996年12月28日</td>\n",
       "      <td>Minhang</td>\n",
       "      <td>At-grade</td>\n",
       "      <td>Side platform</td>\n",
       "      <td>5</td>\n",
       "      <td>121.392186</td>\n",
       "      <td>31.116872</td>\n",
       "    </tr>\n",
       "    <tr>\n",
       "      <th>1</th>\n",
       "      <td>1</td>\n",
       "      <td>外环路</td>\n",
       "      <td>1996年12月28日</td>\n",
       "      <td>Minhang</td>\n",
       "      <td>At-grade</td>\n",
       "      <td>Side platform</td>\n",
       "      <td>NaN</td>\n",
       "      <td>121.399614</td>\n",
       "      <td>31.126649</td>\n",
       "    </tr>\n",
       "    <tr>\n",
       "      <th>2</th>\n",
       "      <td>1</td>\n",
       "      <td>莲花路</td>\n",
       "      <td>1996年12月28日</td>\n",
       "      <td>Minhang</td>\n",
       "      <td>At-grade</td>\n",
       "      <td>Side platform</td>\n",
       "      <td>NaN</td>\n",
       "      <td>121.409334</td>\n",
       "      <td>31.136734</td>\n",
       "    </tr>\n",
       "    <tr>\n",
       "      <th>3</th>\n",
       "      <td>1</td>\n",
       "      <td>锦江乐园</td>\n",
       "      <td>1996年12月28日</td>\n",
       "      <td>Xuhui</td>\n",
       "      <td>At-grade</td>\n",
       "      <td>Side platform</td>\n",
       "      <td>NaN</td>\n",
       "      <td>121.415479</td>\n",
       "      <td>31.145542</td>\n",
       "    </tr>\n",
       "    <tr>\n",
       "      <th>4</th>\n",
       "      <td>1</td>\n",
       "      <td>上海南站</td>\n",
       "      <td>2004年10月30日</td>\n",
       "      <td>Xuhui</td>\n",
       "      <td>Underground</td>\n",
       "      <td>Island platform</td>\n",
       "      <td>3</td>\n",
       "      <td>121.435865</td>\n",
       "      <td>31.159439</td>\n",
       "    </tr>\n",
       "    <tr>\n",
       "      <th>5</th>\n",
       "      <td>1</td>\n",
       "      <td>漕宝路</td>\n",
       "      <td>1993年5月28日</td>\n",
       "      <td>Xuhui</td>\n",
       "      <td>Underground</td>\n",
       "      <td>Island platform</td>\n",
       "      <td>12</td>\n",
       "      <td>121.440466</td>\n",
       "      <td>31.174838</td>\n",
       "    </tr>\n",
       "    <tr>\n",
       "      <th>6</th>\n",
       "      <td>1</td>\n",
       "      <td>上海体育馆</td>\n",
       "      <td>1993年5月28日</td>\n",
       "      <td>Xuhui</td>\n",
       "      <td>Underground</td>\n",
       "      <td>Island platform</td>\n",
       "      <td>4</td>\n",
       "      <td>121.443398</td>\n",
       "      <td>31.188813</td>\n",
       "    </tr>\n",
       "    <tr>\n",
       "      <th>7</th>\n",
       "      <td>1</td>\n",
       "      <td>徐家汇</td>\n",
       "      <td>1993年5月28日</td>\n",
       "      <td>Xuhui</td>\n",
       "      <td>Underground</td>\n",
       "      <td>Island platform</td>\n",
       "      <td>9+11</td>\n",
       "      <td>121.443395</td>\n",
       "      <td>31.194557</td>\n",
       "    </tr>\n",
       "    <tr>\n",
       "      <th>8</th>\n",
       "      <td>1</td>\n",
       "      <td>衡山路</td>\n",
       "      <td>1995年4月10日</td>\n",
       "      <td>Xuhui</td>\n",
       "      <td>Underground</td>\n",
       "      <td>Island platform</td>\n",
       "      <td>NaN</td>\n",
       "      <td>121.448545</td>\n",
       "      <td>31.205096</td>\n",
       "    </tr>\n",
       "    <tr>\n",
       "      <th>9</th>\n",
       "      <td>1</td>\n",
       "      <td>常熟路</td>\n",
       "      <td>1995年4月10日</td>\n",
       "      <td>Xuhui</td>\n",
       "      <td>Underground</td>\n",
       "      <td>Island platform</td>\n",
       "      <td>7</td>\n",
       "      <td>121.456663</td>\n",
       "      <td>31.219862</td>\n",
       "    </tr>\n",
       "    <tr>\n",
       "      <th>10</th>\n",
       "      <td>1</td>\n",
       "      <td>陕西南路</td>\n",
       "      <td>1995年4月10日</td>\n",
       "      <td>Huangpu</td>\n",
       "      <td>Underground</td>\n",
       "      <td>Island platform</td>\n",
       "      <td>10+12</td>\n",
       "      <td>121.465616</td>\n",
       "      <td>31.222063</td>\n",
       "    </tr>\n",
       "    <tr>\n",
       "      <th>11</th>\n",
       "      <td>1</td>\n",
       "      <td>黄陂南路</td>\n",
       "      <td>1995年4月10日</td>\n",
       "      <td>Huangpu</td>\n",
       "      <td>Underground</td>\n",
       "      <td>Island platform</td>\n",
       "      <td>NaN</td>\n",
       "      <td>121.479748</td>\n",
       "      <td>31.228732</td>\n",
       "    </tr>\n",
       "    <tr>\n",
       "      <th>12</th>\n",
       "      <td>1</td>\n",
       "      <td>人民广场</td>\n",
       "      <td>1995年4月10日</td>\n",
       "      <td>Huangpu</td>\n",
       "      <td>Underground</td>\n",
       "      <td>Island platform[注 3]</td>\n",
       "      <td>2+8</td>\n",
       "      <td>121.481099</td>\n",
       "      <td>31.238688</td>\n",
       "    </tr>\n",
       "    <tr>\n",
       "      <th>13</th>\n",
       "      <td>1</td>\n",
       "      <td>新闸路</td>\n",
       "      <td>1995年4月10日</td>\n",
       "      <td>Huangpu</td>\n",
       "      <td>Underground</td>\n",
       "      <td>Island platform</td>\n",
       "      <td>NaN</td>\n",
       "      <td>121.466564</td>\n",
       "      <td>31.241872</td>\n",
       "    </tr>\n",
       "    <tr>\n",
       "      <th>14</th>\n",
       "      <td>1</td>\n",
       "      <td>汉中路</td>\n",
       "      <td>1995年4月10日</td>\n",
       "      <td>Jing'an</td>\n",
       "      <td>Underground</td>\n",
       "      <td>Island platform</td>\n",
       "      <td>12+13</td>\n",
       "      <td>121.465207</td>\n",
       "      <td>31.247233</td>\n",
       "    </tr>\n",
       "    <tr>\n",
       "      <th>15</th>\n",
       "      <td>1</td>\n",
       "      <td>上海火车站</td>\n",
       "      <td>1995年4月10日</td>\n",
       "      <td>Jing'an</td>\n",
       "      <td>Underground</td>\n",
       "      <td>Island platform</td>\n",
       "      <td>2+4</td>\n",
       "      <td>121.462056</td>\n",
       "      <td>31.255923</td>\n",
       "    </tr>\n",
       "    <tr>\n",
       "      <th>16</th>\n",
       "      <td>1</td>\n",
       "      <td>中山北路</td>\n",
       "      <td>2004年12月28日</td>\n",
       "      <td>Jing'an</td>\n",
       "      <td>Underground</td>\n",
       "      <td>Island platform</td>\n",
       "      <td>NaN</td>\n",
       "      <td>121.465657</td>\n",
       "      <td>31.264959</td>\n",
       "    </tr>\n",
       "    <tr>\n",
       "      <th>17</th>\n",
       "      <td>1</td>\n",
       "      <td>延长路</td>\n",
       "      <td>2004年12月28日</td>\n",
       "      <td>Jing'an</td>\n",
       "      <td>Underground</td>\n",
       "      <td>Island platform</td>\n",
       "      <td>NaN</td>\n",
       "      <td>121.461892</td>\n",
       "      <td>31.278061</td>\n",
       "    </tr>\n",
       "    <tr>\n",
       "      <th>18</th>\n",
       "      <td>1</td>\n",
       "      <td>上海马戏城</td>\n",
       "      <td>2004年12月28日</td>\n",
       "      <td>Jing'an</td>\n",
       "      <td>Underground</td>\n",
       "      <td>Island platform</td>\n",
       "      <td>NaN</td>\n",
       "      <td>121.458503</td>\n",
       "      <td>31.285845</td>\n",
       "    </tr>\n",
       "    <tr>\n",
       "      <th>19</th>\n",
       "      <td>1</td>\n",
       "      <td>汶水路</td>\n",
       "      <td>2004年12月28日</td>\n",
       "      <td>Jing'an</td>\n",
       "      <td>Elevated</td>\n",
       "      <td>Side platform</td>\n",
       "      <td>NaN</td>\n",
       "      <td>121.456541</td>\n",
       "      <td>31.298974</td>\n",
       "    </tr>\n",
       "    <tr>\n",
       "      <th>20</th>\n",
       "      <td>1</td>\n",
       "      <td>彭浦新村</td>\n",
       "      <td>2004年12月28日</td>\n",
       "      <td>Jing'an</td>\n",
       "      <td>Elevated</td>\n",
       "      <td>Side platform</td>\n",
       "      <td>NaN</td>\n",
       "      <td>121.455097</td>\n",
       "      <td>31.312943</td>\n",
       "    </tr>\n",
       "    <tr>\n",
       "      <th>21</th>\n",
       "      <td>1</td>\n",
       "      <td>共康路</td>\n",
       "      <td>2004年12月28日</td>\n",
       "      <td>Jing'an</td>\n",
       "      <td>Elevated</td>\n",
       "      <td>Side platform</td>\n",
       "      <td>NaN</td>\n",
       "      <td>121.453467</td>\n",
       "      <td>31.325349</td>\n",
       "    </tr>\n",
       "    <tr>\n",
       "      <th>22</th>\n",
       "      <td>1</td>\n",
       "      <td>通河新村</td>\n",
       "      <td>2004年12月28日</td>\n",
       "      <td>Baoshan</td>\n",
       "      <td>Elevated</td>\n",
       "      <td>Side platform</td>\n",
       "      <td>NaN</td>\n",
       "      <td>121.447965</td>\n",
       "      <td>31.337451</td>\n",
       "    </tr>\n",
       "    <tr>\n",
       "      <th>23</th>\n",
       "      <td>1</td>\n",
       "      <td>呼兰路</td>\n",
       "      <td>2004年12月28日</td>\n",
       "      <td>Baoshan</td>\n",
       "      <td>Elevated</td>\n",
       "      <td>Side platform</td>\n",
       "      <td>NaN</td>\n",
       "      <td>121.444156</td>\n",
       "      <td>31.346106</td>\n",
       "    </tr>\n",
       "    <tr>\n",
       "      <th>24</th>\n",
       "      <td>1</td>\n",
       "      <td>共富新村</td>\n",
       "      <td>2004年12月28日</td>\n",
       "      <td>Baoshan</td>\n",
       "      <td>Elevated</td>\n",
       "      <td>Side platform</td>\n",
       "      <td>NaN</td>\n",
       "      <td>121.440526</td>\n",
       "      <td>31.361410</td>\n",
       "    </tr>\n",
       "    <tr>\n",
       "      <th>25</th>\n",
       "      <td>1</td>\n",
       "      <td>宝安公路</td>\n",
       "      <td>2007年12月29日</td>\n",
       "      <td>Baoshan</td>\n",
       "      <td>Elevated</td>\n",
       "      <td>Side platform</td>\n",
       "      <td>NaN</td>\n",
       "      <td>121.132161</td>\n",
       "      <td>31.153121</td>\n",
       "    </tr>\n",
       "    <tr>\n",
       "      <th>26</th>\n",
       "      <td>1</td>\n",
       "      <td>友谊西路</td>\n",
       "      <td>2007年12月29日</td>\n",
       "      <td>Baoshan</td>\n",
       "      <td>Elevated</td>\n",
       "      <td>Side platform</td>\n",
       "      <td>NaN</td>\n",
       "      <td>121.434421</td>\n",
       "      <td>31.387459</td>\n",
       "    </tr>\n",
       "    <tr>\n",
       "      <th>27</th>\n",
       "      <td>1</td>\n",
       "      <td>富锦路</td>\n",
       "      <td>2007年12月29日</td>\n",
       "      <td>Baoshan</td>\n",
       "      <td>Elevated</td>\n",
       "      <td>Side platform</td>\n",
       "      <td>NaN</td>\n",
       "      <td>121.431087</td>\n",
       "      <td>31.398542</td>\n",
       "    </tr>\n",
       "  </tbody>\n",
       "</table>\n",
       "</div>"
      ],
      "text/plain": [
       "    Number Station_Name       Opened  Location Platform_Level  \\\n",
       "0        1           莘庄  1996年12月28日   Minhang       At-grade   \n",
       "1        1          外环路  1996年12月28日   Minhang       At-grade   \n",
       "2        1          莲花路  1996年12月28日   Minhang       At-grade   \n",
       "3        1         锦江乐园  1996年12月28日     Xuhui       At-grade   \n",
       "4        1         上海南站  2004年10月30日     Xuhui    Underground   \n",
       "5        1          漕宝路   1993年5月28日     Xuhui    Underground   \n",
       "6        1        上海体育馆   1993年5月28日     Xuhui    Underground   \n",
       "7        1          徐家汇   1993年5月28日     Xuhui    Underground   \n",
       "8        1          衡山路   1995年4月10日     Xuhui    Underground   \n",
       "9        1          常熟路   1995年4月10日     Xuhui    Underground   \n",
       "10       1         陕西南路   1995年4月10日   Huangpu    Underground   \n",
       "11       1         黄陂南路   1995年4月10日   Huangpu    Underground   \n",
       "12       1         人民广场   1995年4月10日   Huangpu    Underground   \n",
       "13       1          新闸路   1995年4月10日   Huangpu    Underground   \n",
       "14       1          汉中路   1995年4月10日   Jing'an    Underground   \n",
       "15       1        上海火车站   1995年4月10日   Jing'an    Underground   \n",
       "16       1         中山北路  2004年12月28日   Jing'an    Underground   \n",
       "17       1          延长路  2004年12月28日   Jing'an    Underground   \n",
       "18       1        上海马戏城  2004年12月28日   Jing'an    Underground   \n",
       "19       1          汶水路  2004年12月28日   Jing'an       Elevated   \n",
       "20       1         彭浦新村  2004年12月28日   Jing'an       Elevated   \n",
       "21       1          共康路  2004年12月28日   Jing'an       Elevated   \n",
       "22       1         通河新村  2004年12月28日  Baoshan        Elevated   \n",
       "23       1          呼兰路  2004年12月28日  Baoshan        Elevated   \n",
       "24       1         共富新村  2004年12月28日  Baoshan        Elevated   \n",
       "25       1         宝安公路  2007年12月29日  Baoshan        Elevated   \n",
       "26       1         友谊西路  2007年12月29日  Baoshan        Elevated   \n",
       "27       1          富锦路  2007年12月29日  Baoshan        Elevated   \n",
       "\n",
       "           Platform_Type Transfers   Longitude   Latitude  \n",
       "0          Side platform         5  121.392186  31.116872  \n",
       "1         Side platform        NaN  121.399614  31.126649  \n",
       "2          Side platform       NaN  121.409334  31.136734  \n",
       "3          Side platform       NaN  121.415479  31.145542  \n",
       "4        Island platform         3  121.435865  31.159439  \n",
       "5        Island platform        12  121.440466  31.174838  \n",
       "6        Island platform         4  121.443398  31.188813  \n",
       "7        Island platform      9+11  121.443395  31.194557  \n",
       "8        Island platform       NaN  121.448545  31.205096  \n",
       "9        Island platform         7  121.456663  31.219862  \n",
       "10       Island platform     10+12  121.465616  31.222063  \n",
       "11       Island platform       NaN  121.479748  31.228732  \n",
       "12  Island platform[注 3]       2+8  121.481099  31.238688  \n",
       "13       Island platform       NaN  121.466564  31.241872  \n",
       "14       Island platform     12+13  121.465207  31.247233  \n",
       "15       Island platform       2+4  121.462056  31.255923  \n",
       "16       Island platform       NaN  121.465657  31.264959  \n",
       "17       Island platform       NaN  121.461892  31.278061  \n",
       "18       Island platform       NaN  121.458503  31.285845  \n",
       "19         Side platform       NaN  121.456541  31.298974  \n",
       "20         Side platform       NaN  121.455097  31.312943  \n",
       "21         Side platform       NaN  121.453467  31.325349  \n",
       "22         Side platform       NaN  121.447965  31.337451  \n",
       "23         Side platform       NaN  121.444156  31.346106  \n",
       "24         Side platform       NaN  121.440526  31.361410  \n",
       "25         Side platform       NaN  121.132161  31.153121  \n",
       "26         Side platform       NaN  121.434421  31.387459  \n",
       "27         Side platform       NaN  121.431087  31.398542  "
      ]
     },
     "execution_count": 1,
     "metadata": {},
     "output_type": "execute_result"
    }
   ],
   "source": [
    "import pandas as pd\n",
    "df=pd.read_csv(r'SH_1.csv')\n",
    "df"
   ]
  },
  {
   "cell_type": "markdown",
   "metadata": {},
   "source": [
    "To map the metro station of Shanghai, view the data type of combined dataframe:"
   ]
  },
  {
   "cell_type": "code",
   "execution_count": 2,
   "metadata": {},
   "outputs": [
    {
     "data": {
      "text/plain": [
       "Number              int64\n",
       "Station_Name       object\n",
       "Opened             object\n",
       "Location           object\n",
       "Platform_Level     object\n",
       "Platform_Type      object\n",
       "Transfers          object\n",
       "Longitude         float64\n",
       "Latitude          float64\n",
       "dtype: object"
      ]
     },
     "execution_count": 2,
     "metadata": {},
     "output_type": "execute_result"
    }
   ],
   "source": [
    "df.dtypes"
   ]
  },
  {
   "cell_type": "markdown",
   "metadata": {},
   "source": [
    "To map Shanghai metro station, using folium packages:"
   ]
  },
  {
   "cell_type": "code",
   "execution_count": 3,
   "metadata": {},
   "outputs": [
    {
     "data": {
      "text/html": [
       "<div style=\"width:100%;\"><div style=\"position:relative;width:100%;height:0;padding-bottom:60%;\"><span style=\"color:#565656\">Make this Notebook Trusted to load map: File -> Trust Notebook</span><iframe src=\"about:blank\" style=\"position:absolute;width:100%;height:100%;left:0;top:0;border:none !important;\" data-html=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 onload=\"this.contentDocument.open();this.contentDocument.write(atob(this.getAttribute('data-html')));this.contentDocument.close();\" allowfullscreen webkitallowfullscreen mozallowfullscreen></iframe></div></div>"
      ],
      "text/plain": [
       "<folium.folium.Map at 0x270c4ed0ef0>"
      ]
     },
     "execution_count": 3,
     "metadata": {},
     "output_type": "execute_result"
    }
   ],
   "source": [
    "import folium\n",
    "line_colors = {\n",
    "    '1':'#5DADE2',\n",
    "    '2':'#58D68D'\n",
    "}\n",
    "map_SH=folium.Map(location=[121.815090,31.157478],zoom_start=11)\n",
    "\n",
    "for line, station, lats, longs in zip(df['Number'], df['Station_Name'], df['Latitude'], df['Longitude']):\n",
    "    latlong = [float(lats), float(longs)]\n",
    "    folium.Circle(\n",
    "        latlong,\n",
    "        radius=500,\n",
    "    ).add_to(map_SH)\n",
    "    \n",
    "map_SH"
   ]
  },
  {
   "cell_type": "markdown",
   "metadata": {},
   "source": [
    "The Foursquare API is used to explore venue categories surrounding each metro station. Logging into Foursquare to create new apps, intending to obtain the client ID and secrets:"
   ]
  },
  {
   "cell_type": "code",
   "execution_count": 4,
   "metadata": {},
   "outputs": [
    {
     "data": {
      "text/plain": [
       "10"
      ]
     },
     "execution_count": 4,
     "metadata": {},
     "output_type": "execute_result"
    }
   ],
   "source": [
    "import requests\n",
    "import json\n",
    "requests.packages.urllib3.disable_warnings()\n",
    "CLIENT_ID = 'ZTFHF55AYPU1YLO0SI3UVPDNLBIWCWRGY2KNGA2LWXMGXZWF'\n",
    "CLIENT_SECRET = 'RVIYBNCFUSMQDQZDG23WVUATKTR0OMPW3ZPMVBLV44CAK040'\n",
    "VERSION = '20200603' \n",
    "categories_url = 'https://api.foursquare.com/v2/venues/categories?client_id={}&client_secret={}&v={}'.format(\n",
    "            CLIENT_ID, \n",
    "            CLIENT_SECRET, \n",
    "            VERSION)\n",
    "            \n",
    "results = requests.get(categories_url).json()\n",
    "len(results['response']['categories'])"
   ]
  },
  {
   "cell_type": "markdown",
   "metadata": {},
   "source": [
    "There are 10 top-level categories and multiple subcategories:"
   ]
  },
  {
   "cell_type": "code",
   "execution_count": 5,
   "metadata": {},
   "outputs": [
    {
     "name": "stdout",
     "output_type": "stream",
     "text": [
      "Arts & Entertainment (4d4b7104d754a06370d81259)\n",
      "College & University (4d4b7105d754a06372d81259)\n",
      "Event (4d4b7105d754a06373d81259)\n",
      "Food (4d4b7105d754a06374d81259)\n",
      "Nightlife Spot (4d4b7105d754a06376d81259)\n",
      "Outdoors & Recreation (4d4b7105d754a06377d81259)\n",
      "Professional & Other Places (4d4b7105d754a06375d81259)\n",
      "Residence (4e67e38e036454776db1fb3a)\n",
      "Shop & Service (4d4b7105d754a06378d81259)\n",
      "Travel & Transport (4d4b7105d754a06379d81259)\n"
     ]
    }
   ],
   "source": [
    "categories_list = []\n",
    "\n",
    "def print_categories(categories, level=0, max_level=0):    \n",
    "    if level>max_level: return\n",
    "    out = ''\n",
    "    out += '-'*level\n",
    "    for category in categories:\n",
    "        print(out + category['name'] + ' (' + category['id'] + ')')\n",
    "        print_categories(category['categories'], level+1, max_level)\n",
    "        categories_list.append((category['name'], category['id']))\n",
    "        \n",
    "print_categories(results['response']['categories'], 0, 0)"
   ]
  },
  {
   "cell_type": "markdown",
   "metadata": {},
   "source": [
    "Getting the number of venues under each top-level category for a station with the Foursquare API：\n",
    "The Foursquare explore API contains a categoryId that you can use to query the number of venues of each category in a specific radius around a location's coordinates. The results have a totalResults value for the specified coordinates, radius and category.\n",
    "Let's define a function get_venues_count to help us use the Foursquare API to query for the nearby venues around a station's location and copy the station coordinates data into a new dataframe, and add columns to it with the venue category names as column headers :"
   ]
  },
  {
   "cell_type": "code",
   "execution_count": 6,
   "metadata": {},
   "outputs": [],
   "source": [
    "def get_venues_count(vlat, vlng, radius, categoryId):\n",
    "    ll = \"\" +str(vlat) +\",\" +str(vlng)\n",
    "    explore_url = 'https://api.foursquare.com/v2/venues/explore?client_id={}&client_secret={}&v={}&ll={}&radius={}&categoryId={}'.format(\n",
    "                CLIENT_ID, \n",
    "                CLIENT_SECRET, \n",
    "                VERSION,\n",
    "                ll,\n",
    "                radius,\n",
    "                categoryId)\n",
    "\n",
    "    fs_req = requests.get(explore_url,verify=False)\n",
    "    fs_json = fs_req.json()\n",
    "    \n",
    "    total = 0\n",
    "    \n",
    "    if (not fs_json['response']) :\n",
    "        pass\n",
    "    else :\n",
    "        if (not fs_json['response']['totalResults']) :\n",
    "            pass\n",
    "        else :\n",
    "            total = fs_json['response']['totalResults']\n",
    "    \n",
    "    return total\n",
    "\n",
    "stations_venues_df = df.copy()\n",
    "for c in categories_list:\n",
    "    stations_venues_df[c[0]] = 0"
   ]
  },
  {
   "cell_type": "markdown",
   "metadata": {},
   "source": [
    "Test out our function a couple of times, using rows with the indices of 0 and 10, and the 'Food' category as a test parameter (since it is one of the more common venue categories)."
   ]
  },
  {
   "cell_type": "code",
   "execution_count": 7,
   "metadata": {},
   "outputs": [
    {
     "data": {
      "text/plain": [
       "1"
      ]
     },
     "execution_count": 7,
     "metadata": {},
     "output_type": "execute_result"
    }
   ],
   "source": [
    "test = get_venues_count(stations_venues_df.iloc[0]['Latitude'], stations_venues_df.iloc[0]['Longitude'], 500, categories_list[3][1])\n",
    "test"
   ]
  },
  {
   "cell_type": "code",
   "execution_count": 7,
   "metadata": {},
   "outputs": [
    {
     "data": {
      "text/plain": [
       "70"
      ]
     },
     "execution_count": 7,
     "metadata": {},
     "output_type": "execute_result"
    }
   ],
   "source": [
    "test2 = get_venues_count(stations_venues_df.iloc[10]['Latitude'], stations_venues_df.iloc[10]['Longitude'], 500, categories_list[3][1])\n",
    "test2"
   ]
  },
  {
   "cell_type": "markdown",
   "metadata": {},
   "source": [
    "Now loop through all the stations and all the 10 top-level categories to get the number of nearby venues around each location :"
   ]
  },
  {
   "cell_type": "code",
   "execution_count": 7,
   "metadata": {},
   "outputs": [],
   "source": [
    "requests.adapters.DEFAULT_RETRIES = 5\n",
    "s = requests.session()\n",
    "s.keep_alive = False"
   ]
  },
  {
   "cell_type": "code",
   "execution_count": 9,
   "metadata": {
    "scrolled": true
   },
   "outputs": [
    {
     "name": "stdout",
     "output_type": "stream",
     "text": [
      "Querying: Minhang -'莘庄'\n",
      "Querying: Minhang -'外环路'\n",
      "Querying: Minhang -'莲花路'\n",
      "Querying: Xuhui -'锦江乐园'\n",
      "Querying: Xuhui -'上海南站'\n",
      "Querying: Xuhui -'漕宝路'\n",
      "Querying: Xuhui -'上海体育馆'\n",
      "Querying: Xuhui -'徐家汇'\n",
      "Querying: Xuhui -'衡山路'\n",
      "Querying: Xuhui -'常熟路'\n",
      "Querying: Huangpu -'陕西南路'\n",
      "Querying: Huangpu -'黄陂南路'\n",
      "Querying: Huangpu -'人民广场'\n",
      "Querying: Huangpu -'新闸路'\n",
      "Querying: Jing'an -'汉中路'\n"
     ]
    },
    {
     "ename": "SSLError",
     "evalue": "HTTPSConnectionPool(host='api.foursquare.com', port=443): Max retries exceeded with url: /v2/venues/explore?client_id=ZTFHF55AYPU1YLO0SI3UVPDNLBIWCWRGY2KNGA2LWXMGXZWF&client_secret=RVIYBNCFUSMQDQZDG23WVUATKTR0OMPW3ZPMVBLV44CAK040&v=20200603&ll=31.247233,121.465207&radius=500&categoryId=4e67e38e036454776db1fb3a (Caused by SSLError(SSLError(\"bad handshake: SysCallError(10060, 'WSAETIMEDOUT')\")))",
     "output_type": "error",
     "traceback": [
      "\u001b[1;31m---------------------------------------------------------------------------\u001b[0m",
      "\u001b[1;31mSysCallError\u001b[0m                              Traceback (most recent call last)",
      "\u001b[1;32m~\\Anaconda3\\lib\\site-packages\\urllib3\\contrib\\pyopenssl.py\u001b[0m in \u001b[0;36mwrap_socket\u001b[1;34m(self, sock, server_side, do_handshake_on_connect, suppress_ragged_eofs, server_hostname)\u001b[0m\n\u001b[0;32m    455\u001b[0m             \u001b[1;32mtry\u001b[0m\u001b[1;33m:\u001b[0m\u001b[1;33m\u001b[0m\u001b[1;33m\u001b[0m\u001b[0m\n\u001b[1;32m--> 456\u001b[1;33m                 \u001b[0mcnx\u001b[0m\u001b[1;33m.\u001b[0m\u001b[0mdo_handshake\u001b[0m\u001b[1;33m(\u001b[0m\u001b[1;33m)\u001b[0m\u001b[1;33m\u001b[0m\u001b[1;33m\u001b[0m\u001b[0m\n\u001b[0m\u001b[0;32m    457\u001b[0m             \u001b[1;32mexcept\u001b[0m \u001b[0mOpenSSL\u001b[0m\u001b[1;33m.\u001b[0m\u001b[0mSSL\u001b[0m\u001b[1;33m.\u001b[0m\u001b[0mWantReadError\u001b[0m\u001b[1;33m:\u001b[0m\u001b[1;33m\u001b[0m\u001b[1;33m\u001b[0m\u001b[0m\n",
      "\u001b[1;32m~\\AppData\\Roaming\\Python\\Python37\\site-packages\\OpenSSL\\SSL.py\u001b[0m in \u001b[0;36mdo_handshake\u001b[1;34m(self)\u001b[0m\n\u001b[0;32m   1933\u001b[0m         \u001b[0mresult\u001b[0m \u001b[1;33m=\u001b[0m \u001b[0m_lib\u001b[0m\u001b[1;33m.\u001b[0m\u001b[0mSSL_do_handshake\u001b[0m\u001b[1;33m(\u001b[0m\u001b[0mself\u001b[0m\u001b[1;33m.\u001b[0m\u001b[0m_ssl\u001b[0m\u001b[1;33m)\u001b[0m\u001b[1;33m\u001b[0m\u001b[1;33m\u001b[0m\u001b[0m\n\u001b[1;32m-> 1934\u001b[1;33m         \u001b[0mself\u001b[0m\u001b[1;33m.\u001b[0m\u001b[0m_raise_ssl_error\u001b[0m\u001b[1;33m(\u001b[0m\u001b[0mself\u001b[0m\u001b[1;33m.\u001b[0m\u001b[0m_ssl\u001b[0m\u001b[1;33m,\u001b[0m \u001b[0mresult\u001b[0m\u001b[1;33m)\u001b[0m\u001b[1;33m\u001b[0m\u001b[1;33m\u001b[0m\u001b[0m\n\u001b[0m\u001b[0;32m   1935\u001b[0m \u001b[1;33m\u001b[0m\u001b[0m\n",
      "\u001b[1;32m~\\AppData\\Roaming\\Python\\Python37\\site-packages\\OpenSSL\\SSL.py\u001b[0m in \u001b[0;36m_raise_ssl_error\u001b[1;34m(self, ssl, result)\u001b[0m\n\u001b[0;32m   1662\u001b[0m                     \u001b[1;32mif\u001b[0m \u001b[0merrno\u001b[0m \u001b[1;33m!=\u001b[0m \u001b[1;36m0\u001b[0m\u001b[1;33m:\u001b[0m\u001b[1;33m\u001b[0m\u001b[1;33m\u001b[0m\u001b[0m\n\u001b[1;32m-> 1663\u001b[1;33m                         \u001b[1;32mraise\u001b[0m \u001b[0mSysCallError\u001b[0m\u001b[1;33m(\u001b[0m\u001b[0merrno\u001b[0m\u001b[1;33m,\u001b[0m \u001b[0merrorcode\u001b[0m\u001b[1;33m.\u001b[0m\u001b[0mget\u001b[0m\u001b[1;33m(\u001b[0m\u001b[0merrno\u001b[0m\u001b[1;33m)\u001b[0m\u001b[1;33m)\u001b[0m\u001b[1;33m\u001b[0m\u001b[1;33m\u001b[0m\u001b[0m\n\u001b[0m\u001b[0;32m   1664\u001b[0m                 \u001b[1;32mraise\u001b[0m \u001b[0mSysCallError\u001b[0m\u001b[1;33m(\u001b[0m\u001b[1;33m-\u001b[0m\u001b[1;36m1\u001b[0m\u001b[1;33m,\u001b[0m \u001b[1;34m\"Unexpected EOF\"\u001b[0m\u001b[1;33m)\u001b[0m\u001b[1;33m\u001b[0m\u001b[1;33m\u001b[0m\u001b[0m\n",
      "\u001b[1;31mSysCallError\u001b[0m: (10060, 'WSAETIMEDOUT')",
      "\nDuring handling of the above exception, another exception occurred:\n",
      "\u001b[1;31mSSLError\u001b[0m                                  Traceback (most recent call last)",
      "\u001b[1;32m~\\Anaconda3\\lib\\site-packages\\urllib3\\connectionpool.py\u001b[0m in \u001b[0;36murlopen\u001b[1;34m(self, method, url, body, headers, retries, redirect, assert_same_host, timeout, pool_timeout, release_conn, chunked, body_pos, **response_kw)\u001b[0m\n\u001b[0;32m    599\u001b[0m                                                   \u001b[0mbody\u001b[0m\u001b[1;33m=\u001b[0m\u001b[0mbody\u001b[0m\u001b[1;33m,\u001b[0m \u001b[0mheaders\u001b[0m\u001b[1;33m=\u001b[0m\u001b[0mheaders\u001b[0m\u001b[1;33m,\u001b[0m\u001b[1;33m\u001b[0m\u001b[1;33m\u001b[0m\u001b[0m\n\u001b[1;32m--> 600\u001b[1;33m                                                   chunked=chunked)\n\u001b[0m\u001b[0;32m    601\u001b[0m \u001b[1;33m\u001b[0m\u001b[0m\n",
      "\u001b[1;32m~\\Anaconda3\\lib\\site-packages\\urllib3\\connectionpool.py\u001b[0m in \u001b[0;36m_make_request\u001b[1;34m(self, conn, method, url, timeout, chunked, **httplib_request_kw)\u001b[0m\n\u001b[0;32m    342\u001b[0m         \u001b[1;32mtry\u001b[0m\u001b[1;33m:\u001b[0m\u001b[1;33m\u001b[0m\u001b[1;33m\u001b[0m\u001b[0m\n\u001b[1;32m--> 343\u001b[1;33m             \u001b[0mself\u001b[0m\u001b[1;33m.\u001b[0m\u001b[0m_validate_conn\u001b[0m\u001b[1;33m(\u001b[0m\u001b[0mconn\u001b[0m\u001b[1;33m)\u001b[0m\u001b[1;33m\u001b[0m\u001b[1;33m\u001b[0m\u001b[0m\n\u001b[0m\u001b[0;32m    344\u001b[0m         \u001b[1;32mexcept\u001b[0m \u001b[1;33m(\u001b[0m\u001b[0mSocketTimeout\u001b[0m\u001b[1;33m,\u001b[0m \u001b[0mBaseSSLError\u001b[0m\u001b[1;33m)\u001b[0m \u001b[1;32mas\u001b[0m \u001b[0me\u001b[0m\u001b[1;33m:\u001b[0m\u001b[1;33m\u001b[0m\u001b[1;33m\u001b[0m\u001b[0m\n",
      "\u001b[1;32m~\\Anaconda3\\lib\\site-packages\\urllib3\\connectionpool.py\u001b[0m in \u001b[0;36m_validate_conn\u001b[1;34m(self, conn)\u001b[0m\n\u001b[0;32m    838\u001b[0m         \u001b[1;32mif\u001b[0m \u001b[1;32mnot\u001b[0m \u001b[0mgetattr\u001b[0m\u001b[1;33m(\u001b[0m\u001b[0mconn\u001b[0m\u001b[1;33m,\u001b[0m \u001b[1;34m'sock'\u001b[0m\u001b[1;33m,\u001b[0m \u001b[1;32mNone\u001b[0m\u001b[1;33m)\u001b[0m\u001b[1;33m:\u001b[0m  \u001b[1;31m# AppEngine might not have  `.sock`\u001b[0m\u001b[1;33m\u001b[0m\u001b[1;33m\u001b[0m\u001b[0m\n\u001b[1;32m--> 839\u001b[1;33m             \u001b[0mconn\u001b[0m\u001b[1;33m.\u001b[0m\u001b[0mconnect\u001b[0m\u001b[1;33m(\u001b[0m\u001b[1;33m)\u001b[0m\u001b[1;33m\u001b[0m\u001b[1;33m\u001b[0m\u001b[0m\n\u001b[0m\u001b[0;32m    840\u001b[0m \u001b[1;33m\u001b[0m\u001b[0m\n",
      "\u001b[1;32m~\\Anaconda3\\lib\\site-packages\\urllib3\\connection.py\u001b[0m in \u001b[0;36mconnect\u001b[1;34m(self)\u001b[0m\n\u001b[0;32m    343\u001b[0m             \u001b[0mserver_hostname\u001b[0m\u001b[1;33m=\u001b[0m\u001b[0mserver_hostname\u001b[0m\u001b[1;33m,\u001b[0m\u001b[1;33m\u001b[0m\u001b[1;33m\u001b[0m\u001b[0m\n\u001b[1;32m--> 344\u001b[1;33m             ssl_context=context)\n\u001b[0m\u001b[0;32m    345\u001b[0m \u001b[1;33m\u001b[0m\u001b[0m\n",
      "\u001b[1;32m~\\Anaconda3\\lib\\site-packages\\urllib3\\util\\ssl_.py\u001b[0m in \u001b[0;36mssl_wrap_socket\u001b[1;34m(sock, keyfile, certfile, cert_reqs, ca_certs, server_hostname, ssl_version, ciphers, ssl_context, ca_cert_dir)\u001b[0m\n\u001b[0;32m    346\u001b[0m         \u001b[1;32mif\u001b[0m \u001b[0mHAS_SNI\u001b[0m \u001b[1;32mand\u001b[0m \u001b[0mserver_hostname\u001b[0m \u001b[1;32mis\u001b[0m \u001b[1;32mnot\u001b[0m \u001b[1;32mNone\u001b[0m\u001b[1;33m:\u001b[0m\u001b[1;33m\u001b[0m\u001b[1;33m\u001b[0m\u001b[0m\n\u001b[1;32m--> 347\u001b[1;33m             \u001b[1;32mreturn\u001b[0m \u001b[0mcontext\u001b[0m\u001b[1;33m.\u001b[0m\u001b[0mwrap_socket\u001b[0m\u001b[1;33m(\u001b[0m\u001b[0msock\u001b[0m\u001b[1;33m,\u001b[0m \u001b[0mserver_hostname\u001b[0m\u001b[1;33m=\u001b[0m\u001b[0mserver_hostname\u001b[0m\u001b[1;33m)\u001b[0m\u001b[1;33m\u001b[0m\u001b[1;33m\u001b[0m\u001b[0m\n\u001b[0m\u001b[0;32m    348\u001b[0m \u001b[1;33m\u001b[0m\u001b[0m\n",
      "\u001b[1;32m~\\Anaconda3\\lib\\site-packages\\urllib3\\contrib\\pyopenssl.py\u001b[0m in \u001b[0;36mwrap_socket\u001b[1;34m(self, sock, server_side, do_handshake_on_connect, suppress_ragged_eofs, server_hostname)\u001b[0m\n\u001b[0;32m    461\u001b[0m             \u001b[1;32mexcept\u001b[0m \u001b[0mOpenSSL\u001b[0m\u001b[1;33m.\u001b[0m\u001b[0mSSL\u001b[0m\u001b[1;33m.\u001b[0m\u001b[0mError\u001b[0m \u001b[1;32mas\u001b[0m \u001b[0me\u001b[0m\u001b[1;33m:\u001b[0m\u001b[1;33m\u001b[0m\u001b[1;33m\u001b[0m\u001b[0m\n\u001b[1;32m--> 462\u001b[1;33m                 \u001b[1;32mraise\u001b[0m \u001b[0mssl\u001b[0m\u001b[1;33m.\u001b[0m\u001b[0mSSLError\u001b[0m\u001b[1;33m(\u001b[0m\u001b[1;34m'bad handshake: %r'\u001b[0m \u001b[1;33m%\u001b[0m \u001b[0me\u001b[0m\u001b[1;33m)\u001b[0m\u001b[1;33m\u001b[0m\u001b[1;33m\u001b[0m\u001b[0m\n\u001b[0m\u001b[0;32m    463\u001b[0m             \u001b[1;32mbreak\u001b[0m\u001b[1;33m\u001b[0m\u001b[1;33m\u001b[0m\u001b[0m\n",
      "\u001b[1;31mSSLError\u001b[0m: (\"bad handshake: SysCallError(10060, 'WSAETIMEDOUT')\",)",
      "\nDuring handling of the above exception, another exception occurred:\n",
      "\u001b[1;31mMaxRetryError\u001b[0m                             Traceback (most recent call last)",
      "\u001b[1;32m~\\Anaconda3\\lib\\site-packages\\requests\\adapters.py\u001b[0m in \u001b[0;36msend\u001b[1;34m(self, request, stream, timeout, verify, cert, proxies)\u001b[0m\n\u001b[0;32m    448\u001b[0m                     \u001b[0mretries\u001b[0m\u001b[1;33m=\u001b[0m\u001b[0mself\u001b[0m\u001b[1;33m.\u001b[0m\u001b[0mmax_retries\u001b[0m\u001b[1;33m,\u001b[0m\u001b[1;33m\u001b[0m\u001b[1;33m\u001b[0m\u001b[0m\n\u001b[1;32m--> 449\u001b[1;33m                     \u001b[0mtimeout\u001b[0m\u001b[1;33m=\u001b[0m\u001b[0mtimeout\u001b[0m\u001b[1;33m\u001b[0m\u001b[1;33m\u001b[0m\u001b[0m\n\u001b[0m\u001b[0;32m    450\u001b[0m                 )\n",
      "\u001b[1;32m~\\Anaconda3\\lib\\site-packages\\urllib3\\connectionpool.py\u001b[0m in \u001b[0;36murlopen\u001b[1;34m(self, method, url, body, headers, retries, redirect, assert_same_host, timeout, pool_timeout, release_conn, chunked, body_pos, **response_kw)\u001b[0m\n\u001b[0;32m    637\u001b[0m             retries = retries.increment(method, url, error=e, _pool=self,\n\u001b[1;32m--> 638\u001b[1;33m                                         _stacktrace=sys.exc_info()[2])\n\u001b[0m\u001b[0;32m    639\u001b[0m             \u001b[0mretries\u001b[0m\u001b[1;33m.\u001b[0m\u001b[0msleep\u001b[0m\u001b[1;33m(\u001b[0m\u001b[1;33m)\u001b[0m\u001b[1;33m\u001b[0m\u001b[1;33m\u001b[0m\u001b[0m\n",
      "\u001b[1;32m~\\Anaconda3\\lib\\site-packages\\urllib3\\util\\retry.py\u001b[0m in \u001b[0;36mincrement\u001b[1;34m(self, method, url, response, error, _pool, _stacktrace)\u001b[0m\n\u001b[0;32m    398\u001b[0m         \u001b[1;32mif\u001b[0m \u001b[0mnew_retry\u001b[0m\u001b[1;33m.\u001b[0m\u001b[0mis_exhausted\u001b[0m\u001b[1;33m(\u001b[0m\u001b[1;33m)\u001b[0m\u001b[1;33m:\u001b[0m\u001b[1;33m\u001b[0m\u001b[1;33m\u001b[0m\u001b[0m\n\u001b[1;32m--> 399\u001b[1;33m             \u001b[1;32mraise\u001b[0m \u001b[0mMaxRetryError\u001b[0m\u001b[1;33m(\u001b[0m\u001b[0m_pool\u001b[0m\u001b[1;33m,\u001b[0m \u001b[0murl\u001b[0m\u001b[1;33m,\u001b[0m \u001b[0merror\u001b[0m \u001b[1;32mor\u001b[0m \u001b[0mResponseError\u001b[0m\u001b[1;33m(\u001b[0m\u001b[0mcause\u001b[0m\u001b[1;33m)\u001b[0m\u001b[1;33m)\u001b[0m\u001b[1;33m\u001b[0m\u001b[1;33m\u001b[0m\u001b[0m\n\u001b[0m\u001b[0;32m    400\u001b[0m \u001b[1;33m\u001b[0m\u001b[0m\n",
      "\u001b[1;31mMaxRetryError\u001b[0m: HTTPSConnectionPool(host='api.foursquare.com', port=443): Max retries exceeded with url: /v2/venues/explore?client_id=ZTFHF55AYPU1YLO0SI3UVPDNLBIWCWRGY2KNGA2LWXMGXZWF&client_secret=RVIYBNCFUSMQDQZDG23WVUATKTR0OMPW3ZPMVBLV44CAK040&v=20200603&ll=31.247233,121.465207&radius=500&categoryId=4e67e38e036454776db1fb3a (Caused by SSLError(SSLError(\"bad handshake: SysCallError(10060, 'WSAETIMEDOUT')\")))",
      "\nDuring handling of the above exception, another exception occurred:\n",
      "\u001b[1;31mSSLError\u001b[0m                                  Traceback (most recent call last)",
      "\u001b[1;32m<ipython-input-9-a72041666cb4>\u001b[0m in \u001b[0;36m<module>\u001b[1;34m\u001b[0m\n\u001b[0;32m      2\u001b[0m     \u001b[0mprint\u001b[0m\u001b[1;33m(\u001b[0m\u001b[1;34m\"Querying: \"\u001b[0m \u001b[1;33m+\u001b[0m\u001b[0mrow\u001b[0m\u001b[1;33m[\u001b[0m\u001b[1;36m3\u001b[0m\u001b[1;33m]\u001b[0m \u001b[1;33m+\u001b[0m\u001b[1;34m\" -'\"\u001b[0m \u001b[1;33m+\u001b[0m\u001b[0mrow\u001b[0m\u001b[1;33m[\u001b[0m\u001b[1;36m1\u001b[0m\u001b[1;33m]\u001b[0m \u001b[1;33m+\u001b[0m\u001b[1;34m\"'\"\u001b[0m\u001b[1;33m)\u001b[0m\u001b[1;33m\u001b[0m\u001b[1;33m\u001b[0m\u001b[0m\n\u001b[0;32m      3\u001b[0m     \u001b[1;32mfor\u001b[0m \u001b[0mc\u001b[0m \u001b[1;32min\u001b[0m \u001b[0mcategories_list\u001b[0m\u001b[1;33m:\u001b[0m\u001b[1;33m\u001b[0m\u001b[1;33m\u001b[0m\u001b[0m\n\u001b[1;32m----> 4\u001b[1;33m         \u001b[0mstations_venues_df\u001b[0m\u001b[1;33m.\u001b[0m\u001b[0mloc\u001b[0m\u001b[1;33m[\u001b[0m\u001b[0mi\u001b[0m\u001b[1;33m,\u001b[0m \u001b[0mc\u001b[0m\u001b[1;33m[\u001b[0m\u001b[1;36m0\u001b[0m\u001b[1;33m]\u001b[0m\u001b[1;33m]\u001b[0m \u001b[1;33m=\u001b[0m \u001b[0mget_venues_count\u001b[0m\u001b[1;33m(\u001b[0m\u001b[0mstations_venues_df\u001b[0m\u001b[1;33m.\u001b[0m\u001b[0miloc\u001b[0m\u001b[1;33m[\u001b[0m\u001b[0mi\u001b[0m\u001b[1;33m]\u001b[0m\u001b[1;33m[\u001b[0m\u001b[1;34m'Latitude'\u001b[0m\u001b[1;33m]\u001b[0m\u001b[1;33m,\u001b[0m \u001b[0mstations_venues_df\u001b[0m\u001b[1;33m.\u001b[0m\u001b[0miloc\u001b[0m\u001b[1;33m[\u001b[0m\u001b[0mi\u001b[0m\u001b[1;33m]\u001b[0m\u001b[1;33m[\u001b[0m\u001b[1;34m'Longitude'\u001b[0m\u001b[1;33m]\u001b[0m\u001b[1;33m,\u001b[0m \u001b[0mradius\u001b[0m\u001b[1;33m=\u001b[0m\u001b[1;36m500\u001b[0m\u001b[1;33m,\u001b[0m \u001b[0mcategoryId\u001b[0m\u001b[1;33m=\u001b[0m\u001b[0mc\u001b[0m\u001b[1;33m[\u001b[0m\u001b[1;36m1\u001b[0m\u001b[1;33m]\u001b[0m\u001b[1;33m)\u001b[0m\u001b[1;33m\u001b[0m\u001b[1;33m\u001b[0m\u001b[0m\n\u001b[0m\u001b[0;32m      5\u001b[0m \u001b[1;33m\u001b[0m\u001b[0m\n\u001b[0;32m      6\u001b[0m \u001b[0mprint\u001b[0m\u001b[1;33m(\u001b[0m\u001b[1;34m\"Completed queries.\"\u001b[0m\u001b[1;33m)\u001b[0m\u001b[1;33m\u001b[0m\u001b[1;33m\u001b[0m\u001b[0m\n",
      "\u001b[1;32m<ipython-input-6-83f1784e57e1>\u001b[0m in \u001b[0;36mget_venues_count\u001b[1;34m(vlat, vlng, radius, categoryId)\u001b[0m\n\u001b[0;32m      9\u001b[0m                 categoryId)\n\u001b[0;32m     10\u001b[0m \u001b[1;33m\u001b[0m\u001b[0m\n\u001b[1;32m---> 11\u001b[1;33m     \u001b[0mfs_req\u001b[0m \u001b[1;33m=\u001b[0m \u001b[0mrequests\u001b[0m\u001b[1;33m.\u001b[0m\u001b[0mget\u001b[0m\u001b[1;33m(\u001b[0m\u001b[0mexplore_url\u001b[0m\u001b[1;33m,\u001b[0m\u001b[0mverify\u001b[0m\u001b[1;33m=\u001b[0m\u001b[1;32mFalse\u001b[0m\u001b[1;33m)\u001b[0m\u001b[1;33m\u001b[0m\u001b[1;33m\u001b[0m\u001b[0m\n\u001b[0m\u001b[0;32m     12\u001b[0m     \u001b[0mfs_json\u001b[0m \u001b[1;33m=\u001b[0m \u001b[0mfs_req\u001b[0m\u001b[1;33m.\u001b[0m\u001b[0mjson\u001b[0m\u001b[1;33m(\u001b[0m\u001b[1;33m)\u001b[0m\u001b[1;33m\u001b[0m\u001b[1;33m\u001b[0m\u001b[0m\n\u001b[0;32m     13\u001b[0m \u001b[1;33m\u001b[0m\u001b[0m\n",
      "\u001b[1;32m~\\Anaconda3\\lib\\site-packages\\requests\\api.py\u001b[0m in \u001b[0;36mget\u001b[1;34m(url, params, **kwargs)\u001b[0m\n\u001b[0;32m     74\u001b[0m \u001b[1;33m\u001b[0m\u001b[0m\n\u001b[0;32m     75\u001b[0m     \u001b[0mkwargs\u001b[0m\u001b[1;33m.\u001b[0m\u001b[0msetdefault\u001b[0m\u001b[1;33m(\u001b[0m\u001b[1;34m'allow_redirects'\u001b[0m\u001b[1;33m,\u001b[0m \u001b[1;32mTrue\u001b[0m\u001b[1;33m)\u001b[0m\u001b[1;33m\u001b[0m\u001b[1;33m\u001b[0m\u001b[0m\n\u001b[1;32m---> 76\u001b[1;33m     \u001b[1;32mreturn\u001b[0m \u001b[0mrequest\u001b[0m\u001b[1;33m(\u001b[0m\u001b[1;34m'get'\u001b[0m\u001b[1;33m,\u001b[0m \u001b[0murl\u001b[0m\u001b[1;33m,\u001b[0m \u001b[0mparams\u001b[0m\u001b[1;33m=\u001b[0m\u001b[0mparams\u001b[0m\u001b[1;33m,\u001b[0m \u001b[1;33m**\u001b[0m\u001b[0mkwargs\u001b[0m\u001b[1;33m)\u001b[0m\u001b[1;33m\u001b[0m\u001b[1;33m\u001b[0m\u001b[0m\n\u001b[0m\u001b[0;32m     77\u001b[0m \u001b[1;33m\u001b[0m\u001b[0m\n\u001b[0;32m     78\u001b[0m \u001b[1;33m\u001b[0m\u001b[0m\n",
      "\u001b[1;32m~\\Anaconda3\\lib\\site-packages\\requests\\api.py\u001b[0m in \u001b[0;36mrequest\u001b[1;34m(method, url, **kwargs)\u001b[0m\n\u001b[0;32m     59\u001b[0m     \u001b[1;31m# cases, and look like a memory leak in others.\u001b[0m\u001b[1;33m\u001b[0m\u001b[1;33m\u001b[0m\u001b[1;33m\u001b[0m\u001b[0m\n\u001b[0;32m     60\u001b[0m     \u001b[1;32mwith\u001b[0m \u001b[0msessions\u001b[0m\u001b[1;33m.\u001b[0m\u001b[0mSession\u001b[0m\u001b[1;33m(\u001b[0m\u001b[1;33m)\u001b[0m \u001b[1;32mas\u001b[0m \u001b[0msession\u001b[0m\u001b[1;33m:\u001b[0m\u001b[1;33m\u001b[0m\u001b[1;33m\u001b[0m\u001b[0m\n\u001b[1;32m---> 61\u001b[1;33m         \u001b[1;32mreturn\u001b[0m \u001b[0msession\u001b[0m\u001b[1;33m.\u001b[0m\u001b[0mrequest\u001b[0m\u001b[1;33m(\u001b[0m\u001b[0mmethod\u001b[0m\u001b[1;33m=\u001b[0m\u001b[0mmethod\u001b[0m\u001b[1;33m,\u001b[0m \u001b[0murl\u001b[0m\u001b[1;33m=\u001b[0m\u001b[0murl\u001b[0m\u001b[1;33m,\u001b[0m \u001b[1;33m**\u001b[0m\u001b[0mkwargs\u001b[0m\u001b[1;33m)\u001b[0m\u001b[1;33m\u001b[0m\u001b[1;33m\u001b[0m\u001b[0m\n\u001b[0m\u001b[0;32m     62\u001b[0m \u001b[1;33m\u001b[0m\u001b[0m\n\u001b[0;32m     63\u001b[0m \u001b[1;33m\u001b[0m\u001b[0m\n",
      "\u001b[1;32m~\\Anaconda3\\lib\\site-packages\\requests\\sessions.py\u001b[0m in \u001b[0;36mrequest\u001b[1;34m(self, method, url, params, data, headers, cookies, files, auth, timeout, allow_redirects, proxies, hooks, stream, verify, cert, json)\u001b[0m\n\u001b[0;32m    528\u001b[0m         }\n\u001b[0;32m    529\u001b[0m         \u001b[0msend_kwargs\u001b[0m\u001b[1;33m.\u001b[0m\u001b[0mupdate\u001b[0m\u001b[1;33m(\u001b[0m\u001b[0msettings\u001b[0m\u001b[1;33m)\u001b[0m\u001b[1;33m\u001b[0m\u001b[1;33m\u001b[0m\u001b[0m\n\u001b[1;32m--> 530\u001b[1;33m         \u001b[0mresp\u001b[0m \u001b[1;33m=\u001b[0m \u001b[0mself\u001b[0m\u001b[1;33m.\u001b[0m\u001b[0msend\u001b[0m\u001b[1;33m(\u001b[0m\u001b[0mprep\u001b[0m\u001b[1;33m,\u001b[0m \u001b[1;33m**\u001b[0m\u001b[0msend_kwargs\u001b[0m\u001b[1;33m)\u001b[0m\u001b[1;33m\u001b[0m\u001b[1;33m\u001b[0m\u001b[0m\n\u001b[0m\u001b[0;32m    531\u001b[0m \u001b[1;33m\u001b[0m\u001b[0m\n\u001b[0;32m    532\u001b[0m         \u001b[1;32mreturn\u001b[0m \u001b[0mresp\u001b[0m\u001b[1;33m\u001b[0m\u001b[1;33m\u001b[0m\u001b[0m\n",
      "\u001b[1;32m~\\Anaconda3\\lib\\site-packages\\requests\\sessions.py\u001b[0m in \u001b[0;36msend\u001b[1;34m(self, request, **kwargs)\u001b[0m\n\u001b[0;32m    641\u001b[0m \u001b[1;33m\u001b[0m\u001b[0m\n\u001b[0;32m    642\u001b[0m         \u001b[1;31m# Send the request\u001b[0m\u001b[1;33m\u001b[0m\u001b[1;33m\u001b[0m\u001b[1;33m\u001b[0m\u001b[0m\n\u001b[1;32m--> 643\u001b[1;33m         \u001b[0mr\u001b[0m \u001b[1;33m=\u001b[0m \u001b[0madapter\u001b[0m\u001b[1;33m.\u001b[0m\u001b[0msend\u001b[0m\u001b[1;33m(\u001b[0m\u001b[0mrequest\u001b[0m\u001b[1;33m,\u001b[0m \u001b[1;33m**\u001b[0m\u001b[0mkwargs\u001b[0m\u001b[1;33m)\u001b[0m\u001b[1;33m\u001b[0m\u001b[1;33m\u001b[0m\u001b[0m\n\u001b[0m\u001b[0;32m    644\u001b[0m \u001b[1;33m\u001b[0m\u001b[0m\n\u001b[0;32m    645\u001b[0m         \u001b[1;31m# Total elapsed time of the request (approximately)\u001b[0m\u001b[1;33m\u001b[0m\u001b[1;33m\u001b[0m\u001b[1;33m\u001b[0m\u001b[0m\n",
      "\u001b[1;32m~\\Anaconda3\\lib\\site-packages\\requests\\adapters.py\u001b[0m in \u001b[0;36msend\u001b[1;34m(self, request, stream, timeout, verify, cert, proxies)\u001b[0m\n\u001b[0;32m    512\u001b[0m             \u001b[1;32mif\u001b[0m \u001b[0misinstance\u001b[0m\u001b[1;33m(\u001b[0m\u001b[0me\u001b[0m\u001b[1;33m.\u001b[0m\u001b[0mreason\u001b[0m\u001b[1;33m,\u001b[0m \u001b[0m_SSLError\u001b[0m\u001b[1;33m)\u001b[0m\u001b[1;33m:\u001b[0m\u001b[1;33m\u001b[0m\u001b[1;33m\u001b[0m\u001b[0m\n\u001b[0;32m    513\u001b[0m                 \u001b[1;31m# This branch is for urllib3 v1.22 and later.\u001b[0m\u001b[1;33m\u001b[0m\u001b[1;33m\u001b[0m\u001b[1;33m\u001b[0m\u001b[0m\n\u001b[1;32m--> 514\u001b[1;33m                 \u001b[1;32mraise\u001b[0m \u001b[0mSSLError\u001b[0m\u001b[1;33m(\u001b[0m\u001b[0me\u001b[0m\u001b[1;33m,\u001b[0m \u001b[0mrequest\u001b[0m\u001b[1;33m=\u001b[0m\u001b[0mrequest\u001b[0m\u001b[1;33m)\u001b[0m\u001b[1;33m\u001b[0m\u001b[1;33m\u001b[0m\u001b[0m\n\u001b[0m\u001b[0;32m    515\u001b[0m \u001b[1;33m\u001b[0m\u001b[0m\n\u001b[0;32m    516\u001b[0m             \u001b[1;32mraise\u001b[0m \u001b[0mConnectionError\u001b[0m\u001b[1;33m(\u001b[0m\u001b[0me\u001b[0m\u001b[1;33m,\u001b[0m \u001b[0mrequest\u001b[0m\u001b[1;33m=\u001b[0m\u001b[0mrequest\u001b[0m\u001b[1;33m)\u001b[0m\u001b[1;33m\u001b[0m\u001b[1;33m\u001b[0m\u001b[0m\n",
      "\u001b[1;31mSSLError\u001b[0m: HTTPSConnectionPool(host='api.foursquare.com', port=443): Max retries exceeded with url: /v2/venues/explore?client_id=ZTFHF55AYPU1YLO0SI3UVPDNLBIWCWRGY2KNGA2LWXMGXZWF&client_secret=RVIYBNCFUSMQDQZDG23WVUATKTR0OMPW3ZPMVBLV44CAK040&v=20200603&ll=31.247233,121.465207&radius=500&categoryId=4e67e38e036454776db1fb3a (Caused by SSLError(SSLError(\"bad handshake: SysCallError(10060, 'WSAETIMEDOUT')\")))"
     ]
    }
   ],
   "source": [
    "for i, row in stations_venues_df.iterrows():\n",
    "    print(\"Querying: \" +row[3] +\" -'\" +row[1] +\"'\")\n",
    "    for c in categories_list:        \n",
    "        stations_venues_df.loc[i, c[0]] = get_venues_count(stations_venues_df.iloc[i]['Latitude'], stations_venues_df.iloc[i]['Longitude'], radius=500, categoryId=c[1])\n",
    "\n",
    "print(\"Completed queries.\")\n",
    "stations_venues_df.to_csv('SH_stations_venues.csv', index=False)\n",
    "print(\"Results saved to .csv file.\")"
   ]
  },
  {
   "cell_type": "markdown",
   "metadata": {},
   "source": [
    "View the latest dataframe:"
   ]
  },
  {
   "cell_type": "code",
   "execution_count": 10,
   "metadata": {},
   "outputs": [
    {
     "data": {
      "text/html": [
       "<div>\n",
       "<style scoped>\n",
       "    .dataframe tbody tr th:only-of-type {\n",
       "        vertical-align: middle;\n",
       "    }\n",
       "\n",
       "    .dataframe tbody tr th {\n",
       "        vertical-align: top;\n",
       "    }\n",
       "\n",
       "    .dataframe thead th {\n",
       "        text-align: right;\n",
       "    }\n",
       "</style>\n",
       "<table border=\"1\" class=\"dataframe\">\n",
       "  <thead>\n",
       "    <tr style=\"text-align: right;\">\n",
       "      <th></th>\n",
       "      <th>Number</th>\n",
       "      <th>Station_Name</th>\n",
       "      <th>Opened</th>\n",
       "      <th>Location</th>\n",
       "      <th>Platform_Level</th>\n",
       "      <th>Platform_Type</th>\n",
       "      <th>Transfers</th>\n",
       "      <th>Longitude</th>\n",
       "      <th>Latitude</th>\n",
       "      <th>Arts &amp; Entertainment</th>\n",
       "      <th>College &amp; University</th>\n",
       "      <th>Event</th>\n",
       "      <th>Food</th>\n",
       "      <th>Nightlife Spot</th>\n",
       "      <th>Outdoors &amp; Recreation</th>\n",
       "      <th>Professional &amp; Other Places</th>\n",
       "      <th>Residence</th>\n",
       "      <th>Shop &amp; Service</th>\n",
       "      <th>Travel &amp; Transport</th>\n",
       "    </tr>\n",
       "  </thead>\n",
       "  <tbody>\n",
       "    <tr>\n",
       "      <th>0</th>\n",
       "      <td>1</td>\n",
       "      <td>莘庄</td>\n",
       "      <td>1996年12月28日</td>\n",
       "      <td>Minhang</td>\n",
       "      <td>At-grade</td>\n",
       "      <td>Side platform</td>\n",
       "      <td>5</td>\n",
       "      <td>121.392186</td>\n",
       "      <td>31.116872</td>\n",
       "      <td>0</td>\n",
       "      <td>0</td>\n",
       "      <td>0</td>\n",
       "      <td>1</td>\n",
       "      <td>0</td>\n",
       "      <td>1</td>\n",
       "      <td>1</td>\n",
       "      <td>0</td>\n",
       "      <td>0</td>\n",
       "      <td>1</td>\n",
       "    </tr>\n",
       "    <tr>\n",
       "      <th>1</th>\n",
       "      <td>1</td>\n",
       "      <td>外环路</td>\n",
       "      <td>1996年12月28日</td>\n",
       "      <td>Minhang</td>\n",
       "      <td>At-grade</td>\n",
       "      <td>Side platform</td>\n",
       "      <td>NaN</td>\n",
       "      <td>121.399614</td>\n",
       "      <td>31.126649</td>\n",
       "      <td>0</td>\n",
       "      <td>0</td>\n",
       "      <td>0</td>\n",
       "      <td>2</td>\n",
       "      <td>1</td>\n",
       "      <td>1</td>\n",
       "      <td>5</td>\n",
       "      <td>0</td>\n",
       "      <td>2</td>\n",
       "      <td>1</td>\n",
       "    </tr>\n",
       "    <tr>\n",
       "      <th>2</th>\n",
       "      <td>1</td>\n",
       "      <td>莲花路</td>\n",
       "      <td>1996年12月28日</td>\n",
       "      <td>Minhang</td>\n",
       "      <td>At-grade</td>\n",
       "      <td>Side platform</td>\n",
       "      <td>NaN</td>\n",
       "      <td>121.409334</td>\n",
       "      <td>31.136734</td>\n",
       "      <td>0</td>\n",
       "      <td>0</td>\n",
       "      <td>0</td>\n",
       "      <td>6</td>\n",
       "      <td>2</td>\n",
       "      <td>0</td>\n",
       "      <td>3</td>\n",
       "      <td>0</td>\n",
       "      <td>4</td>\n",
       "      <td>0</td>\n",
       "    </tr>\n",
       "    <tr>\n",
       "      <th>3</th>\n",
       "      <td>1</td>\n",
       "      <td>锦江乐园</td>\n",
       "      <td>1996年12月28日</td>\n",
       "      <td>Xuhui</td>\n",
       "      <td>At-grade</td>\n",
       "      <td>Side platform</td>\n",
       "      <td>NaN</td>\n",
       "      <td>121.415479</td>\n",
       "      <td>31.145542</td>\n",
       "      <td>0</td>\n",
       "      <td>0</td>\n",
       "      <td>0</td>\n",
       "      <td>4</td>\n",
       "      <td>1</td>\n",
       "      <td>0</td>\n",
       "      <td>3</td>\n",
       "      <td>0</td>\n",
       "      <td>3</td>\n",
       "      <td>1</td>\n",
       "    </tr>\n",
       "    <tr>\n",
       "      <th>4</th>\n",
       "      <td>1</td>\n",
       "      <td>上海南站</td>\n",
       "      <td>2004年10月30日</td>\n",
       "      <td>Xuhui</td>\n",
       "      <td>Underground</td>\n",
       "      <td>Island platform</td>\n",
       "      <td>3</td>\n",
       "      <td>121.435865</td>\n",
       "      <td>31.159439</td>\n",
       "      <td>0</td>\n",
       "      <td>1</td>\n",
       "      <td>0</td>\n",
       "      <td>3</td>\n",
       "      <td>0</td>\n",
       "      <td>0</td>\n",
       "      <td>4</td>\n",
       "      <td>0</td>\n",
       "      <td>3</td>\n",
       "      <td>2</td>\n",
       "    </tr>\n",
       "  </tbody>\n",
       "</table>\n",
       "</div>"
      ],
      "text/plain": [
       "   Number Station_Name       Opened Location Platform_Level    Platform_Type  \\\n",
       "0       1           莘庄  1996年12月28日  Minhang       At-grade    Side platform   \n",
       "1       1          外环路  1996年12月28日  Minhang       At-grade   Side platform    \n",
       "2       1          莲花路  1996年12月28日  Minhang       At-grade    Side platform   \n",
       "3       1         锦江乐园  1996年12月28日    Xuhui       At-grade    Side platform   \n",
       "4       1         上海南站  2004年10月30日    Xuhui    Underground  Island platform   \n",
       "\n",
       "  Transfers   Longitude   Latitude  Arts & Entertainment  \\\n",
       "0         5  121.392186  31.116872                     0   \n",
       "1       NaN  121.399614  31.126649                     0   \n",
       "2       NaN  121.409334  31.136734                     0   \n",
       "3       NaN  121.415479  31.145542                     0   \n",
       "4         3  121.435865  31.159439                     0   \n",
       "\n",
       "   College & University  Event  Food  Nightlife Spot  Outdoors & Recreation  \\\n",
       "0                     0      0     1               0                      1   \n",
       "1                     0      0     2               1                      1   \n",
       "2                     0      0     6               2                      0   \n",
       "3                     0      0     4               1                      0   \n",
       "4                     1      0     3               0                      0   \n",
       "\n",
       "   Professional & Other Places  Residence  Shop & Service  Travel & Transport  \n",
       "0                            1          0               0                   1  \n",
       "1                            5          0               2                   1  \n",
       "2                            3          0               4                   0  \n",
       "3                            3          0               3                   1  \n",
       "4                            4          0               3                   2  "
      ]
     },
     "execution_count": 10,
     "metadata": {},
     "output_type": "execute_result"
    }
   ],
   "source": [
    "stations_venues_df.head()"
   ]
  },
  {
   "cell_type": "markdown",
   "metadata": {},
   "source": [
    "Plot the number of venues as boxplots :"
   ]
  },
  {
   "cell_type": "code",
   "execution_count": 12,
   "metadata": {},
   "outputs": [
    {
     "name": "stdout",
     "output_type": "stream",
     "text": [
      "['Arts & Entertainment', 'College & University', 'Event', 'Food', 'Nightlife Spot', 'Outdoors & Recreation', 'Professional & Other Places', 'Residence', 'Shop & Service', 'Travel & Transport']\n"
     ]
    }
   ],
   "source": [
    "print([c[0] for c in categories_list])"
   ]
  },
  {
   "cell_type": "code",
   "execution_count": 14,
   "metadata": {},
   "outputs": [
    {
     "data": {
      "image/png": "[encoded data removed]",
      "text/plain": [
       "<Figure size 1440x720 with 1 Axes>"
      ]
     },
     "metadata": {
      "needs_background": "light"
     },
     "output_type": "display_data"
    }
   ],
   "source": [
    "import matplotlib.pyplot as plt\n",
    "import seaborn as sns\n",
    "plt.figure(figsize=(20, 10))\n",
    "plt.xticks(rotation='vertical')\n",
    "sns.boxplot\n",
    "\n",
    "ax = sns.boxplot(data = stations_venues_df[[c[0] for c in categories_list]])\n",
    "ax.set_ylabel('Count of venues', fontsize=25)\n",
    "ax.set_xlabel('Venue category', fontsize=25)\n",
    "ax.tick_params(labelsize=20)\n",
    "plt.xticks(rotation=45, ha='right')\n",
    "\n",
    "plt.show()"
   ]
  },
  {
   "cell_type": "markdown",
   "metadata": {},
   "source": [
    "It looks like the most frequent venue categories are Shop&Service, Professional&OtherPlaces, Travel&Transport, and Food. Event has very little data, so let's discard it from both the dataframe and the list of categories."
   ]
  },
  {
   "cell_type": "code",
   "execution_count": 15,
   "metadata": {},
   "outputs": [],
   "source": [
    "stations_venues_df.drop('Event', 1, inplace=True)"
   ]
  },
  {
   "cell_type": "code",
   "execution_count": 16,
   "metadata": {},
   "outputs": [],
   "source": [
    "categories_list = list(filter(lambda x: x[0] != 'Event', categories_list))"
   ]
  },
  {
   "cell_type": "markdown",
   "metadata": {},
   "source": [
    "Let's normalize the data using MinMaxScaler (scale from 0 to 1). This scales the data and provides an easy to interpret score at the same time and separate the columns to be normalized from the rest of the data :"
   ]
  },
  {
   "cell_type": "code",
   "execution_count": 17,
   "metadata": {},
   "outputs": [
    {
     "data": {
      "text/html": [
       "<div>\n",
       "<style scoped>\n",
       "    .dataframe tbody tr th:only-of-type {\n",
       "        vertical-align: middle;\n",
       "    }\n",
       "\n",
       "    .dataframe tbody tr th {\n",
       "        vertical-align: top;\n",
       "    }\n",
       "\n",
       "    .dataframe thead th {\n",
       "        text-align: right;\n",
       "    }\n",
       "</style>\n",
       "<table border=\"1\" class=\"dataframe\">\n",
       "  <thead>\n",
       "    <tr style=\"text-align: right;\">\n",
       "      <th></th>\n",
       "      <th>Arts &amp; Entertainment</th>\n",
       "      <th>College &amp; University</th>\n",
       "      <th>Food</th>\n",
       "      <th>Nightlife Spot</th>\n",
       "      <th>Outdoors &amp; Recreation</th>\n",
       "      <th>Professional &amp; Other Places</th>\n",
       "      <th>Residence</th>\n",
       "      <th>Shop &amp; Service</th>\n",
       "      <th>Travel &amp; Transport</th>\n",
       "    </tr>\n",
       "  </thead>\n",
       "  <tbody>\n",
       "    <tr>\n",
       "      <th>0</th>\n",
       "      <td>0</td>\n",
       "      <td>0</td>\n",
       "      <td>1</td>\n",
       "      <td>0</td>\n",
       "      <td>1</td>\n",
       "      <td>1</td>\n",
       "      <td>0</td>\n",
       "      <td>0</td>\n",
       "      <td>1</td>\n",
       "    </tr>\n",
       "    <tr>\n",
       "      <th>1</th>\n",
       "      <td>0</td>\n",
       "      <td>0</td>\n",
       "      <td>2</td>\n",
       "      <td>1</td>\n",
       "      <td>1</td>\n",
       "      <td>5</td>\n",
       "      <td>0</td>\n",
       "      <td>2</td>\n",
       "      <td>1</td>\n",
       "    </tr>\n",
       "    <tr>\n",
       "      <th>2</th>\n",
       "      <td>0</td>\n",
       "      <td>0</td>\n",
       "      <td>6</td>\n",
       "      <td>2</td>\n",
       "      <td>0</td>\n",
       "      <td>3</td>\n",
       "      <td>0</td>\n",
       "      <td>4</td>\n",
       "      <td>0</td>\n",
       "    </tr>\n",
       "    <tr>\n",
       "      <th>3</th>\n",
       "      <td>0</td>\n",
       "      <td>0</td>\n",
       "      <td>4</td>\n",
       "      <td>1</td>\n",
       "      <td>0</td>\n",
       "      <td>3</td>\n",
       "      <td>0</td>\n",
       "      <td>3</td>\n",
       "      <td>1</td>\n",
       "    </tr>\n",
       "    <tr>\n",
       "      <th>4</th>\n",
       "      <td>0</td>\n",
       "      <td>1</td>\n",
       "      <td>3</td>\n",
       "      <td>0</td>\n",
       "      <td>0</td>\n",
       "      <td>4</td>\n",
       "      <td>0</td>\n",
       "      <td>3</td>\n",
       "      <td>2</td>\n",
       "    </tr>\n",
       "  </tbody>\n",
       "</table>\n",
       "</div>"
      ],
      "text/plain": [
       "   Arts & Entertainment  College & University  Food  Nightlife Spot  \\\n",
       "0                     0                     0     1               0   \n",
       "1                     0                     0     2               1   \n",
       "2                     0                     0     6               2   \n",
       "3                     0                     0     4               1   \n",
       "4                     0                     1     3               0   \n",
       "\n",
       "   Outdoors & Recreation  Professional & Other Places  Residence  \\\n",
       "0                      1                            1          0   \n",
       "1                      1                            5          0   \n",
       "2                      0                            3          0   \n",
       "3                      0                            3          0   \n",
       "4                      0                            4          0   \n",
       "\n",
       "   Shop & Service  Travel & Transport  \n",
       "0               0                   1  \n",
       "1               2                   1  \n",
       "2               4                   0  \n",
       "3               3                   1  \n",
       "4               3                   2  "
      ]
     },
     "execution_count": 17,
     "metadata": {},
     "output_type": "execute_result"
    }
   ],
   "source": [
    "venues_df = stations_venues_df[[c[0] for c in categories_list]]\n",
    "venues_df.head()"
   ]
  },
  {
   "cell_type": "markdown",
   "metadata": {},
   "source": [
    "Now normalize each column in the dataframe venues_df :"
   ]
  },
  {
   "cell_type": "code",
   "execution_count": 18,
   "metadata": {},
   "outputs": [],
   "source": [
    "from sklearn.preprocessing import MinMaxScaler\n",
    "\n",
    "X = venues_df\n",
    "cluster_dataset = MinMaxScaler().fit_transform(X)"
   ]
  },
  {
   "cell_type": "markdown",
   "metadata": {},
   "source": [
    "Place the results into a dataframe, cluster_df, and take a quick peek the results :"
   ]
  },
  {
   "cell_type": "code",
   "execution_count": 19,
   "metadata": {},
   "outputs": [
    {
     "data": {
      "text/html": [
       "<div>\n",
       "<style scoped>\n",
       "    .dataframe tbody tr th:only-of-type {\n",
       "        vertical-align: middle;\n",
       "    }\n",
       "\n",
       "    .dataframe tbody tr th {\n",
       "        vertical-align: top;\n",
       "    }\n",
       "\n",
       "    .dataframe thead th {\n",
       "        text-align: right;\n",
       "    }\n",
       "</style>\n",
       "<table border=\"1\" class=\"dataframe\">\n",
       "  <thead>\n",
       "    <tr style=\"text-align: right;\">\n",
       "      <th></th>\n",
       "      <th>Arts &amp; Entertainment</th>\n",
       "      <th>College &amp; University</th>\n",
       "      <th>Food</th>\n",
       "      <th>Nightlife Spot</th>\n",
       "      <th>Outdoors &amp; Recreation</th>\n",
       "      <th>Professional &amp; Other Places</th>\n",
       "      <th>Residence</th>\n",
       "      <th>Shop &amp; Service</th>\n",
       "      <th>Travel &amp; Transport</th>\n",
       "    </tr>\n",
       "  </thead>\n",
       "  <tbody>\n",
       "    <tr>\n",
       "      <th>0</th>\n",
       "      <td>0.0</td>\n",
       "      <td>0.000000</td>\n",
       "      <td>0.010309</td>\n",
       "      <td>0.000000</td>\n",
       "      <td>0.111111</td>\n",
       "      <td>0.030303</td>\n",
       "      <td>0.0</td>\n",
       "      <td>0.000000</td>\n",
       "      <td>0.035714</td>\n",
       "    </tr>\n",
       "    <tr>\n",
       "      <th>1</th>\n",
       "      <td>0.0</td>\n",
       "      <td>0.000000</td>\n",
       "      <td>0.020619</td>\n",
       "      <td>0.041667</td>\n",
       "      <td>0.111111</td>\n",
       "      <td>0.151515</td>\n",
       "      <td>0.0</td>\n",
       "      <td>0.041667</td>\n",
       "      <td>0.035714</td>\n",
       "    </tr>\n",
       "    <tr>\n",
       "      <th>2</th>\n",
       "      <td>0.0</td>\n",
       "      <td>0.000000</td>\n",
       "      <td>0.061856</td>\n",
       "      <td>0.083333</td>\n",
       "      <td>0.000000</td>\n",
       "      <td>0.090909</td>\n",
       "      <td>0.0</td>\n",
       "      <td>0.083333</td>\n",
       "      <td>0.000000</td>\n",
       "    </tr>\n",
       "    <tr>\n",
       "      <th>3</th>\n",
       "      <td>0.0</td>\n",
       "      <td>0.000000</td>\n",
       "      <td>0.041237</td>\n",
       "      <td>0.041667</td>\n",
       "      <td>0.000000</td>\n",
       "      <td>0.090909</td>\n",
       "      <td>0.0</td>\n",
       "      <td>0.062500</td>\n",
       "      <td>0.035714</td>\n",
       "    </tr>\n",
       "    <tr>\n",
       "      <th>4</th>\n",
       "      <td>0.0</td>\n",
       "      <td>0.166667</td>\n",
       "      <td>0.030928</td>\n",
       "      <td>0.000000</td>\n",
       "      <td>0.000000</td>\n",
       "      <td>0.121212</td>\n",
       "      <td>0.0</td>\n",
       "      <td>0.062500</td>\n",
       "      <td>0.071429</td>\n",
       "    </tr>\n",
       "  </tbody>\n",
       "</table>\n",
       "</div>"
      ],
      "text/plain": [
       "   Arts & Entertainment  College & University      Food  Nightlife Spot  \\\n",
       "0                   0.0              0.000000  0.010309        0.000000   \n",
       "1                   0.0              0.000000  0.020619        0.041667   \n",
       "2                   0.0              0.000000  0.061856        0.083333   \n",
       "3                   0.0              0.000000  0.041237        0.041667   \n",
       "4                   0.0              0.166667  0.030928        0.000000   \n",
       "\n",
       "   Outdoors & Recreation  Professional & Other Places  Residence  \\\n",
       "0               0.111111                     0.030303        0.0   \n",
       "1               0.111111                     0.151515        0.0   \n",
       "2               0.000000                     0.090909        0.0   \n",
       "3               0.000000                     0.090909        0.0   \n",
       "4               0.000000                     0.121212        0.0   \n",
       "\n",
       "   Shop & Service  Travel & Transport  \n",
       "0        0.000000            0.035714  \n",
       "1        0.041667            0.035714  \n",
       "2        0.083333            0.000000  \n",
       "3        0.062500            0.035714  \n",
       "4        0.062500            0.071429  "
      ]
     },
     "execution_count": 19,
     "metadata": {},
     "output_type": "execute_result"
    }
   ],
   "source": [
    "cluster_df = pd.DataFrame(cluster_dataset)\n",
    "cluster_df.columns = [c[0] for c in categories_list]\n",
    "cluster_df.head()"
   ]
  },
  {
   "cell_type": "markdown",
   "metadata": {},
   "source": [
    "Visualize the scaled data :"
   ]
  },
  {
   "cell_type": "code",
   "execution_count": 20,
   "metadata": {},
   "outputs": [
    {
     "data": {
      "image/png": "[encoded data removed]",
      "text/plain": [
       "<Figure size 1440x720 with 1 Axes>"
      ]
     },
     "metadata": {
      "needs_background": "light"
     },
     "output_type": "display_data"
    }
   ],
   "source": [
    "plt.figure(figsize=(20, 10))\n",
    "#plt.xticks(rotation='vertical')\n",
    "sns.boxplot\n",
    "\n",
    "ax = sns.boxplot(data = cluster_df)\n",
    "ax.set_ylabel('Count of venues (relative)', fontsize=25)\n",
    "ax.set_xlabel('Venue category', fontsize=25)\n",
    "ax.tick_params(labelsize=20)\n",
    "plt.xticks(rotation=45, ha='right')\n",
    "\n",
    "plt.show()"
   ]
  },
  {
   "cell_type": "code",
   "execution_count": 21,
   "metadata": {},
   "outputs": [],
   "source": [
    "cluster_df.to_csv('SH_normalized_metro_venues.csv', index=False)"
   ]
  },
  {
   "cell_type": "markdown",
   "metadata": {},
   "source": [
    "Methodology"
   ]
  },
  {
   "cell_type": "markdown",
   "metadata": {},
   "source": [
    "Our classifier will use K-Means Clustering. Using different numbers of clusters, the initial results can be seen below :\n",
    "    2 clusters divided the area into just the downtown central area and the outer city surrounding area\n",
    "    3 clusters yield the most intuitive result consisting of high density areas, medium venue density areas, and low density suburbs\n",
    "    4 or more clusters are difficult to interpret, or need a more in-depth analysis to explain the cluster results\n",
    "For the scope of this class project, we will use 3 clusters in our analysis."
   ]
  },
  {
   "cell_type": "code",
   "execution_count": 22,
   "metadata": {},
   "outputs": [],
   "source": [
    "from sklearn.cluster import KMeans\n",
    "kclusters = 3\n",
    "\n",
    "kmeans = KMeans(n_clusters=kclusters, random_state=0).fit(cluster_df)\n",
    "\n",
    "kmeans_labels = kmeans.labels_\n",
    "replace_labels = {0:2, 1:1, 2:0}\n",
    "for i in range(len(kmeans_labels)):\n",
    "    kmeans_labels[i] = replace_labels[kmeans_labels[i]]\n",
    "\n",
    "stations_clusters_df = stations_venues_df.copy()\n",
    "stations_clusters_df['Cluster'] = kmeans_labels\n",
    "stations_clusters_minmax_df = cluster_df.copy()\n",
    "stations_clusters_minmax_df['Cluster'] = kmeans_labels\n",
    "stations_clusters_minmax_df['Station_Name'] = stations_venues_df['Station_Name']"
   ]
  },
  {
   "cell_type": "markdown",
   "metadata": {},
   "source": [
    "Use boxplots to view the classified clusters :"
   ]
  },
  {
   "cell_type": "code",
   "execution_count": 23,
   "metadata": {},
   "outputs": [
    {
     "data": {
      "image/png": "[encoded data removed]",
      "text/plain": [
       "<Figure size 1440x720 with 3 Axes>"
      ]
     },
     "metadata": {
      "needs_background": "light"
     },
     "output_type": "display_data"
    }
   ],
   "source": [
    "import matplotlib.ticker as ticker\n",
    "\n",
    "fig, axes = plt.subplots(1, kclusters, figsize=(20, 10), sharey=True)\n",
    "\n",
    "axes[0].set_ylabel('Count of venues (relative)', fontsize=25)\n",
    "\n",
    "for k in range(kclusters):\n",
    "    axes[k].set_ylim(0,1.1)\n",
    "    axes[k].xaxis.set_label_position('top')\n",
    "    axes[k].set_xlabel('Cluster ' + str(k), fontsize=25)\n",
    "    axes[k].tick_params(labelsize=20)\n",
    "    plt.sca(axes[k])\n",
    "    plt.xticks(rotation='vertical')\n",
    "    sns.boxplot(data = stations_clusters_minmax_df[stations_clusters_minmax_df['Cluster'] == k].drop('Cluster',1), ax=axes[k])\n",
    "\n",
    "plt.show()"
   ]
  },
  {
   "cell_type": "markdown",
   "metadata": {},
   "source": [
    "Draw the clustered locations onto a map of Shanghai. We will use 3 colors for the 3 classified clusters. The clickable popup for each station will show the top 3 venue categories surrounding that area."
   ]
  },
  {
   "cell_type": "code",
   "execution_count": 24,
   "metadata": {},
   "outputs": [
    {
     "data": {
      "text/html": [
       "<div style=\"width:100%;\"><div style=\"position:relative;width:100%;height:0;padding-bottom:60%;\"><span style=\"color:#565656\">Make this Notebook Trusted to load map: File -> Trust Notebook</span><iframe src=\"about:blank\" style=\"position:absolute;width:100%;height:100%;left:0;top:0;border:none !important;\" data-html=PCFET0NUWVBFIGh0bWw+CjxoZWFkPiAgICAKICAgIDxtZXRhIGh0dHAtZXF1aXY9ImNvbnRlbnQtdHlwZSIgY29udGVudD0idGV4dC9odG1sOyBjaGFyc2V0PVVURi04IiAvPgogICAgCiAgICAgICAgPHNjcmlwdD4KICAgICAgICAgICAgTF9OT19UT1VDSCA9IGZhbHNlOwogICAgICAgICAgICBMX0RJU0FCTEVfM0QgPSBmYWxzZTsKICAgICAgICA8L3NjcmlwdD4KICAgIAogICAgPHNjcmlwdCBzcmM9Imh0dHBzOi8vY2RuLmpzZGVsaXZyLm5ldC9ucG0vbGVhZmxldEAxLjYuMC9kaXN0L2xlYWZsZXQuanMiPjwvc2NyaXB0PgogICAgPHNjcmlwdCBzcmM9Imh0dHBzOi8vY29kZS5qcXVlcnkuY29tL2pxdWVyeS0xLjEyLjQubWluLmpzIj48L3NjcmlwdD4KICAgIDxzY3JpcHQgc3JjPSJodHRwczovL21heGNkbi5ib290c3RyYXBjZG4uY29tL2Jvb3RzdHJhcC8zLjIuMC9qcy9ib290c3RyYXAubWluLmpzIj48L3NjcmlwdD4KICAgIDxzY3JpcHQgc3JjPSJodHRwczovL2NkbmpzLmNsb3VkZmxhcmUuY29tL2FqYXgvbGlicy9MZWFmbGV0LmF3ZXNvbWUtbWFya2Vycy8yLjAuMi9sZWFmbGV0LmF3ZXNvbWUtbWFya2Vycy5qcyI+PC9zY3JpcHQ+CiAgICA8bGluayByZWw9InN0eWxlc2hlZXQiIGhyZWY9Imh0dHBzOi8vY2RuLmpzZGVsaXZyLm5ldC9ucG0vbGVhZmxldEAxLjYuMC9kaXN0L2xlYWZsZXQuY3NzIi8+CiAgICA8bGluayByZWw9InN0eWxlc2hlZXQiIGhyZWY9Imh0dHBzOi8vbWF4Y2RuLmJvb3RzdHJhcGNkbi5jb20vYm9vdHN0cmFwLzMuMi4wL2Nzcy9ib290c3RyYXAubWluLmNzcyIvPgogICAgPGxpbmsgcmVsPSJzdHlsZXNoZWV0IiBocmVmPSJodHRwczovL21heGNkbi5ib290c3RyYXBjZG4uY29tL2Jvb3RzdHJhcC8zLjIuMC9jc3MvYm9vdHN0cmFwLXRoZW1lLm1pbi5jc3MiLz4KICAgIDxsaW5rIHJlbD0ic3R5bGVzaGVldCIgaHJlZj0iaHR0cHM6Ly9tYXhjZG4uYm9vdHN0cmFwY2RuLmNvbS9mb250LWF3ZXNvbWUvNC42LjMvY3NzL2ZvbnQtYXdlc29tZS5taW4uY3NzIi8+CiAgICA8bGluayByZWw9InN0eWxlc2hlZXQiIGhyZWY9Imh0dHBzOi8vY2RuanMuY2xvdWRmbGFyZS5jb20vYWpheC9saWJzL0xlYWZsZXQuYXdlc29tZS1tYXJrZXJzLzIuMC4yL2xlYWZsZXQuYXdlc29tZS1tYXJrZXJzLmNzcyIvPgogICAgPGxpbmsgcmVsPSJzdHlsZXNoZWV0IiBocmVmPSJodHRwczovL3Jhd2Nkbi5naXRoYWNrLmNvbS9weXRob24tdmlzdWFsaXphdGlvbi9mb2xpdW0vbWFzdGVyL2ZvbGl1bS90ZW1wbGF0ZXMvbGVhZmxldC5hd2Vzb21lLnJvdGF0ZS5jc3MiLz4KICAgIDxzdHlsZT5odG1sLCBib2R5IHt3aWR0aDogMTAwJTtoZWlnaHQ6IDEwMCU7bWFyZ2luOiAwO3BhZGRpbmc6IDA7fTwvc3R5bGU+CiAgICA8c3R5bGU+I21hcCB7cG9zaXRpb246YWJzb2x1dGU7dG9wOjA7Ym90dG9tOjA7cmlnaHQ6MDtsZWZ0OjA7fTwvc3R5bGU+CiAgICAKICAgICAgICAgICAgPG1ldGEgbmFtZT0idmlld3BvcnQiIGNvbnRlbnQ9IndpZHRoPWRldmljZS13aWR0aCwKICAgICAgICAgICAgICAgIGluaXRpYWwtc2NhbGU9MS4wLCBtYXhpbXVtLXNjYWxlPTEuMCwgdXNlci1zY2FsYWJsZT1ubyIgLz4KICAgICAgICAgICAgPHN0eWxlPgogICAgICAgICAgICAgICAgI21hcF9jZDk3Yjk0OWFkMjE0OGFkYmEwZDY1ZDBhY2RlYWM0ZiB7CiAgICAgICAgICAgICAgICAgICAgcG9zaXRpb246IHJlbGF0aXZlOwogICAgICAgICAgICAgICAgICAgIHdpZHRoOiAxMDAuMCU7CiAgICAgICAgICAgICAgICAgICAgaGVpZ2h0OiAxMDAuMCU7CiAgICAgICAgICAgICAgICAgICAgbGVmdDogMC4wJTsKICAgICAgICAgICAgICAgICAgICB0b3A6IDAuMCU7CiAgICAgICAgICAgICAgICB9CiAgICAgICAgICAgIDwvc3R5bGU+CiAgICAgICAgCjwvaGVhZD4KPGJvZHk+ICAgIAogICAgCiAgICAgICAgICAgIDxkaXYgY2xhc3M9ImZvbGl1bS1tYXAiIGlkPSJtYXBfY2Q5N2I5NDlhZDIxNDhhZGJhMGQ2NWQwYWNkZWFjNGYiID48L2Rpdj4KICAgICAgICAKPC9ib2R5Pgo8c2NyaXB0PiAgICAKICAgIAogICAgICAgICAgICB2YXIgbWFwX2NkOTdiOTQ5YWQyMTQ4YWRiYTBkNjVkMGFjZGVhYzRmID0gTC5tYXAoCiAgICAgICAgICAgICAgICAibWFwX2NkOTdiOTQ5YWQyMTQ4YWRiYTBkNjVkMGFjZGVhYzRmIiwKICAgICAgICAgICAgICAgIHsKICAgICAgICAgICAgICAgICAgICBjZW50ZXI6IFsxMjEuMzkyMTg2LCAzMS4xMTY4NzJdLAogICAgICAgICAgICAgICAgICAgIGNyczogTC5DUlMuRVBTRzM4NTcsCiAgICAgICAgICAgICAgICAgICAgem9vbTogMTEsCiAgICAgICAgICAgICAgICAgICAgem9vbUNvbnRyb2w6IHRydWUsCiAgICAgICAgICAgICAgICAgICAgcHJlZmVyQ2FudmFzOiBmYWxzZSwKICAgICAgICAgICAgICAgIH0KICAgICAgICAgICAgKTsKCiAgICAgICAgICAgIAoKICAgICAgICAKICAgIAogICAgICAgICAgICB2YXIgdGlsZV9sYXllcl82MjJkOGJhNmE1MzM0MDAxYTNiYmQ2NmI4N2YxMzZhOCA9IEwudGlsZUxheWVyKAogICAgICAgICAgICAgICAgImh0dHBzOi8ve3N9LnRpbGUub3BlbnN0cmVldG1hcC5vcmcve3p9L3t4fS97eX0ucG5nIiwKICAgICAgICAgICAgICAgIHsiYXR0cmlidXRpb24iOiAiRGF0YSBieSBcdTAwMjZjb3B5OyBcdTAwM2NhIGhyZWY9XCJodHRwOi8vb3BlbnN0cmVldG1hcC5vcmdcIlx1MDAzZU9wZW5TdHJlZXRNYXBcdTAwM2MvYVx1MDAzZSwgdW5kZXIgXHUwMDNjYSBocmVmPVwiaHR0cDovL3d3dy5vcGVuc3RyZWV0bWFwLm9yZy9jb3B5cmlnaHRcIlx1MDAzZU9EYkxcdTAwM2MvYVx1MDAzZS4iLCAiZGV0ZWN0UmV0aW5hIjogZmFsc2UsICJtYXhOYXRpdmVab29tIjogMTgsICJtYXhab29tIjogMTgsICJtaW5ab29tIjogMCwgIm5vV3JhcCI6IGZhbHNlLCAib3BhY2l0eSI6IDEsICJzdWJkb21haW5zIjogImFiYyIsICJ0bXMiOiBmYWxzZX0KICAgICAgICAgICAgKS5hZGRUbyhtYXBfY2Q5N2I5NDlhZDIxNDhhZGJhMGQ2NWQwYWNkZWFjNGYpOwogICAgICAgIAogICAgCiAgICAgICAgICAgIHZhciBjaXJjbGVfbWFya2VyXzYwZjQ5NjI5YzkxOTRhZTZhZTAzMmUyYTExYWMxN2VmID0gTC5jaXJjbGVNYXJrZXIoCiAgICAgICAgICAgICAgICBbMzEuMTE2ODcxOTk5OTk5OTk3LCAxMjEuMzkyMTg2MDAwMDAwMDFdLAogICAgICAgICAgICAgICAgeyJidWJibGluZ01vdXNlRXZlbnRzIjogdHJ1ZSwgImNvbG9yIjogImJsdWUiLCAiZGFzaEFycmF5IjogbnVsbCwgImRhc2hPZmZzZXQiOiBudWxsLCAiZmlsbCI6IHRydWUsICJmaWxsQ29sb3IiOiAiYmx1ZSIsICJmaWxsT3BhY2l0eSI6IDAuNSwgImZpbGxSdWxlIjogImV2ZW5vZGQiLCAibGluZUNhcCI6ICJyb3VuZCIsICJsaW5lSm9pbiI6ICJyb3VuZCIsICJvcGFjaXR5IjogMS4wLCAicmFkaXVzIjogNywgInN0cm9rZSI6IHRydWUsICJ3ZWlnaHQiOiAzfQogICAgICAgICAgICApLmFkZFRvKG1hcF9jZDk3Yjk0OWFkMjE0OGFkYmEwZDY1ZDBhY2RlYWM0Zik7CiAgICAgICAgCiAgICAKICAgICAgICB2YXIgcG9wdXBfZmJjMzYwZDBhMTk5NGRlMDgyZGFjZjI3NmY0OTRmOGMgPSBMLnBvcHVwKHsibWF4V2lkdGgiOiAzMDB9KTsKCiAgICAgICAgCiAgICAgICAgICAgIHZhciBodG1sXzEyYzZlN2NlMjRhOTQ4ZGZhMTBhYzhjNDFhYWU3NGExID0gJChgPGRpdiBpZD0iaHRtbF8xMmM2ZTdjZTI0YTk0OGRmYTEwYWM4YzQxYWFlNzRhMSIgc3R5bGU9IndpZHRoOiAxMDAuMCU7IGhlaWdodDogMTAwLjAlOyI+PGI+6I6Y5bqEPC9iPjxicj5DbHVzdGVyIDE8YnI+MS4gT3V0ZG9vcnMgJiBSZWNyZWF0aW9uIDAuMTE8YnI+Mi4gVHJhdmVsICYgVHJhbnNwb3J0IDAuMDQ8YnI+My4gUHJvZmVzc2lvbmFsICYgT3RoZXIgUGxhY2VzIDAuMDM8L2Rpdj5gKVswXTsKICAgICAgICAgICAgcG9wdXBfZmJjMzYwZDBhMTk5NGRlMDgyZGFjZjI3NmY0OTRmOGMuc2V0Q29udGVudChodG1sXzEyYzZlN2NlMjRhOTQ4ZGZhMTBhYzhjNDFhYWU3NGExKTsKICAgICAgICAKCiAgICAgICAgY2lyY2xlX21hcmtlcl82MGY0OTYyOWM5MTk0YWU2YWUwMzJlMmExMWFjMTdlZi5iaW5kUG9wdXAocG9wdXBfZmJjMzYwZDBhMTk5NGRlMDgyZGFjZjI3NmY0OTRmOGMpCiAgICAgICAgOwoKICAgICAgICAKICAgIAogICAgCiAgICAgICAgICAgIHZhciBjaXJjbGVfbWFya2VyXzYwOWI1ZGEzMjExMTRiNWY5MzcwZGVjMmQ1NGU3MTE5ID0gTC5jaXJjbGVNYXJrZXIoCiAgICAgICAgICAgICAgICBbMzEuMTI2NjQ5LCAxMjEuMzk5NjEzOTk5OTk5OTldLAogICAgICAgICAgICAgICAgeyJidWJibGluZ01vdXNlRXZlbnRzIjogdHJ1ZSwgImNvbG9yIjogImJsdWUiLCAiZGFzaEFycmF5IjogbnVsbCwgImRhc2hPZmZzZXQiOiBudWxsLCAiZmlsbCI6IHRydWUsICJmaWxsQ29sb3IiOiAiYmx1ZSIsICJmaWxsT3BhY2l0eSI6IDAuNSwgImZpbGxSdWxlIjogImV2ZW5vZGQiLCAibGluZUNhcCI6ICJyb3VuZCIsICJsaW5lSm9pbiI6ICJyb3VuZCIsICJvcGFjaXR5IjogMS4wLCAicmFkaXVzIjogNywgInN0cm9rZSI6IHRydWUsICJ3ZWlnaHQiOiAzfQogICAgICAgICAgICApLmFkZFRvKG1hcF9jZDk3Yjk0OWFkMjE0OGFkYmEwZDY1ZDBhY2RlYWM0Zik7CiAgICAgICAgCiAgICAKICAgICAgICB2YXIgcG9wdXBfOTIwNjc1ODBkZWRmNDliMmI4MDEyN2U1ZWYxNDlhMGMgPSBMLnBvcHVwKHsibWF4V2lkdGgiOiAzMDB9KTsKCiAgICAgICAgCiAgICAgICAgICAgIHZhciBodG1sXzZiNTFhOTI0OTljNjQ2MGFiZDVjNDA2Y2NkODE3NjZkID0gJChgPGRpdiBpZD0iaHRtbF82YjUxYTkyNDk5YzY0NjBhYmQ1YzQwNmNjZDgxNzY2ZCIgc3R5bGU9IndpZHRoOiAxMDAuMCU7IGhlaWdodDogMTAwLjAlOyI+PGI+5aSW546v6LevPC9iPjxicj5DbHVzdGVyIDE8YnI+MS4gUHJvZmVzc2lvbmFsICYgT3RoZXIgUGxhY2VzIDAuMTU8YnI+Mi4gT3V0ZG9vcnMgJiBSZWNyZWF0aW9uIDAuMTE8YnI+My4gTmlnaHRsaWZlIFNwb3QgMC4wNDwvZGl2PmApWzBdOwogICAgICAgICAgICBwb3B1cF85MjA2NzU4MGRlZGY0OWIyYjgwMTI3ZTVlZjE0OWEwYy5zZXRDb250ZW50KGh0bWxfNmI1MWE5MjQ5OWM2NDYwYWJkNWM0MDZjY2Q4MTc2NmQpOwogICAgICAgIAoKICAgICAgICBjaXJjbGVfbWFya2VyXzYwOWI1ZGEzMjExMTRiNWY5MzcwZGVjMmQ1NGU3MTE5LmJpbmRQb3B1cChwb3B1cF85MjA2NzU4MGRlZGY0OWIyYjgwMTI3ZTVlZjE0OWEwYykKICAgICAgICA7CgogICAgICAgIAogICAgCiAgICAKICAgICAgICAgICAgdmFyIGNpcmNsZV9tYXJrZXJfM2NiNDYxZDA3MzJkNGI2ZjhiMDRmNTc1YTEyOWY5YjkgPSBMLmNpcmNsZU1hcmtlcigKICAgICAgICAgICAgICAgIFszMS4xMzY3MzQwMDAwMDAwMDQsIDEyMS40MDkzMzQwMDAwMDAwMl0sCiAgICAgICAgICAgICAgICB7ImJ1YmJsaW5nTW91c2VFdmVudHMiOiB0cnVlLCAiY29sb3IiOiAiYmx1ZSIsICJkYXNoQXJyYXkiOiBudWxsLCAiZGFzaE9mZnNldCI6IG51bGwsICJmaWxsIjogdHJ1ZSwgImZpbGxDb2xvciI6ICJibHVlIiwgImZpbGxPcGFjaXR5IjogMC41LCAiZmlsbFJ1bGUiOiAiZXZlbm9kZCIsICJsaW5lQ2FwIjogInJvdW5kIiwgImxpbmVKb2luIjogInJvdW5kIiwgIm9wYWNpdHkiOiAxLjAsICJyYWRpdXMiOiA3LCAic3Ryb2tlIjogdHJ1ZSwgIndlaWdodCI6IDN9CiAgICAgICAgICAgICkuYWRkVG8obWFwX2NkOTdiOTQ5YWQyMTQ4YWRiYTBkNjVkMGFjZGVhYzRmKTsKICAgICAgICAKICAgIAogICAgICAgIHZhciBwb3B1cF9kMTI5NWJlY2EyYTY0MGVjOWViMjgwNzkxMTQ0NTMwZiA9IEwucG9wdXAoeyJtYXhXaWR0aCI6IDMwMH0pOwoKICAgICAgICAKICAgICAgICAgICAgdmFyIGh0bWxfNWY1NmJmNjI2OTgzNDEwMzkzNDA1YzdlZDJkOWRhZTcgPSAkKGA8ZGl2IGlkPSJodG1sXzVmNTZiZjYyNjk4MzQxMDM5MzQwNWM3ZWQyZDlkYWU3IiBzdHlsZT0id2lkdGg6IDEwMC4wJTsgaGVpZ2h0OiAxMDAuMCU7Ij48Yj7ojrLoirHot688L2I+PGJyPkNsdXN0ZXIgMTxicj4xLiBQcm9mZXNzaW9uYWwgJiBPdGhlciBQbGFjZXMgMC4wOTxicj4yLiBOaWdodGxpZmUgU3BvdCAwLjA4PGJyPjMuIFNob3AgJiBTZXJ2aWNlIDAuMDg8L2Rpdj5gKVswXTsKICAgICAgICAgICAgcG9wdXBfZDEyOTViZWNhMmE2NDBlYzllYjI4MDc5MTE0NDUzMGYuc2V0Q29udGVudChodG1sXzVmNTZiZjYyNjk4MzQxMDM5MzQwNWM3ZWQyZDlkYWU3KTsKICAgICAgICAKCiAgICAgICAgY2lyY2xlX21hcmtlcl8zY2I0NjFkMDczMmQ0YjZmOGIwNGY1NzVhMTI5ZjliOS5iaW5kUG9wdXAocG9wdXBfZDEyOTViZWNhMmE2NDBlYzllYjI4MDc5MTE0NDUzMGYpCiAgICAgICAgOwoKICAgICAgICAKICAgIAogICAgCiAgICAgICAgICAgIHZhciBjaXJjbGVfbWFya2VyXzk0Nzk1YmEwMGM0ZjQyZWJhZGJjMGNmMTE5YjdkOGExID0gTC5jaXJjbGVNYXJrZXIoCiAgICAgICAgICAgICAgICBbMzEuMTQ1NTQyLCAxMjEuNDE1NDc5XSwKICAgICAgICAgICAgICAgIHsiYnViYmxpbmdNb3VzZUV2ZW50cyI6IHRydWUsICJjb2xvciI6ICJibHVlIiwgImRhc2hBcnJheSI6IG51bGwsICJkYXNoT2Zmc2V0IjogbnVsbCwgImZpbGwiOiB0cnVlLCAiZmlsbENvbG9yIjogImJsdWUiLCAiZmlsbE9wYWNpdHkiOiAwLjUsICJmaWxsUnVsZSI6ICJldmVub2RkIiwgImxpbmVDYXAiOiAicm91bmQiLCAibGluZUpvaW4iOiAicm91bmQiLCAib3BhY2l0eSI6IDEuMCwgInJhZGl1cyI6IDcsICJzdHJva2UiOiB0cnVlLCAid2VpZ2h0IjogM30KICAgICAgICAgICAgKS5hZGRUbyhtYXBfY2Q5N2I5NDlhZDIxNDhhZGJhMGQ2NWQwYWNkZWFjNGYpOwogICAgICAgIAogICAgCiAgICAgICAgdmFyIHBvcHVwX2ExOGZlZTE1OWRhMjRlZGU5MDRlODAxYmRkZmMyZGVjID0gTC5wb3B1cCh7Im1heFdpZHRoIjogMzAwfSk7CgogICAgICAgIAogICAgICAgICAgICB2YXIgaHRtbF85NTRmZTUyZTZjMTQ0ZTYzODRjMzEyZjY2MDM1NzMwZSA9ICQoYDxkaXYgaWQ9Imh0bWxfOTU0ZmU1MmU2YzE0NGU2Mzg0YzMxMmY2NjAzNTczMGUiIHN0eWxlPSJ3aWR0aDogMTAwLjAlOyBoZWlnaHQ6IDEwMC4wJTsiPjxiPumUpuaxn+S5kOWbrTwvYj48YnI+Q2x1c3RlciAxPGJyPjEuIFByb2Zlc3Npb25hbCAmIE90aGVyIFBsYWNlcyAwLjA5PGJyPjIuIFNob3AgJiBTZXJ2aWNlIDAuMDY8YnI+My4gTmlnaHRsaWZlIFNwb3QgMC4wNDwvZGl2PmApWzBdOwogICAgICAgICAgICBwb3B1cF9hMThmZWUxNTlkYTI0ZWRlOTA0ZTgwMWJkZGZjMmRlYy5zZXRDb250ZW50KGh0bWxfOTU0ZmU1MmU2YzE0NGU2Mzg0YzMxMmY2NjAzNTczMGUpOwogICAgICAgIAoKICAgICAgICBjaXJjbGVfbWFya2VyXzk0Nzk1YmEwMGM0ZjQyZWJhZGJjMGNmMTE5YjdkOGExLmJpbmRQb3B1cChwb3B1cF9hMThmZWUxNTlkYTI0ZWRlOTA0ZTgwMWJkZGZjMmRlYykKICAgICAgICA7CgogICAgICAgIAogICAgCiAgICAKICAgICAgICAgICAgdmFyIGNpcmNsZV9tYXJrZXJfZjg3MTYyOWRjMzUzNDczYTk3MDRjMjcxMDAxMGNhNGQgPSBMLmNpcmNsZU1hcmtlcigKICAgICAgICAgICAgICAgIFszMS4xNTk0MzkwMDAwMDAwMDMsIDEyMS40MzU4NjQ5OTk5OTk5OV0sCiAgICAgICAgICAgICAgICB7ImJ1YmJsaW5nTW91c2VFdmVudHMiOiB0cnVlLCAiY29sb3IiOiAiYmx1ZSIsICJkYXNoQXJyYXkiOiBudWxsLCAiZGFzaE9mZnNldCI6IG51bGwsICJmaWxsIjogdHJ1ZSwgImZpbGxDb2xvciI6ICJibHVlIiwgImZpbGxPcGFjaXR5IjogMC41LCAiZmlsbFJ1bGUiOiAiZXZlbm9kZCIsICJsaW5lQ2FwIjogInJvdW5kIiwgImxpbmVKb2luIjogInJvdW5kIiwgIm9wYWNpdHkiOiAxLjAsICJyYWRpdXMiOiA3LCAic3Ryb2tlIjogdHJ1ZSwgIndlaWdodCI6IDN9CiAgICAgICAgICAgICkuYWRkVG8obWFwX2NkOTdiOTQ5YWQyMTQ4YWRiYTBkNjVkMGFjZGVhYzRmKTsKICAgICAgICAKICAgIAogICAgICAgIHZhciBwb3B1cF9lMGQyY2EwNWQyNGY0YzQxOTY0MDEwZjFjYTM5ZmYwMiA9IEwucG9wdXAoeyJtYXhXaWR0aCI6IDMwMH0pOwoKICAgICAgICAKICAgICAgICAgICAgdmFyIGh0bWxfNTNhNDNjZTE4NTkzNDEzNWFmMWEyNjMxMmI5MjE3OTYgPSAkKGA8ZGl2IGlkPSJodG1sXzUzYTQzY2UxODU5MzQxMzVhZjFhMjYzMTJiOTIxNzk2IiBzdHlsZT0id2lkdGg6IDEwMC4wJTsgaGVpZ2h0OiAxMDAuMCU7Ij48Yj7kuIrmtbfljZfnq5k8L2I+PGJyPkNsdXN0ZXIgMTxicj4xLiBDb2xsZWdlICYgVW5pdmVyc2l0eSAwLjE3PGJyPjIuIFByb2Zlc3Npb25hbCAmIE90aGVyIFBsYWNlcyAwLjEyPGJyPjMuIFRyYXZlbCAmIFRyYW5zcG9ydCAwLjA3PC9kaXY+YClbMF07CiAgICAgICAgICAgIHBvcHVwX2UwZDJjYTA1ZDI0ZjRjNDE5NjQwMTBmMWNhMzlmZjAyLnNldENvbnRlbnQoaHRtbF81M2E0M2NlMTg1OTM0MTM1YWYxYTI2MzEyYjkyMTc5Nik7CiAgICAgICAgCgogICAgICAgIGNpcmNsZV9tYXJrZXJfZjg3MTYyOWRjMzUzNDczYTk3MDRjMjcxMDAxMGNhNGQuYmluZFBvcHVwKHBvcHVwX2UwZDJjYTA1ZDI0ZjRjNDE5NjQwMTBmMWNhMzlmZjAyKQogICAgICAgIDsKCiAgICAgICAgCiAgICAKICAgIAogICAgICAgICAgICB2YXIgY2lyY2xlX21hcmtlcl80ZDE2ZTM5NDU2NTc0OTM5YjdkMGQ5ZWU5MzQ3YzE1MSA9IEwuY2lyY2xlTWFya2VyKAogICAgICAgICAgICAgICAgWzMxLjE3NDgzOCwgMTIxLjQ0MDQ2NTk5OTk5OTk5XSwKICAgICAgICAgICAgICAgIHsiYnViYmxpbmdNb3VzZUV2ZW50cyI6IHRydWUsICJjb2xvciI6ICJ3aGl0ZSIsICJkYXNoQXJyYXkiOiBudWxsLCAiZGFzaE9mZnNldCI6IG51bGwsICJmaWxsIjogdHJ1ZSwgImZpbGxDb2xvciI6ICJ3aGl0ZSIsICJmaWxsT3BhY2l0eSI6IDAuNSwgImZpbGxSdWxlIjogImV2ZW5vZGQiLCAibGluZUNhcCI6ICJyb3VuZCIsICJsaW5lSm9pbiI6ICJyb3VuZCIsICJvcGFjaXR5IjogMS4wLCAicmFkaXVzIjogNywgInN0cm9rZSI6IHRydWUsICJ3ZWlnaHQiOiAzfQogICAgICAgICAgICApLmFkZFRvKG1hcF9jZDk3Yjk0OWFkMjE0OGFkYmEwZDY1ZDBhY2RlYWM0Zik7CiAgICAgICAgCiAgICAKICAgICAgICB2YXIgcG9wdXBfOGYzMWE0NGFhOGU2NDliNjliYjI2YzJlNjk0MmYyOWYgPSBMLnBvcHVwKHsibWF4V2lkdGgiOiAzMDB9KTsKCiAgICAgICAgCiAgICAgICAgICAgIHZhciBodG1sXzFkMjdkMjhkZjZlZjQzMWJiMTI1MGQ0N2VlMTkxMmYzID0gJChgPGRpdiBpZD0iaHRtbF8xZDI3ZDI4ZGY2ZWY0MzFiYjEyNTBkNDdlZTE5MTJmMyIgc3R5bGU9IndpZHRoOiAxMDAuMCU7IGhlaWdodDogMTAwLjAlOyI+PGI+5ryV5a6d6LevPC9iPjxicj5DbHVzdGVyIDI8YnI+MS4gT3V0ZG9vcnMgJiBSZWNyZWF0aW9uIDAuNDQ8YnI+Mi4gQXJ0cyAmIEVudGVydGFpbm1lbnQgMC40Mzxicj4zLiBSZXNpZGVuY2UgMC4zMzwvZGl2PmApWzBdOwogICAgICAgICAgICBwb3B1cF84ZjMxYTQ0YWE4ZTY0OWI2OWJiMjZjMmU2OTQyZjI5Zi5zZXRDb250ZW50KGh0bWxfMWQyN2QyOGRmNmVmNDMxYmIxMjUwZDQ3ZWUxOTEyZjMpOwogICAgICAgIAoKICAgICAgICBjaXJjbGVfbWFya2VyXzRkMTZlMzk0NTY1NzQ5MzliN2QwZDllZTkzNDdjMTUxLmJpbmRQb3B1cChwb3B1cF84ZjMxYTQ0YWE4ZTY0OWI2OWJiMjZjMmU2OTQyZjI5ZikKICAgICAgICA7CgogICAgICAgIAogICAgCiAgICAKICAgICAgICAgICAgdmFyIGNpcmNsZV9tYXJrZXJfNzkxNmUyMTczYTI4NDVlNWJmY2Y2NzBiZmJjYTY3MGIgPSBMLmNpcmNsZU1hcmtlcigKICAgICAgICAgICAgICAgIFszMS4xODg4MTMsIDEyMS40NDMzOThdLAogICAgICAgICAgICAgICAgeyJidWJibGluZ01vdXNlRXZlbnRzIjogdHJ1ZSwgImNvbG9yIjogIndoaXRlIiwgImRhc2hBcnJheSI6IG51bGwsICJkYXNoT2Zmc2V0IjogbnVsbCwgImZpbGwiOiB0cnVlLCAiZmlsbENvbG9yIjogIndoaXRlIiwgImZpbGxPcGFjaXR5IjogMC41LCAiZmlsbFJ1bGUiOiAiZXZlbm9kZCIsICJsaW5lQ2FwIjogInJvdW5kIiwgImxpbmVKb2luIjogInJvdW5kIiwgIm9wYWNpdHkiOiAxLjAsICJyYWRpdXMiOiA3LCAic3Ryb2tlIjogdHJ1ZSwgIndlaWdodCI6IDN9CiAgICAgICAgICAgICkuYWRkVG8obWFwX2NkOTdiOTQ5YWQyMTQ4YWRiYTBkNjVkMGFjZGVhYzRmKTsKICAgICAgICAKICAgIAogICAgICAgIHZhciBwb3B1cF8xMjQ4NjA4MDM1M2Q0ZDY2YTM0ZTFjNzY2MTFlMjg0MCA9IEwucG9wdXAoeyJtYXhXaWR0aCI6IDMwMH0pOwoKICAgICAgICAKICAgICAgICAgICAgdmFyIGh0bWxfNjNlZjMwNDNlYjFhNGJmY2IwNjA3NjI1MzRhNjExNjggPSAkKGA8ZGl2IGlkPSJodG1sXzYzZWYzMDQzZWIxYTRiZmNiMDYwNzYyNTM0YTYxMTY4IiBzdHlsZT0id2lkdGg6IDEwMC4wJTsgaGVpZ2h0OiAxMDAuMCU7Ij48Yj7kuIrmtbfkvZPogrLppoY8L2I+PGJyPkNsdXN0ZXIgMjxicj4xLiBBcnRzICYgRW50ZXJ0YWlubWVudCAwLjcxPGJyPjIuIENvbGxlZ2UgJiBVbml2ZXJzaXR5IDAuNTA8YnI+My4gT3V0ZG9vcnMgJiBSZWNyZWF0aW9uIDAuMzM8L2Rpdj5gKVswXTsKICAgICAgICAgICAgcG9wdXBfMTI0ODYwODAzNTNkNGQ2NmEzNGUxYzc2NjExZTI4NDAuc2V0Q29udGVudChodG1sXzYzZWYzMDQzZWIxYTRiZmNiMDYwNzYyNTM0YTYxMTY4KTsKICAgICAgICAKCiAgICAgICAgY2lyY2xlX21hcmtlcl83OTE2ZTIxNzNhMjg0NWU1YmZjZjY3MGJmYmNhNjcwYi5iaW5kUG9wdXAocG9wdXBfMTI0ODYwODAzNTNkNGQ2NmEzNGUxYzc2NjExZTI4NDApCiAgICAgICAgOwoKICAgICAgICAKICAgIAogICAgCiAgICAgICAgICAgIHZhciBjaXJjbGVfbWFya2VyXzMxZjlhYjY0Nzg2YjRiYzQ5NzM4ZGMyNTQ5ZWRmZDRmID0gTC5jaXJjbGVNYXJrZXIoCiAgICAgICAgICAgICAgICBbMzEuMTk0NTU3LCAxMjEuNDQzMzk1XSwKICAgICAgICAgICAgICAgIHsiYnViYmxpbmdNb3VzZUV2ZW50cyI6IHRydWUsICJjb2xvciI6ICJ3aGl0ZSIsICJkYXNoQXJyYXkiOiBudWxsLCAiZGFzaE9mZnNldCI6IG51bGwsICJmaWxsIjogdHJ1ZSwgImZpbGxDb2xvciI6ICJ3aGl0ZSIsICJmaWxsT3BhY2l0eSI6IDAuNSwgImZpbGxSdWxlIjogImV2ZW5vZGQiLCAibGluZUNhcCI6ICJyb3VuZCIsICJsaW5lSm9pbiI6ICJyb3VuZCIsICJvcGFjaXR5IjogMS4wLCAicmFkaXVzIjogNywgInN0cm9rZSI6IHRydWUsICJ3ZWlnaHQiOiAzfQogICAgICAgICAgICApLmFkZFRvKG1hcF9jZDk3Yjk0OWFkMjE0OGFkYmEwZDY1ZDBhY2RlYWM0Zik7CiAgICAgICAgCiAgICAKICAgICAgICB2YXIgcG9wdXBfMGZmZGVkNWE1ZDg5NDc2YjlmYWE4YzMxY2E4MWY1OGMgPSBMLnBvcHVwKHsibWF4V2lkdGgiOiAzMDB9KTsKCiAgICAgICAgCiAgICAgICAgICAgIHZhciBodG1sX2Y2ZDA0MTQ4MTRjNjRjYjhiMzA4M2JkMzVkYWU4MWI5ID0gJChgPGRpdiBpZD0iaHRtbF9mNmQwNDE0ODE0YzY0Y2I4YjMwODNiZDM1ZGFlODFiOSIgc3R5bGU9IndpZHRoOiAxMDAuMCU7IGhlaWdodDogMTAwLjAlOyI+PGI+5b6Q5a625rGHPC9iPjxicj5DbHVzdGVyIDI8YnI+MS4gQXJ0cyAmIEVudGVydGFpbm1lbnQgMC44Njxicj4yLiBDb2xsZWdlICYgVW5pdmVyc2l0eSAwLjUwPGJyPjMuIE91dGRvb3JzICYgUmVjcmVhdGlvbiAwLjQ0PC9kaXY+YClbMF07CiAgICAgICAgICAgIHBvcHVwXzBmZmRlZDVhNWQ4OTQ3NmI5ZmFhOGMzMWNhODFmNThjLnNldENvbnRlbnQoaHRtbF9mNmQwNDE0ODE0YzY0Y2I4YjMwODNiZDM1ZGFlODFiOSk7CiAgICAgICAgCgogICAgICAgIGNpcmNsZV9tYXJrZXJfMzFmOWFiNjQ3ODZiNGJjNDk3MzhkYzI1NDllZGZkNGYuYmluZFBvcHVwKHBvcHVwXzBmZmRlZDVhNWQ4OTQ3NmI5ZmFhOGMzMWNhODFmNThjKQogICAgICAgIDsKCiAgICAgICAgCiAgICAKICAgIAogICAgICAgICAgICB2YXIgY2lyY2xlX21hcmtlcl9iZmU0ZWJiNzBlY2Y0ZWMwOTgxZjUyZGQ3MDM2ZGFkMSA9IEwuY2lyY2xlTWFya2VyKAogICAgICAgICAgICAgICAgWzMxLjIwNTA5NiwgMTIxLjQ0ODU0NV0sCiAgICAgICAgICAgICAgICB7ImJ1YmJsaW5nTW91c2VFdmVudHMiOiB0cnVlLCAiY29sb3IiOiAid2hpdGUiLCAiZGFzaEFycmF5IjogbnVsbCwgImRhc2hPZmZzZXQiOiBudWxsLCAiZmlsbCI6IHRydWUsICJmaWxsQ29sb3IiOiAid2hpdGUiLCAiZmlsbE9wYWNpdHkiOiAwLjUsICJmaWxsUnVsZSI6ICJldmVub2RkIiwgImxpbmVDYXAiOiAicm91bmQiLCAibGluZUpvaW4iOiAicm91bmQiLCAib3BhY2l0eSI6IDEuMCwgInJhZGl1cyI6IDcsICJzdHJva2UiOiB0cnVlLCAid2VpZ2h0IjogM30KICAgICAgICAgICAgKS5hZGRUbyhtYXBfY2Q5N2I5NDlhZDIxNDhhZGJhMGQ2NWQwYWNkZWFjNGYpOwogICAgICAgIAogICAgCiAgICAgICAgdmFyIHBvcHVwXzNmZTAxOGUxODgwMTRjMDA5YzY3OTMwOTZkMjVkMGYxID0gTC5wb3B1cCh7Im1heFdpZHRoIjogMzAwfSk7CgogICAgICAgIAogICAgICAgICAgICB2YXIgaHRtbF8zMzQyNGI1ZTIxYTk0N2M0OTI4NmRjZTc0MGU4YjJlYyA9ICQoYDxkaXYgaWQ9Imh0bWxfMzM0MjRiNWUyMWE5NDdjNDkyODZkY2U3NDBlOGIyZWMiIHN0eWxlPSJ3aWR0aDogMTAwLjAlOyBoZWlnaHQ6IDEwMC4wJTsiPjxiPuihoeWxsei3rzwvYj48YnI+Q2x1c3RlciAyPGJyPjEuIENvbGxlZ2UgJiBVbml2ZXJzaXR5IDAuNjc8YnI+Mi4gUmVzaWRlbmNlIDAuNjc8YnI+My4gT3V0ZG9vcnMgJiBSZWNyZWF0aW9uIDAuNTY8L2Rpdj5gKVswXTsKICAgICAgICAgICAgcG9wdXBfM2ZlMDE4ZTE4ODAxNGMwMDljNjc5MzA5NmQyNWQwZjEuc2V0Q29udGVudChodG1sXzMzNDI0YjVlMjFhOTQ3YzQ5Mjg2ZGNlNzQwZThiMmVjKTsKICAgICAgICAKCiAgICAgICAgY2lyY2xlX21hcmtlcl9iZmU0ZWJiNzBlY2Y0ZWMwOTgxZjUyZGQ3MDM2ZGFkMS5iaW5kUG9wdXAocG9wdXBfM2ZlMDE4ZTE4ODAxNGMwMDljNjc5MzA5NmQyNWQwZjEpCiAgICAgICAgOwoKICAgICAgICAKICAgIAogICAgCiAgICAgICAgICAgIHZhciBjaXJjbGVfbWFya2VyX2NlYWVmNjhmMjAwODQ1MmE4ZWY3ZTMzZmYwZTMwM2MwID0gTC5jaXJjbGVNYXJrZXIoCiAgICAgICAgICAgICAgICBbMzEuMjE5ODYyLCAxMjEuNDU2NjYyOTk5OTk5OTldLAogICAgICAgICAgICAgICAgeyJidWJibGluZ01vdXNlRXZlbnRzIjogdHJ1ZSwgImNvbG9yIjogInJlZCIsICJkYXNoQXJyYXkiOiBudWxsLCAiZGFzaE9mZnNldCI6IG51bGwsICJmaWxsIjogdHJ1ZSwgImZpbGxDb2xvciI6ICJyZWQiLCAiZmlsbE9wYWNpdHkiOiAwLjUsICJmaWxsUnVsZSI6ICJldmVub2RkIiwgImxpbmVDYXAiOiAicm91bmQiLCAibGluZUpvaW4iOiAicm91bmQiLCAib3BhY2l0eSI6IDEuMCwgInJhZGl1cyI6IDcsICJzdHJva2UiOiB0cnVlLCAid2VpZ2h0IjogM30KICAgICAgICAgICAgKS5hZGRUbyhtYXBfY2Q5N2I5NDlhZDIxNDhhZGJhMGQ2NWQwYWNkZWFjNGYpOwogICAgICAgIAogICAgCiAgICAgICAgdmFyIHBvcHVwXzJhYTA2OTJlMzIwZDQ0YjU4Y2IwNTI5OGNmMDZmMWE0ID0gTC5wb3B1cCh7Im1heFdpZHRoIjogMzAwfSk7CgogICAgICAgIAogICAgICAgICAgICB2YXIgaHRtbF85MjljZmViNzhmNTU0ZmY1YjkxYjRiNTY4ZTE2MGM2YiA9ICQoYDxkaXYgaWQ9Imh0bWxfOTI5Y2ZlYjc4ZjU1NGZmNWI5MWI0YjU2OGUxNjBjNmIiIHN0eWxlPSJ3aWR0aDogMTAwLjAlOyBoZWlnaHQ6IDEwMC4wJTsiPjxiPuW4uOeGn+i3rzwvYj48YnI+Q2x1c3RlciAwPGJyPjEuIEZvb2QgMS4wMDxicj4yLiBTaG9wICYgU2VydmljZSAxLjAwPGJyPjMuIENvbGxlZ2UgJiBVbml2ZXJzaXR5IDAuNjc8L2Rpdj5gKVswXTsKICAgICAgICAgICAgcG9wdXBfMmFhMDY5MmUzMjBkNDRiNThjYjA1Mjk4Y2YwNmYxYTQuc2V0Q29udGVudChodG1sXzkyOWNmZWI3OGY1NTRmZjViOTFiNGI1NjhlMTYwYzZiKTsKICAgICAgICAKCiAgICAgICAgY2lyY2xlX21hcmtlcl9jZWFlZjY4ZjIwMDg0NTJhOGVmN2UzM2ZmMGUzMDNjMC5iaW5kUG9wdXAocG9wdXBfMmFhMDY5MmUzMjBkNDRiNThjYjA1Mjk4Y2YwNmYxYTQpCiAgICAgICAgOwoKICAgICAgICAKICAgIAogICAgCiAgICAgICAgICAgIHZhciBjaXJjbGVfbWFya2VyX2QzZTU4M2ViYTYxMDRlMDI4YjRlNDlmM2FhZjYxMjRkID0gTC5jaXJjbGVNYXJrZXIoCiAgICAgICAgICAgICAgICBbMzEuMjIyMDYzMDAwMDAwMDAyLCAxMjEuNDY1NjE2XSwKICAgICAgICAgICAgICAgIHsiYnViYmxpbmdNb3VzZUV2ZW50cyI6IHRydWUsICJjb2xvciI6ICJyZWQiLCAiZGFzaEFycmF5IjogbnVsbCwgImRhc2hPZmZzZXQiOiBudWxsLCAiZmlsbCI6IHRydWUsICJmaWxsQ29sb3IiOiAicmVkIiwgImZpbGxPcGFjaXR5IjogMC41LCAiZmlsbFJ1bGUiOiAiZXZlbm9kZCIsICJsaW5lQ2FwIjogInJvdW5kIiwgImxpbmVKb2luIjogInJvdW5kIiwgIm9wYWNpdHkiOiAxLjAsICJyYWRpdXMiOiA3LCAic3Ryb2tlIjogdHJ1ZSwgIndlaWdodCI6IDN9CiAgICAgICAgICAgICkuYWRkVG8obWFwX2NkOTdiOTQ5YWQyMTQ4YWRiYTBkNjVkMGFjZGVhYzRmKTsKICAgICAgICAKICAgIAogICAgICAgIHZhciBwb3B1cF82MjY2MDFjZmQ1YzY0NDFlYmE3NTZhY2QxNjAxNTk0MyA9IEwucG9wdXAoeyJtYXhXaWR0aCI6IDMwMH0pOwoKICAgICAgICAKICAgICAgICAgICAgdmFyIGh0bWxfN2Q1MmNmNzA1OTIxNGJkNGJmZGRjZjg0NjgwNWNkNTAgPSAkKGA8ZGl2IGlkPSJodG1sXzdkNTJjZjcwNTkyMTRiZDRiZmRkY2Y4NDY4MDVjZDUwIiBzdHlsZT0id2lkdGg6IDEwMC4wJTsgaGVpZ2h0OiAxMDAuMCU7Ij48Yj7pmZXopb/ljZfot688L2I+PGJyPkNsdXN0ZXIgMDxicj4xLiBDb2xsZWdlICYgVW5pdmVyc2l0eSAxLjAwPGJyPjIuIE5pZ2h0bGlmZSBTcG90IDEuMDA8YnI+My4gU2hvcCAmIFNlcnZpY2UgMC45NDwvZGl2PmApWzBdOwogICAgICAgICAgICBwb3B1cF82MjY2MDFjZmQ1YzY0NDFlYmE3NTZhY2QxNjAxNTk0My5zZXRDb250ZW50KGh0bWxfN2Q1MmNmNzA1OTIxNGJkNGJmZGRjZjg0NjgwNWNkNTApOwogICAgICAgIAoKICAgICAgICBjaXJjbGVfbWFya2VyX2QzZTU4M2ViYTYxMDRlMDI4YjRlNDlmM2FhZjYxMjRkLmJpbmRQb3B1cChwb3B1cF82MjY2MDFjZmQ1YzY0NDFlYmE3NTZhY2QxNjAxNTk0MykKICAgICAgICA7CgogICAgICAgIAogICAgCiAgICAKICAgICAgICAgICAgdmFyIGNpcmNsZV9tYXJrZXJfMDNkMDkyZWY1Njk1NDZiYmFhZjNlNDZiNTQ5Y2UxOWEgPSBMLmNpcmNsZU1hcmtlcigKICAgICAgICAgICAgICAgIFszMS4yMjg3MzIsIDEyMS40Nzk3NDhdLAogICAgICAgICAgICAgICAgeyJidWJibGluZ01vdXNlRXZlbnRzIjogdHJ1ZSwgImNvbG9yIjogInJlZCIsICJkYXNoQXJyYXkiOiBudWxsLCAiZGFzaE9mZnNldCI6IG51bGwsICJmaWxsIjogdHJ1ZSwgImZpbGxDb2xvciI6ICJyZWQiLCAiZmlsbE9wYWNpdHkiOiAwLjUsICJmaWxsUnVsZSI6ICJldmVub2RkIiwgImxpbmVDYXAiOiAicm91bmQiLCAibGluZUpvaW4iOiAicm91bmQiLCAib3BhY2l0eSI6IDEuMCwgInJhZGl1cyI6IDcsICJzdHJva2UiOiB0cnVlLCAid2VpZ2h0IjogM30KICAgICAgICAgICAgKS5hZGRUbyhtYXBfY2Q5N2I5NDlhZDIxNDhhZGJhMGQ2NWQwYWNkZWFjNGYpOwogICAgICAgIAogICAgCiAgICAgICAgdmFyIHBvcHVwXzRmY2I5ZDJhMGIyNjQwYjY4OWRjNTI5ZWIyMDE4YzM3ID0gTC5wb3B1cCh7Im1heFdpZHRoIjogMzAwfSk7CgogICAgICAgIAogICAgICAgICAgICB2YXIgaHRtbF9mNTcyOTQwNGJiMjY0MGQ5YWI5YmU2MmFiYTViMjU2ZSA9ICQoYDxkaXYgaWQ9Imh0bWxfZjU3Mjk0MDRiYjI2NDBkOWFiOWJlNjJhYmE1YjI1NmUiIHN0eWxlPSJ3aWR0aDogMTAwLjAlOyBoZWlnaHQ6IDEwMC4wJTsiPjxiPum7hOmZguWNl+i3rzwvYj48YnI+Q2x1c3RlciAwPGJyPjEuIFJlc2lkZW5jZSAxLjAwPGJyPjIuIE91dGRvb3JzICYgUmVjcmVhdGlvbiAwLjY3PGJyPjMuIFRyYXZlbCAmIFRyYW5zcG9ydCAwLjY0PC9kaXY+YClbMF07CiAgICAgICAgICAgIHBvcHVwXzRmY2I5ZDJhMGIyNjQwYjY4OWRjNTI5ZWIyMDE4YzM3LnNldENvbnRlbnQoaHRtbF9mNTcyOTQwNGJiMjY0MGQ5YWI5YmU2MmFiYTViMjU2ZSk7CiAgICAgICAgCgogICAgICAgIGNpcmNsZV9tYXJrZXJfMDNkMDkyZWY1Njk1NDZiYmFhZjNlNDZiNTQ5Y2UxOWEuYmluZFBvcHVwKHBvcHVwXzRmY2I5ZDJhMGIyNjQwYjY4OWRjNTI5ZWIyMDE4YzM3KQogICAgICAgIDsKCiAgICAgICAgCiAgICAKICAgIAogICAgICAgICAgICB2YXIgY2lyY2xlX21hcmtlcl9lYjMyYzcxODQ0NmQ0ZjdmYWZkNWYwMTc1NmFlYTJmYSA9IEwuY2lyY2xlTWFya2VyKAogICAgICAgICAgICAgICAgWzMxLjIzODY4OCwgMTIxLjQ4MTA5OV0sCiAgICAgICAgICAgICAgICB7ImJ1YmJsaW5nTW91c2VFdmVudHMiOiB0cnVlLCAiY29sb3IiOiAicmVkIiwgImRhc2hBcnJheSI6IG51bGwsICJkYXNoT2Zmc2V0IjogbnVsbCwgImZpbGwiOiB0cnVlLCAiZmlsbENvbG9yIjogInJlZCIsICJmaWxsT3BhY2l0eSI6IDAuNSwgImZpbGxSdWxlIjogImV2ZW5vZGQiLCAibGluZUNhcCI6ICJyb3VuZCIsICJsaW5lSm9pbiI6ICJyb3VuZCIsICJvcGFjaXR5IjogMS4wLCAicmFkaXVzIjogNywgInN0cm9rZSI6IHRydWUsICJ3ZWlnaHQiOiAzfQogICAgICAgICAgICApLmFkZFRvKG1hcF9jZDk3Yjk0OWFkMjE0OGFkYmEwZDY1ZDBhY2RlYWM0Zik7CiAgICAgICAgCiAgICAKICAgICAgICB2YXIgcG9wdXBfYjdjZjRmMDNkNjliNDcyYmJjYjI0OTgzYTVkMTcwYTggPSBMLnBvcHVwKHsibWF4V2lkdGgiOiAzMDB9KTsKCiAgICAgICAgCiAgICAgICAgICAgIHZhciBodG1sX2E0ZWIyMzE5NWY0ODQzOThhNzNhMGI4ODI3MTUzNjI1ID0gJChgPGRpdiBpZD0iaHRtbF9hNGViMjMxOTVmNDg0Mzk4YTczYTBiODgyNzE1MzYyNSIgc3R5bGU9IndpZHRoOiAxMDAuMCU7IGhlaWdodDogMTAwLjAlOyI+PGI+5Lq65rCR5bm/5Zy6PC9iPjxicj5DbHVzdGVyIDA8YnI+MS4gQXJ0cyAmIEVudGVydGFpbm1lbnQgMS4wMDxicj4yLiBPdXRkb29ycyAmIFJlY3JlYXRpb24gMS4wMDxicj4zLiBQcm9mZXNzaW9uYWwgJiBPdGhlciBQbGFjZXMgMS4wMDwvZGl2PmApWzBdOwogICAgICAgICAgICBwb3B1cF9iN2NmNGYwM2Q2OWI0NzJiYmNiMjQ5ODNhNWQxNzBhOC5zZXRDb250ZW50KGh0bWxfYTRlYjIzMTk1ZjQ4NDM5OGE3M2EwYjg4MjcxNTM2MjUpOwogICAgICAgIAoKICAgICAgICBjaXJjbGVfbWFya2VyX2ViMzJjNzE4NDQ2ZDRmN2ZhZmQ1ZjAxNzU2YWVhMmZhLmJpbmRQb3B1cChwb3B1cF9iN2NmNGYwM2Q2OWI0NzJiYmNiMjQ5ODNhNWQxNzBhOCkKICAgICAgICA7CgogICAgICAgIAogICAgCiAgICAKICAgICAgICAgICAgdmFyIGNpcmNsZV9tYXJrZXJfNDFlMGRkMWIyYjJlNGE3MzhiZWZlNzAxMGFkZTE5YWUgPSBMLmNpcmNsZU1hcmtlcigKICAgICAgICAgICAgICAgIFszMS4yNDE4NzE5OTk5OTk5OTcsIDEyMS40NjY1NjM5OTk5OTk5OV0sCiAgICAgICAgICAgICAgICB7ImJ1YmJsaW5nTW91c2VFdmVudHMiOiB0cnVlLCAiY29sb3IiOiAid2hpdGUiLCAiZGFzaEFycmF5IjogbnVsbCwgImRhc2hPZmZzZXQiOiBudWxsLCAiZmlsbCI6IHRydWUsICJmaWxsQ29sb3IiOiAid2hpdGUiLCAiZmlsbE9wYWNpdHkiOiAwLjUsICJmaWxsUnVsZSI6ICJldmVub2RkIiwgImxpbmVDYXAiOiAicm91bmQiLCAibGluZUpvaW4iOiAicm91bmQiLCAib3BhY2l0eSI6IDEuMCwgInJhZGl1cyI6IDcsICJzdHJva2UiOiB0cnVlLCAid2VpZ2h0IjogM30KICAgICAgICAgICAgKS5hZGRUbyhtYXBfY2Q5N2I5NDlhZDIxNDhhZGJhMGQ2NWQwYWNkZWFjNGYpOwogICAgICAgIAogICAgCiAgICAgICAgdmFyIHBvcHVwXzkzMGJiZDg5ZDRmNzQzOWM5NDdmOTNmMmNjZDIyZmNiID0gTC5wb3B1cCh7Im1heFdpZHRoIjogMzAwfSk7CgogICAgICAgIAogICAgICAgICAgICB2YXIgaHRtbF8yMmFhMjUzMDg0NzQ0NGVmODMwODNjZWE4ZDc1NzcyNCA9ICQoYDxkaXYgaWQ9Imh0bWxfMjJhYTI1MzA4NDc0NDRlZjgzMDgzY2VhOGQ3NTc3MjQiIHN0eWxlPSJ3aWR0aDogMTAwLjAlOyBoZWlnaHQ6IDEwMC4wJTsiPjxiPuaWsOmXuOi3rzwvYj48YnI+Q2x1c3RlciAyPGJyPjEuIEFydHMgJiBFbnRlcnRhaW5tZW50IDAuODY8YnI+Mi4gT3V0ZG9vcnMgJiBSZWNyZWF0aW9uIDAuNjc8YnI+My4gQ29sbGVnZSAmIFVuaXZlcnNpdHkgMC41MDwvZGl2PmApWzBdOwogICAgICAgICAgICBwb3B1cF85MzBiYmQ4OWQ0Zjc0MzljOTQ3ZjkzZjJjY2QyMmZjYi5zZXRDb250ZW50KGh0bWxfMjJhYTI1MzA4NDc0NDRlZjgzMDgzY2VhOGQ3NTc3MjQpOwogICAgICAgIAoKICAgICAgICBjaXJjbGVfbWFya2VyXzQxZTBkZDFiMmIyZTRhNzM4YmVmZTcwMTBhZGUxOWFlLmJpbmRQb3B1cChwb3B1cF85MzBiYmQ4OWQ0Zjc0MzljOTQ3ZjkzZjJjY2QyMmZjYikKICAgICAgICA7CgogICAgICAgIAogICAgCiAgICAKICAgICAgICAgICAgdmFyIGNpcmNsZV9tYXJrZXJfOWQxNWE3NWE5OGRkNDJhYmJlZTVmMDBlZjliNGMxZWYgPSBMLmNpcmNsZU1hcmtlcigKICAgICAgICAgICAgICAgIFszMS4yNDcyMzMsIDEyMS40NjUyMDddLAogICAgICAgICAgICAgICAgeyJidWJibGluZ01vdXNlRXZlbnRzIjogdHJ1ZSwgImNvbG9yIjogIndoaXRlIiwgImRhc2hBcnJheSI6IG51bGwsICJkYXNoT2Zmc2V0IjogbnVsbCwgImZpbGwiOiB0cnVlLCAiZmlsbENvbG9yIjogIndoaXRlIiwgImZpbGxPcGFjaXR5IjogMC41LCAiZmlsbFJ1bGUiOiAiZXZlbm9kZCIsICJsaW5lQ2FwIjogInJvdW5kIiwgImxpbmVKb2luIjogInJvdW5kIiwgIm9wYWNpdHkiOiAxLjAsICJyYWRpdXMiOiA3LCAic3Ryb2tlIjogdHJ1ZSwgIndlaWdodCI6IDN9CiAgICAgICAgICAgICkuYWRkVG8obWFwX2NkOTdiOTQ5YWQyMTQ4YWRiYTBkNjVkMGFjZGVhYzRmKTsKICAgICAgICAKICAgIAogICAgICAgIHZhciBwb3B1cF8xY2NmMjExODZmZTI0MTAyOTkxMmI2Y2ZjZTBkNTA3ZCA9IEwucG9wdXAoeyJtYXhXaWR0aCI6IDMwMH0pOwoKICAgICAgICAKICAgICAgICAgICAgdmFyIGh0bWxfYmQ0NzA3Y2Q2NTcyNDdmNWJlYTc1ODA3MmRhZjRhMmYgPSAkKGA8ZGl2IGlkPSJodG1sX2JkNDcwN2NkNjU3MjQ3ZjViZWE3NTgwNzJkYWY0YTJmIiBzdHlsZT0id2lkdGg6IDEwMC4wJTsgaGVpZ2h0OiAxMDAuMCU7Ij48Yj7msYnkuK3ot688L2I+PGJyPkNsdXN0ZXIgMjxicj4xLiBPdXRkb29ycyAmIFJlY3JlYXRpb24gMC41Njxicj4yLiBBcnRzICYgRW50ZXJ0YWlubWVudCAwLjQzPGJyPjMuIFByb2Zlc3Npb25hbCAmIE90aGVyIFBsYWNlcyAwLjE1PC9kaXY+YClbMF07CiAgICAgICAgICAgIHBvcHVwXzFjY2YyMTE4NmZlMjQxMDI5OTEyYjZjZmNlMGQ1MDdkLnNldENvbnRlbnQoaHRtbF9iZDQ3MDdjZDY1NzI0N2Y1YmVhNzU4MDcyZGFmNGEyZik7CiAgICAgICAgCgogICAgICAgIGNpcmNsZV9tYXJrZXJfOWQxNWE3NWE5OGRkNDJhYmJlZTVmMDBlZjliNGMxZWYuYmluZFBvcHVwKHBvcHVwXzFjY2YyMTE4NmZlMjQxMDI5OTEyYjZjZmNlMGQ1MDdkKQogICAgICAgIDsKCiAgICAgICAgCiAgICAKICAgIAogICAgICAgICAgICB2YXIgY2lyY2xlX21hcmtlcl82OTRlYTA3ZjA4NDI0YTQzOTEwM2M4ZDRkMzVhZjZlOSA9IEwuY2lyY2xlTWFya2VyKAogICAgICAgICAgICAgICAgWzMxLjI1NTkyMywgMTIxLjQ2MjA1Nl0sCiAgICAgICAgICAgICAgICB7ImJ1YmJsaW5nTW91c2VFdmVudHMiOiB0cnVlLCAiY29sb3IiOiAiYmx1ZSIsICJkYXNoQXJyYXkiOiBudWxsLCAiZGFzaE9mZnNldCI6IG51bGwsICJmaWxsIjogdHJ1ZSwgImZpbGxDb2xvciI6ICJibHVlIiwgImZpbGxPcGFjaXR5IjogMC41LCAiZmlsbFJ1bGUiOiAiZXZlbm9kZCIsICJsaW5lQ2FwIjogInJvdW5kIiwgImxpbmVKb2luIjogInJvdW5kIiwgIm9wYWNpdHkiOiAxLjAsICJyYWRpdXMiOiA3LCAic3Ryb2tlIjogdHJ1ZSwgIndlaWdodCI6IDN9CiAgICAgICAgICAgICkuYWRkVG8obWFwX2NkOTdiOTQ5YWQyMTQ4YWRiYTBkNjVkMGFjZGVhYzRmKTsKICAgICAgICAKICAgIAogICAgICAgIHZhciBwb3B1cF82ZjdjNzNlMzc2NWY0YTk4OWFkYzY3MzExODEwZDIwNyA9IEwucG9wdXAoeyJtYXhXaWR0aCI6IDMwMH0pOwoKICAgICAgICAKICAgICAgICAgICAgdmFyIGh0bWxfZWZjMmI4NzM2Y2E3NDQxYzlmOTg5MTdmMmMwOTQ0ZmIgPSAkKGA8ZGl2IGlkPSJodG1sX2VmYzJiODczNmNhNzQ0MWM5Zjk4OTE3ZjJjMDk0NGZiIiBzdHlsZT0id2lkdGg6IDEwMC4wJTsgaGVpZ2h0OiAxMDAuMCU7Ij48Yj7kuIrmtbfngavovabnq5k8L2I+PGJyPkNsdXN0ZXIgMTxicj4xLiBBcnRzICYgRW50ZXJ0YWlubWVudCAwLjAwPGJyPjIuIENvbGxlZ2UgJiBVbml2ZXJzaXR5IDAuMDA8YnI+My4gRm9vZCAwLjAwPC9kaXY+YClbMF07CiAgICAgICAgICAgIHBvcHVwXzZmN2M3M2UzNzY1ZjRhOTg5YWRjNjczMTE4MTBkMjA3LnNldENvbnRlbnQoaHRtbF9lZmMyYjg3MzZjYTc0NDFjOWY5ODkxN2YyYzA5NDRmYik7CiAgICAgICAgCgogICAgICAgIGNpcmNsZV9tYXJrZXJfNjk0ZWEwN2YwODQyNGE0MzkxMDNjOGQ0ZDM1YWY2ZTkuYmluZFBvcHVwKHBvcHVwXzZmN2M3M2UzNzY1ZjRhOTg5YWRjNjczMTE4MTBkMjA3KQogICAgICAgIDsKCiAgICAgICAgCiAgICAKICAgIAogICAgICAgICAgICB2YXIgY2lyY2xlX21hcmtlcl85MTgyYTA1NTBhYjg0NTJhOTBkMGIwMDhjYjI5OTUxNCA9IEwuY2lyY2xlTWFya2VyKAogICAgICAgICAgICAgICAgWzMxLjI2NDk1OSwgMTIxLjQ2NTY1NzAwMDAwMDAxXSwKICAgICAgICAgICAgICAgIHsiYnViYmxpbmdNb3VzZUV2ZW50cyI6IHRydWUsICJjb2xvciI6ICJibHVlIiwgImRhc2hBcnJheSI6IG51bGwsICJkYXNoT2Zmc2V0IjogbnVsbCwgImZpbGwiOiB0cnVlLCAiZmlsbENvbG9yIjogImJsdWUiLCAiZmlsbE9wYWNpdHkiOiAwLjUsICJmaWxsUnVsZSI6ICJldmVub2RkIiwgImxpbmVDYXAiOiAicm91bmQiLCAibGluZUpvaW4iOiAicm91bmQiLCAib3BhY2l0eSI6IDEuMCwgInJhZGl1cyI6IDcsICJzdHJva2UiOiB0cnVlLCAid2VpZ2h0IjogM30KICAgICAgICAgICAgKS5hZGRUbyhtYXBfY2Q5N2I5NDlhZDIxNDhhZGJhMGQ2NWQwYWNkZWFjNGYpOwogICAgICAgIAogICAgCiAgICAgICAgdmFyIHBvcHVwXzNjNzM3ZDRjYzM5MjQ0Y2NiYjM5ZWU0YTY1N2Y1Mzg3ID0gTC5wb3B1cCh7Im1heFdpZHRoIjogMzAwfSk7CgogICAgICAgIAogICAgICAgICAgICB2YXIgaHRtbF8wNmQwZWVhZTU1YTI0YWZjOTgzODRlODc4MzdkNzNhMiA9ICQoYDxkaXYgaWQ9Imh0bWxfMDZkMGVlYWU1NWEyNGFmYzk4Mzg0ZTg3ODM3ZDczYTIiIHN0eWxlPSJ3aWR0aDogMTAwLjAlOyBoZWlnaHQ6IDEwMC4wJTsiPjxiPuS4reWxseWMl+i3rzwvYj48YnI+Q2x1c3RlciAxPGJyPjEuIEFydHMgJiBFbnRlcnRhaW5tZW50IDAuMDA8YnI+Mi4gQ29sbGVnZSAmIFVuaXZlcnNpdHkgMC4wMDxicj4zLiBGb29kIDAuMDA8L2Rpdj5gKVswXTsKICAgICAgICAgICAgcG9wdXBfM2M3MzdkNGNjMzkyNDRjY2JiMzllZTRhNjU3ZjUzODcuc2V0Q29udGVudChodG1sXzA2ZDBlZWFlNTVhMjRhZmM5ODM4NGU4NzgzN2Q3M2EyKTsKICAgICAgICAKCiAgICAgICAgY2lyY2xlX21hcmtlcl85MTgyYTA1NTBhYjg0NTJhOTBkMGIwMDhjYjI5OTUxNC5iaW5kUG9wdXAocG9wdXBfM2M3MzdkNGNjMzkyNDRjY2JiMzllZTRhNjU3ZjUzODcpCiAgICAgICAgOwoKICAgICAgICAKICAgIAogICAgCiAgICAgICAgICAgIHZhciBjaXJjbGVfbWFya2VyXzQ5ZWQ4NzFjMjBlYTRkZmZhNjQ1Y2VlN2QzNjM1MDNkID0gTC5jaXJjbGVNYXJrZXIoCiAgICAgICAgICAgICAgICBbMzEuMjc4MDYwOTk5OTk5OTk3LCAxMjEuNDYxODkxOTk5OTk5OTldLAogICAgICAgICAgICAgICAgeyJidWJibGluZ01vdXNlRXZlbnRzIjogdHJ1ZSwgImNvbG9yIjogImJsdWUiLCAiZGFzaEFycmF5IjogbnVsbCwgImRhc2hPZmZzZXQiOiBudWxsLCAiZmlsbCI6IHRydWUsICJmaWxsQ29sb3IiOiAiYmx1ZSIsICJmaWxsT3BhY2l0eSI6IDAuNSwgImZpbGxSdWxlIjogImV2ZW5vZGQiLCAibGluZUNhcCI6ICJyb3VuZCIsICJsaW5lSm9pbiI6ICJyb3VuZCIsICJvcGFjaXR5IjogMS4wLCAicmFkaXVzIjogNywgInN0cm9rZSI6IHRydWUsICJ3ZWlnaHQiOiAzfQogICAgICAgICAgICApLmFkZFRvKG1hcF9jZDk3Yjk0OWFkMjE0OGFkYmEwZDY1ZDBhY2RlYWM0Zik7CiAgICAgICAgCiAgICAKICAgICAgICB2YXIgcG9wdXBfYzc3MGQ2Nzc0NmZiNDBiZDlmYzhjNWY5NWRlMzlkNWYgPSBMLnBvcHVwKHsibWF4V2lkdGgiOiAzMDB9KTsKCiAgICAgICAgCiAgICAgICAgICAgIHZhciBodG1sXzY2NWYxNmI5OTljZDRhZDRhOGJiNjcwN2NhMzI2OWFjID0gJChgPGRpdiBpZD0iaHRtbF82NjVmMTZiOTk5Y2Q0YWQ0YThiYjY3MDdjYTMyNjlhYyIgc3R5bGU9IndpZHRoOiAxMDAuMCU7IGhlaWdodDogMTAwLjAlOyI+PGI+5bu26ZW/6LevPC9iPjxicj5DbHVzdGVyIDE8YnI+MS4gQXJ0cyAmIEVudGVydGFpbm1lbnQgMC4wMDxicj4yLiBDb2xsZWdlICYgVW5pdmVyc2l0eSAwLjAwPGJyPjMuIEZvb2QgMC4wMDwvZGl2PmApWzBdOwogICAgICAgICAgICBwb3B1cF9jNzcwZDY3NzQ2ZmI0MGJkOWZjOGM1Zjk1ZGUzOWQ1Zi5zZXRDb250ZW50KGh0bWxfNjY1ZjE2Yjk5OWNkNGFkNGE4YmI2NzA3Y2EzMjY5YWMpOwogICAgICAgIAoKICAgICAgICBjaXJjbGVfbWFya2VyXzQ5ZWQ4NzFjMjBlYTRkZmZhNjQ1Y2VlN2QzNjM1MDNkLmJpbmRQb3B1cChwb3B1cF9jNzcwZDY3NzQ2ZmI0MGJkOWZjOGM1Zjk1ZGUzOWQ1ZikKICAgICAgICA7CgogICAgICAgIAogICAgCiAgICAKICAgICAgICAgICAgdmFyIGNpcmNsZV9tYXJrZXJfYzExOGYxOGVlMDhiNGIxMTlmMDcxOGNkOTMwMWM3YTggPSBMLmNpcmNsZU1hcmtlcigKICAgICAgICAgICAgICAgIFszMS4yODU4NDUwMDAwMDAwMDIsIDEyMS40NTg1MDMwMDAwMDAwMV0sCiAgICAgICAgICAgICAgICB7ImJ1YmJsaW5nTW91c2VFdmVudHMiOiB0cnVlLCAiY29sb3IiOiAiYmx1ZSIsICJkYXNoQXJyYXkiOiBudWxsLCAiZGFzaE9mZnNldCI6IG51bGwsICJmaWxsIjogdHJ1ZSwgImZpbGxDb2xvciI6ICJibHVlIiwgImZpbGxPcGFjaXR5IjogMC41LCAiZmlsbFJ1bGUiOiAiZXZlbm9kZCIsICJsaW5lQ2FwIjogInJvdW5kIiwgImxpbmVKb2luIjogInJvdW5kIiwgIm9wYWNpdHkiOiAxLjAsICJyYWRpdXMiOiA3LCAic3Ryb2tlIjogdHJ1ZSwgIndlaWdodCI6IDN9CiAgICAgICAgICAgICkuYWRkVG8obWFwX2NkOTdiOTQ5YWQyMTQ4YWRiYTBkNjVkMGFjZGVhYzRmKTsKICAgICAgICAKICAgIAogICAgICAgIHZhciBwb3B1cF9hNDVmMTMxMzNkYTk0NDZhYmM4YzA2ZWJlMjg2OWQyYSA9IEwucG9wdXAoeyJtYXhXaWR0aCI6IDMwMH0pOwoKICAgICAgICAKICAgICAgICAgICAgdmFyIGh0bWxfZDY3OWY5ZjAyNzE4NDMyYWI0NzdiZDg5YWUzODJkNzEgPSAkKGA8ZGl2IGlkPSJodG1sX2Q2NzlmOWYwMjcxODQzMmFiNDc3YmQ4OWFlMzgyZDcxIiBzdHlsZT0id2lkdGg6IDEwMC4wJTsgaGVpZ2h0OiAxMDAuMCU7Ij48Yj7kuIrmtbfpqazmiI/ln448L2I+PGJyPkNsdXN0ZXIgMTxicj4xLiBBcnRzICYgRW50ZXJ0YWlubWVudCAwLjAwPGJyPjIuIENvbGxlZ2UgJiBVbml2ZXJzaXR5IDAuMDA8YnI+My4gRm9vZCAwLjAwPC9kaXY+YClbMF07CiAgICAgICAgICAgIHBvcHVwX2E0NWYxMzEzM2RhOTQ0NmFiYzhjMDZlYmUyODY5ZDJhLnNldENvbnRlbnQoaHRtbF9kNjc5ZjlmMDI3MTg0MzJhYjQ3N2JkODlhZTM4MmQ3MSk7CiAgICAgICAgCgogICAgICAgIGNpcmNsZV9tYXJrZXJfYzExOGYxOGVlMDhiNGIxMTlmMDcxOGNkOTMwMWM3YTguYmluZFBvcHVwKHBvcHVwX2E0NWYxMzEzM2RhOTQ0NmFiYzhjMDZlYmUyODY5ZDJhKQogICAgICAgIDsKCiAgICAgICAgCiAgICAKICAgIAogICAgICAgICAgICB2YXIgY2lyY2xlX21hcmtlcl84NDBmNmZkZThmNDE0ZmI3ODUyMzAyY2YxMWZhYzA2MCA9IEwuY2lyY2xlTWFya2VyKAogICAgICAgICAgICAgICAgWzMxLjI5ODk3Mzk5OTk5OTk5OCwgMTIxLjQ1NjU0MDk5OTk5OTk5XSwKICAgICAgICAgICAgICAgIHsiYnViYmxpbmdNb3VzZUV2ZW50cyI6IHRydWUsICJjb2xvciI6ICJibHVlIiwgImRhc2hBcnJheSI6IG51bGwsICJkYXNoT2Zmc2V0IjogbnVsbCwgImZpbGwiOiB0cnVlLCAiZmlsbENvbG9yIjogImJsdWUiLCAiZmlsbE9wYWNpdHkiOiAwLjUsICJmaWxsUnVsZSI6ICJldmVub2RkIiwgImxpbmVDYXAiOiAicm91bmQiLCAibGluZUpvaW4iOiAicm91bmQiLCAib3BhY2l0eSI6IDEuMCwgInJhZGl1cyI6IDcsICJzdHJva2UiOiB0cnVlLCAid2VpZ2h0IjogM30KICAgICAgICAgICAgKS5hZGRUbyhtYXBfY2Q5N2I5NDlhZDIxNDhhZGJhMGQ2NWQwYWNkZWFjNGYpOwogICAgICAgIAogICAgCiAgICAgICAgdmFyIHBvcHVwXzkzMDMxZDM3NWE1OTQyZjZiYTJkZWNlMTE3MTY2ZjNkID0gTC5wb3B1cCh7Im1heFdpZHRoIjogMzAwfSk7CgogICAgICAgIAogICAgICAgICAgICB2YXIgaHRtbF83ZjY2ODlmMmFjZjg0OTc1YTM5NDRhYWE5MDNhMjRjZiA9ICQoYDxkaXYgaWQ9Imh0bWxfN2Y2Njg5ZjJhY2Y4NDk3NWEzOTQ0YWFhOTAzYTI0Y2YiIHN0eWxlPSJ3aWR0aDogMTAwLjAlOyBoZWlnaHQ6IDEwMC4wJTsiPjxiPuaxtuawtOi3rzwvYj48YnI+Q2x1c3RlciAxPGJyPjEuIEFydHMgJiBFbnRlcnRhaW5tZW50IDAuMDA8YnI+Mi4gQ29sbGVnZSAmIFVuaXZlcnNpdHkgMC4wMDxicj4zLiBGb29kIDAuMDA8L2Rpdj5gKVswXTsKICAgICAgICAgICAgcG9wdXBfOTMwMzFkMzc1YTU5NDJmNmJhMmRlY2UxMTcxNjZmM2Quc2V0Q29udGVudChodG1sXzdmNjY4OWYyYWNmODQ5NzVhMzk0NGFhYTkwM2EyNGNmKTsKICAgICAgICAKCiAgICAgICAgY2lyY2xlX21hcmtlcl84NDBmNmZkZThmNDE0ZmI3ODUyMzAyY2YxMWZhYzA2MC5iaW5kUG9wdXAocG9wdXBfOTMwMzFkMzc1YTU5NDJmNmJhMmRlY2UxMTcxNjZmM2QpCiAgICAgICAgOwoKICAgICAgICAKICAgIAogICAgCiAgICAgICAgICAgIHZhciBjaXJjbGVfbWFya2VyXzA1NGQ1ZDUxYmFkMzQ4ZDI4ZDE4NWYxYjBmMDMzMjc2ID0gTC5jaXJjbGVNYXJrZXIoCiAgICAgICAgICAgICAgICBbMzEuMzEyOTQzLCAxMjEuNDU1MDk3XSwKICAgICAgICAgICAgICAgIHsiYnViYmxpbmdNb3VzZUV2ZW50cyI6IHRydWUsICJjb2xvciI6ICJibHVlIiwgImRhc2hBcnJheSI6IG51bGwsICJkYXNoT2Zmc2V0IjogbnVsbCwgImZpbGwiOiB0cnVlLCAiZmlsbENvbG9yIjogImJsdWUiLCAiZmlsbE9wYWNpdHkiOiAwLjUsICJmaWxsUnVsZSI6ICJldmVub2RkIiwgImxpbmVDYXAiOiAicm91bmQiLCAibGluZUpvaW4iOiAicm91bmQiLCAib3BhY2l0eSI6IDEuMCwgInJhZGl1cyI6IDcsICJzdHJva2UiOiB0cnVlLCAid2VpZ2h0IjogM30KICAgICAgICAgICAgKS5hZGRUbyhtYXBfY2Q5N2I5NDlhZDIxNDhhZGJhMGQ2NWQwYWNkZWFjNGYpOwogICAgICAgIAogICAgCiAgICAgICAgdmFyIHBvcHVwXzg4ODdlYWY2MTYwYzQyYzc4NGVkMWY5NWYxOTMxMzU4ID0gTC5wb3B1cCh7Im1heFdpZHRoIjogMzAwfSk7CgogICAgICAgIAogICAgICAgICAgICB2YXIgaHRtbF81ZjJiZTA1NThlNWI0YjA3YWEwN2JmYjAyZDdmMjhiMCA9ICQoYDxkaXYgaWQ9Imh0bWxfNWYyYmUwNTU4ZTViNGIwN2FhMDdiZmIwMmQ3ZjI4YjAiIHN0eWxlPSJ3aWR0aDogMTAwLjAlOyBoZWlnaHQ6IDEwMC4wJTsiPjxiPuW9rea1puaWsOadkTwvYj48YnI+Q2x1c3RlciAxPGJyPjEuIEFydHMgJiBFbnRlcnRhaW5tZW50IDAuMDA8YnI+Mi4gQ29sbGVnZSAmIFVuaXZlcnNpdHkgMC4wMDxicj4zLiBGb29kIDAuMDA8L2Rpdj5gKVswXTsKICAgICAgICAgICAgcG9wdXBfODg4N2VhZjYxNjBjNDJjNzg0ZWQxZjk1ZjE5MzEzNTguc2V0Q29udGVudChodG1sXzVmMmJlMDU1OGU1YjRiMDdhYTA3YmZiMDJkN2YyOGIwKTsKICAgICAgICAKCiAgICAgICAgY2lyY2xlX21hcmtlcl8wNTRkNWQ1MWJhZDM0OGQyOGQxODVmMWIwZjAzMzI3Ni5iaW5kUG9wdXAocG9wdXBfODg4N2VhZjYxNjBjNDJjNzg0ZWQxZjk1ZjE5MzEzNTgpCiAgICAgICAgOwoKICAgICAgICAKICAgIAogICAgCiAgICAgICAgICAgIHZhciBjaXJjbGVfbWFya2VyX2ZmYjBlYzdiN2NkYzRjZTdiZWI0MjY5YTlmYjNkNDc5ID0gTC5jaXJjbGVNYXJrZXIoCiAgICAgICAgICAgICAgICBbMzEuMzI1MzQ5LCAxMjEuNDUzNDY2OTk5OTk5OTldLAogICAgICAgICAgICAgICAgeyJidWJibGluZ01vdXNlRXZlbnRzIjogdHJ1ZSwgImNvbG9yIjogImJsdWUiLCAiZGFzaEFycmF5IjogbnVsbCwgImRhc2hPZmZzZXQiOiBudWxsLCAiZmlsbCI6IHRydWUsICJmaWxsQ29sb3IiOiAiYmx1ZSIsICJmaWxsT3BhY2l0eSI6IDAuNSwgImZpbGxSdWxlIjogImV2ZW5vZGQiLCAibGluZUNhcCI6ICJyb3VuZCIsICJsaW5lSm9pbiI6ICJyb3VuZCIsICJvcGFjaXR5IjogMS4wLCAicmFkaXVzIjogNywgInN0cm9rZSI6IHRydWUsICJ3ZWlnaHQiOiAzfQogICAgICAgICAgICApLmFkZFRvKG1hcF9jZDk3Yjk0OWFkMjE0OGFkYmEwZDY1ZDBhY2RlYWM0Zik7CiAgICAgICAgCiAgICAKICAgICAgICB2YXIgcG9wdXBfMDI1NGMzNWY2Mzg1NDgxZGExYTY1YjRmY2EyOTgzNTkgPSBMLnBvcHVwKHsibWF4V2lkdGgiOiAzMDB9KTsKCiAgICAgICAgCiAgICAgICAgICAgIHZhciBodG1sX2I4NTQxODhiZGFhMjQ4NzY4NDljODE1Y2RiZGIwNGJiID0gJChgPGRpdiBpZD0iaHRtbF9iODU0MTg4YmRhYTI0ODc2ODQ5YzgxNWNkYmRiMDRiYiIgc3R5bGU9IndpZHRoOiAxMDAuMCU7IGhlaWdodDogMTAwLjAlOyI+PGI+5YWx5bq36LevPC9iPjxicj5DbHVzdGVyIDE8YnI+MS4gQXJ0cyAmIEVudGVydGFpbm1lbnQgMC4wMDxicj4yLiBDb2xsZWdlICYgVW5pdmVyc2l0eSAwLjAwPGJyPjMuIEZvb2QgMC4wMDwvZGl2PmApWzBdOwogICAgICAgICAgICBwb3B1cF8wMjU0YzM1ZjYzODU0ODFkYTFhNjViNGZjYTI5ODM1OS5zZXRDb250ZW50KGh0bWxfYjg1NDE4OGJkYWEyNDg3Njg0OWM4MTVjZGJkYjA0YmIpOwogICAgICAgIAoKICAgICAgICBjaXJjbGVfbWFya2VyX2ZmYjBlYzdiN2NkYzRjZTdiZWI0MjY5YTlmYjNkNDc5LmJpbmRQb3B1cChwb3B1cF8wMjU0YzM1ZjYzODU0ODFkYTFhNjViNGZjYTI5ODM1OSkKICAgICAgICA7CgogICAgICAgIAogICAgCiAgICAKICAgICAgICAgICAgdmFyIGNpcmNsZV9tYXJrZXJfYzViOGY4NGViMDJlNDc2ZWEwMTkwMDkyYmM3NjJiNTAgPSBMLmNpcmNsZU1hcmtlcigKICAgICAgICAgICAgICAgIFszMS4zMzc0NTEsIDEyMS40NDc5NjVdLAogICAgICAgICAgICAgICAgeyJidWJibGluZ01vdXNlRXZlbnRzIjogdHJ1ZSwgImNvbG9yIjogImJsdWUiLCAiZGFzaEFycmF5IjogbnVsbCwgImRhc2hPZmZzZXQiOiBudWxsLCAiZmlsbCI6IHRydWUsICJmaWxsQ29sb3IiOiAiYmx1ZSIsICJmaWxsT3BhY2l0eSI6IDAuNSwgImZpbGxSdWxlIjogImV2ZW5vZGQiLCAibGluZUNhcCI6ICJyb3VuZCIsICJsaW5lSm9pbiI6ICJyb3VuZCIsICJvcGFjaXR5IjogMS4wLCAicmFkaXVzIjogNywgInN0cm9rZSI6IHRydWUsICJ3ZWlnaHQiOiAzfQogICAgICAgICAgICApLmFkZFRvKG1hcF9jZDk3Yjk0OWFkMjE0OGFkYmEwZDY1ZDBhY2RlYWM0Zik7CiAgICAgICAgCiAgICAKICAgICAgICB2YXIgcG9wdXBfZGJhYmMwZjhlNzkwNDc4ZWJiNTBkMDQwNzAxZTBmNWIgPSBMLnBvcHVwKHsibWF4V2lkdGgiOiAzMDB9KTsKCiAgICAgICAgCiAgICAgICAgICAgIHZhciBodG1sXzhkMTYzMWExYjNhYjQ4MTFhYzY0NGFiNjU2ZmJhYTA2ID0gJChgPGRpdiBpZD0iaHRtbF84ZDE2MzFhMWIzYWI0ODExYWM2NDRhYjY1NmZiYWEwNiIgc3R5bGU9IndpZHRoOiAxMDAuMCU7IGhlaWdodDogMTAwLjAlOyI+PGI+6YCa5rKz5paw5p2RPC9iPjxicj5DbHVzdGVyIDE8YnI+MS4gQXJ0cyAmIEVudGVydGFpbm1lbnQgMC4wMDxicj4yLiBDb2xsZWdlICYgVW5pdmVyc2l0eSAwLjAwPGJyPjMuIEZvb2QgMC4wMDwvZGl2PmApWzBdOwogICAgICAgICAgICBwb3B1cF9kYmFiYzBmOGU3OTA0NzhlYmI1MGQwNDA3MDFlMGY1Yi5zZXRDb250ZW50KGh0bWxfOGQxNjMxYTFiM2FiNDgxMWFjNjQ0YWI2NTZmYmFhMDYpOwogICAgICAgIAoKICAgICAgICBjaXJjbGVfbWFya2VyX2M1YjhmODRlYjAyZTQ3NmVhMDE5MDA5MmJjNzYyYjUwLmJpbmRQb3B1cChwb3B1cF9kYmFiYzBmOGU3OTA0NzhlYmI1MGQwNDA3MDFlMGY1YikKICAgICAgICA7CgogICAgICAgIAogICAgCiAgICAKICAgICAgICAgICAgdmFyIGNpcmNsZV9tYXJrZXJfMzZlMDM4OTU2ZjQ3NDYzNmI3MDE3M2EzMzFlZTRiODcgPSBMLmNpcmNsZU1hcmtlcigKICAgICAgICAgICAgICAgIFszMS4zNDYxMDYsIDEyMS40NDQxNTZdLAogICAgICAgICAgICAgICAgeyJidWJibGluZ01vdXNlRXZlbnRzIjogdHJ1ZSwgImNvbG9yIjogImJsdWUiLCAiZGFzaEFycmF5IjogbnVsbCwgImRhc2hPZmZzZXQiOiBudWxsLCAiZmlsbCI6IHRydWUsICJmaWxsQ29sb3IiOiAiYmx1ZSIsICJmaWxsT3BhY2l0eSI6IDAuNSwgImZpbGxSdWxlIjogImV2ZW5vZGQiLCAibGluZUNhcCI6ICJyb3VuZCIsICJsaW5lSm9pbiI6ICJyb3VuZCIsICJvcGFjaXR5IjogMS4wLCAicmFkaXVzIjogNywgInN0cm9rZSI6IHRydWUsICJ3ZWlnaHQiOiAzfQogICAgICAgICAgICApLmFkZFRvKG1hcF9jZDk3Yjk0OWFkMjE0OGFkYmEwZDY1ZDBhY2RlYWM0Zik7CiAgICAgICAgCiAgICAKICAgICAgICB2YXIgcG9wdXBfZmUwMjE3Y2QzNzIyNDQzMGI4ZjM1Y2UyMmU1Y2NmMWYgPSBMLnBvcHVwKHsibWF4V2lkdGgiOiAzMDB9KTsKCiAgICAgICAgCiAgICAgICAgICAgIHZhciBodG1sXzlkMjI5MjIzNTNkYzQyZDhhNmRmNTYzMmRmMWNkZjVlID0gJChgPGRpdiBpZD0iaHRtbF85ZDIyOTIyMzUzZGM0MmQ4YTZkZjU2MzJkZjFjZGY1ZSIgc3R5bGU9IndpZHRoOiAxMDAuMCU7IGhlaWdodDogMTAwLjAlOyI+PGI+5ZG85YWw6LevPC9iPjxicj5DbHVzdGVyIDE8YnI+MS4gQXJ0cyAmIEVudGVydGFpbm1lbnQgMC4wMDxicj4yLiBDb2xsZWdlICYgVW5pdmVyc2l0eSAwLjAwPGJyPjMuIEZvb2QgMC4wMDwvZGl2PmApWzBdOwogICAgICAgICAgICBwb3B1cF9mZTAyMTdjZDM3MjI0NDMwYjhmMzVjZTIyZTVjY2YxZi5zZXRDb250ZW50KGh0bWxfOWQyMjkyMjM1M2RjNDJkOGE2ZGY1NjMyZGYxY2RmNWUpOwogICAgICAgIAoKICAgICAgICBjaXJjbGVfbWFya2VyXzM2ZTAzODk1NmY0NzQ2MzZiNzAxNzNhMzMxZWU0Yjg3LmJpbmRQb3B1cChwb3B1cF9mZTAyMTdjZDM3MjI0NDMwYjhmMzVjZTIyZTVjY2YxZikKICAgICAgICA7CgogICAgICAgIAogICAgCiAgICAKICAgICAgICAgICAgdmFyIGNpcmNsZV9tYXJrZXJfOWMwODAxZjg0ZWM3NGE1MmE5NGU4NGU2ODQ4Mjc0YjkgPSBMLmNpcmNsZU1hcmtlcigKICAgICAgICAgICAgICAgIFszMS4zNjE0MSwgMTIxLjQ0MDUyNl0sCiAgICAgICAgICAgICAgICB7ImJ1YmJsaW5nTW91c2VFdmVudHMiOiB0cnVlLCAiY29sb3IiOiAiYmx1ZSIsICJkYXNoQXJyYXkiOiBudWxsLCAiZGFzaE9mZnNldCI6IG51bGwsICJmaWxsIjogdHJ1ZSwgImZpbGxDb2xvciI6ICJibHVlIiwgImZpbGxPcGFjaXR5IjogMC41LCAiZmlsbFJ1bGUiOiAiZXZlbm9kZCIsICJsaW5lQ2FwIjogInJvdW5kIiwgImxpbmVKb2luIjogInJvdW5kIiwgIm9wYWNpdHkiOiAxLjAsICJyYWRpdXMiOiA3LCAic3Ryb2tlIjogdHJ1ZSwgIndlaWdodCI6IDN9CiAgICAgICAgICAgICkuYWRkVG8obWFwX2NkOTdiOTQ5YWQyMTQ4YWRiYTBkNjVkMGFjZGVhYzRmKTsKICAgICAgICAKICAgIAogICAgICAgIHZhciBwb3B1cF9iMDUwYzI1MDc4MTA0M2VlOWNkMWQ1ZjNhMDU0YmNkYyA9IEwucG9wdXAoeyJtYXhXaWR0aCI6IDMwMH0pOwoKICAgICAgICAKICAgICAgICAgICAgdmFyIGh0bWxfNTZiZjNmOGU2YWQ3NGNjYThjZDQ4YjIwZmVjZGMyMDIgPSAkKGA8ZGl2IGlkPSJodG1sXzU2YmYzZjhlNmFkNzRjY2E4Y2Q0OGIyMGZlY2RjMjAyIiBzdHlsZT0id2lkdGg6IDEwMC4wJTsgaGVpZ2h0OiAxMDAuMCU7Ij48Yj7lhbHlr4zmlrDmnZE8L2I+PGJyPkNsdXN0ZXIgMTxicj4xLiBBcnRzICYgRW50ZXJ0YWlubWVudCAwLjAwPGJyPjIuIENvbGxlZ2UgJiBVbml2ZXJzaXR5IDAuMDA8YnI+My4gRm9vZCAwLjAwPC9kaXY+YClbMF07CiAgICAgICAgICAgIHBvcHVwX2IwNTBjMjUwNzgxMDQzZWU5Y2QxZDVmM2EwNTRiY2RjLnNldENvbnRlbnQoaHRtbF81NmJmM2Y4ZTZhZDc0Y2NhOGNkNDhiMjBmZWNkYzIwMik7CiAgICAgICAgCgogICAgICAgIGNpcmNsZV9tYXJrZXJfOWMwODAxZjg0ZWM3NGE1MmE5NGU4NGU2ODQ4Mjc0YjkuYmluZFBvcHVwKHBvcHVwX2IwNTBjMjUwNzgxMDQzZWU5Y2QxZDVmM2EwNTRiY2RjKQogICAgICAgIDsKCiAgICAgICAgCiAgICAKICAgIAogICAgICAgICAgICB2YXIgY2lyY2xlX21hcmtlcl8yMjZhYjEyYjc0MzE0Y2JkODVmMmYwMTZlMjcwYWFlNSA9IEwuY2lyY2xlTWFya2VyKAogICAgICAgICAgICAgICAgWzMxLjE1MzEyMTAwMDAwMDAwMiwgMTIxLjEzMjE2MTAwMDAwMDAxXSwKICAgICAgICAgICAgICAgIHsiYnViYmxpbmdNb3VzZUV2ZW50cyI6IHRydWUsICJjb2xvciI6ICJibHVlIiwgImRhc2hBcnJheSI6IG51bGwsICJkYXNoT2Zmc2V0IjogbnVsbCwgImZpbGwiOiB0cnVlLCAiZmlsbENvbG9yIjogImJsdWUiLCAiZmlsbE9wYWNpdHkiOiAwLjUsICJmaWxsUnVsZSI6ICJldmVub2RkIiwgImxpbmVDYXAiOiAicm91bmQiLCAibGluZUpvaW4iOiAicm91bmQiLCAib3BhY2l0eSI6IDEuMCwgInJhZGl1cyI6IDcsICJzdHJva2UiOiB0cnVlLCAid2VpZ2h0IjogM30KICAgICAgICAgICAgKS5hZGRUbyhtYXBfY2Q5N2I5NDlhZDIxNDhhZGJhMGQ2NWQwYWNkZWFjNGYpOwogICAgICAgIAogICAgCiAgICAgICAgdmFyIHBvcHVwXzlhYjA2NjdiNTU1NTQyYTY5NDczZTNhNGI5ZGZhYzJlID0gTC5wb3B1cCh7Im1heFdpZHRoIjogMzAwfSk7CgogICAgICAgIAogICAgICAgICAgICB2YXIgaHRtbF9iODMxYjFmMDM1OWE0YzU0OTBkMjU3NDU1NDg5NzY3ZSA9ICQoYDxkaXYgaWQ9Imh0bWxfYjgzMWIxZjAzNTlhNGM1NDkwZDI1NzQ1NTQ4OTc2N2UiIHN0eWxlPSJ3aWR0aDogMTAwLjAlOyBoZWlnaHQ6IDEwMC4wJTsiPjxiPuWuneWuieWFrOi3rzwvYj48YnI+Q2x1c3RlciAxPGJyPjEuIEFydHMgJiBFbnRlcnRhaW5tZW50IDAuMDA8YnI+Mi4gQ29sbGVnZSAmIFVuaXZlcnNpdHkgMC4wMDxicj4zLiBGb29kIDAuMDA8L2Rpdj5gKVswXTsKICAgICAgICAgICAgcG9wdXBfOWFiMDY2N2I1NTU1NDJhNjk0NzNlM2E0YjlkZmFjMmUuc2V0Q29udGVudChodG1sX2I4MzFiMWYwMzU5YTRjNTQ5MGQyNTc0NTU0ODk3NjdlKTsKICAgICAgICAKCiAgICAgICAgY2lyY2xlX21hcmtlcl8yMjZhYjEyYjc0MzE0Y2JkODVmMmYwMTZlMjcwYWFlNS5iaW5kUG9wdXAocG9wdXBfOWFiMDY2N2I1NTU1NDJhNjk0NzNlM2E0YjlkZmFjMmUpCiAgICAgICAgOwoKICAgICAgICAKICAgIAogICAgCiAgICAgICAgICAgIHZhciBjaXJjbGVfbWFya2VyX2MxNmQ0OTlmMWQyMzQ3YjRiMGM0YWJkNWVjMDc1YTAzID0gTC5jaXJjbGVNYXJrZXIoCiAgICAgICAgICAgICAgICBbMzEuMzg3NDU5MDAwMDAwMDAzLCAxMjEuNDM0NDIxXSwKICAgICAgICAgICAgICAgIHsiYnViYmxpbmdNb3VzZUV2ZW50cyI6IHRydWUsICJjb2xvciI6ICJibHVlIiwgImRhc2hBcnJheSI6IG51bGwsICJkYXNoT2Zmc2V0IjogbnVsbCwgImZpbGwiOiB0cnVlLCAiZmlsbENvbG9yIjogImJsdWUiLCAiZmlsbE9wYWNpdHkiOiAwLjUsICJmaWxsUnVsZSI6ICJldmVub2RkIiwgImxpbmVDYXAiOiAicm91bmQiLCAibGluZUpvaW4iOiAicm91bmQiLCAib3BhY2l0eSI6IDEuMCwgInJhZGl1cyI6IDcsICJzdHJva2UiOiB0cnVlLCAid2VpZ2h0IjogM30KICAgICAgICAgICAgKS5hZGRUbyhtYXBfY2Q5N2I5NDlhZDIxNDhhZGJhMGQ2NWQwYWNkZWFjNGYpOwogICAgICAgIAogICAgCiAgICAgICAgdmFyIHBvcHVwXzcyZTM5MzAxNWEwNTQ4Njk5NGZmOTk4MjlhYWVkNDI3ID0gTC5wb3B1cCh7Im1heFdpZHRoIjogMzAwfSk7CgogICAgICAgIAogICAgICAgICAgICB2YXIgaHRtbF82N2I1MGY5MzBiMjc0YzY5ODM5ZDY4YzdiOTAyNDc0NCA9ICQoYDxkaXYgaWQ9Imh0bWxfNjdiNTBmOTMwYjI3NGM2OTgzOWQ2OGM3YjkwMjQ3NDQiIHN0eWxlPSJ3aWR0aDogMTAwLjAlOyBoZWlnaHQ6IDEwMC4wJTsiPjxiPuWPi+iwiuilv+i3rzwvYj48YnI+Q2x1c3RlciAxPGJyPjEuIEFydHMgJiBFbnRlcnRhaW5tZW50IDAuMDA8YnI+Mi4gQ29sbGVnZSAmIFVuaXZlcnNpdHkgMC4wMDxicj4zLiBGb29kIDAuMDA8L2Rpdj5gKVswXTsKICAgICAgICAgICAgcG9wdXBfNzJlMzkzMDE1YTA1NDg2OTk0ZmY5OTgyOWFhZWQ0Mjcuc2V0Q29udGVudChodG1sXzY3YjUwZjkzMGIyNzRjNjk4MzlkNjhjN2I5MDI0NzQ0KTsKICAgICAgICAKCiAgICAgICAgY2lyY2xlX21hcmtlcl9jMTZkNDk5ZjFkMjM0N2I0YjBjNGFiZDVlYzA3NWEwMy5iaW5kUG9wdXAocG9wdXBfNzJlMzkzMDE1YTA1NDg2OTk0ZmY5OTgyOWFhZWQ0MjcpCiAgICAgICAgOwoKICAgICAgICAKICAgIAogICAgCiAgICAgICAgICAgIHZhciBjaXJjbGVfbWFya2VyXzFjMzZmMGNkNDllYTQwYmViYzEzYWQ0YjZkODQ1NmUwID0gTC5jaXJjbGVNYXJrZXIoCiAgICAgICAgICAgICAgICBbMzEuMzk4NTQyLCAxMjEuNDMxMDg3XSwKICAgICAgICAgICAgICAgIHsiYnViYmxpbmdNb3VzZUV2ZW50cyI6IHRydWUsICJjb2xvciI6ICJibHVlIiwgImRhc2hBcnJheSI6IG51bGwsICJkYXNoT2Zmc2V0IjogbnVsbCwgImZpbGwiOiB0cnVlLCAiZmlsbENvbG9yIjogImJsdWUiLCAiZmlsbE9wYWNpdHkiOiAwLjUsICJmaWxsUnVsZSI6ICJldmVub2RkIiwgImxpbmVDYXAiOiAicm91bmQiLCAibGluZUpvaW4iOiAicm91bmQiLCAib3BhY2l0eSI6IDEuMCwgInJhZGl1cyI6IDcsICJzdHJva2UiOiB0cnVlLCAid2VpZ2h0IjogM30KICAgICAgICAgICAgKS5hZGRUbyhtYXBfY2Q5N2I5NDlhZDIxNDhhZGJhMGQ2NWQwYWNkZWFjNGYpOwogICAgICAgIAogICAgCiAgICAgICAgdmFyIHBvcHVwXzcwZjVjZmRkNjU5MjQzY2M5OWVhYjljMGQyMTBlZWM5ID0gTC5wb3B1cCh7Im1heFdpZHRoIjogMzAwfSk7CgogICAgICAgIAogICAgICAgICAgICB2YXIgaHRtbF8zNGIyYzhkY2E0YzM0MzAwYjA0NmU5ZjA3ZWQ1OTM5OCA9ICQoYDxkaXYgaWQ9Imh0bWxfMzRiMmM4ZGNhNGMzNDMwMGIwNDZlOWYwN2VkNTkzOTgiIHN0eWxlPSJ3aWR0aDogMTAwLjAlOyBoZWlnaHQ6IDEwMC4wJTsiPjxiPuWvjOmUpui3rzwvYj48YnI+Q2x1c3RlciAxPGJyPjEuIEFydHMgJiBFbnRlcnRhaW5tZW50IDAuMDA8YnI+Mi4gQ29sbGVnZSAmIFVuaXZlcnNpdHkgMC4wMDxicj4zLiBGb29kIDAuMDA8L2Rpdj5gKVswXTsKICAgICAgICAgICAgcG9wdXBfNzBmNWNmZGQ2NTkyNDNjYzk5ZWFiOWMwZDIxMGVlYzkuc2V0Q29udGVudChodG1sXzM0YjJjOGRjYTRjMzQzMDBiMDQ2ZTlmMDdlZDU5Mzk4KTsKICAgICAgICAKCiAgICAgICAgY2lyY2xlX21hcmtlcl8xYzM2ZjBjZDQ5ZWE0MGJlYmMxM2FkNGI2ZDg0NTZlMC5iaW5kUG9wdXAocG9wdXBfNzBmNWNmZGQ2NTkyNDNjYzk5ZWFiOWMwZDIxMGVlYzkpCiAgICAgICAgOwoKICAgICAgICAKICAgIAo8L3NjcmlwdD4= onload=\"this.contentDocument.open();this.contentDocument.write(atob(this.getAttribute('data-html')));this.contentDocument.close();\" allowfullscreen webkitallowfullscreen mozallowfullscreen></iframe></div></div>"
      ],
      "text/plain": [
       "<folium.folium.Map at 0x270c8b1b4e0>"
      ]
     },
     "execution_count": 24,
     "metadata": {},
     "output_type": "execute_result"
    }
   ],
   "source": [
    "import folium\n",
    "stations_clusters_minmax_df['Latitude'] = stations_venues_df['Latitude']\n",
    "stations_clusters_minmax_df['Longitude'] = stations_venues_df['Longitude']\n",
    "\n",
    "map_SH = folium.Map(location=[121.392186,31.116872 ], zoom_start=11)\n",
    "\n",
    "for i, station, lat, lng, cluster in zip(stations_clusters_minmax_df.index,\n",
    "                                         stations_clusters_minmax_df['Station_Name'],\n",
    "                                         stations_clusters_minmax_df['Latitude'],\n",
    "                                         stations_clusters_minmax_df['Longitude'],\n",
    "                                         stations_clusters_minmax_df['Cluster']):\n",
    "    latlong = [lat, lng]    \n",
    "    colors=['red','blue','white']\n",
    "    station_series = stations_clusters_minmax_df.iloc[i]\n",
    "    top_categories_dict = {}\n",
    "    for cat in categories_list:\n",
    "        top_categories_dict[cat[0]] = station_series[cat[0]]\n",
    "    top_categories = sorted(top_categories_dict.items(), key = lambda x: x[1], reverse=True)\n",
    "    popup='<b>{}</b><br>Cluster {}<br>1. {} {}<br>2. {} {}<br>3. {} {}'.format(\n",
    "        station,\n",
    "        cluster,\n",
    "        top_categories[0][0],\n",
    "        \"{0:.2f}\".format(top_categories[0][1]),\n",
    "        top_categories[1][0],\n",
    "        \"{0:.2f}\".format(top_categories[1][1]),\n",
    "        top_categories[2][0],\n",
    "        \"{0:.2f}\".format(top_categories[2][1]))\n",
    "    folium.CircleMarker(\n",
    "        latlong,\n",
    "        fill=True,\n",
    "        fill_opacity=0.5,\n",
    "        popup=folium.Popup(popup, max_width = 300),\n",
    "        radius=7,\n",
    "        color=colors[cluster]\n",
    "    ).add_to(map_SH)\n",
    "    \n",
    "map_SH"
   ]
  },
  {
   "cell_type": "code",
   "execution_count": 25,
   "metadata": {},
   "outputs": [],
   "source": [
    "map_SH.save('SH_map.html')"
   ]
  },
  {
   "cell_type": "markdown",
   "metadata": {},
   "source": [
    "Results and Discussion"
   ]
  },
  {
   "cell_type": "markdown",
   "metadata": {},
   "source": [
    "Results:"
   ]
  },
  {
   "cell_type": "markdown",
   "metadata": {},
   "source": [
    "We can briefly summarize each of our classified clusters by looking at the boxplot showing the normalized values for the venues nearby each group of stations :\n",
    "    Cluster 0 has the highest number of venues nearby, especially for Shop&Service, Nightlife Spot, and Travel&Transport\n",
    "    Cluster 1 on average has the least number of venues near its stations, and appears as the lowest density area\n",
    "    Cluster 2 has the lowest number of Residence venues, and is between the other 2 clusters in nearby venue density\n",
    "\n",
    "After coloring and plotting most of the stations on a map of the Shanghailine1 Metropolitan Region, we can see that :\n",
    "    Cluster 0 most likely has the highest number of people passing by and creating venues and check-ins, as they are in the densely populated areas of the city (offices and department stores i.e. Xujiahui)\n",
    "    Cluster 1 marks stations that are not in areas as developed as in the other two clusters\n",
    "    Cluster 2 seems to mark stations where there are populated by different universities and colleges\n",
    "The final map is still quite informative as stations nearby were rendered and appear to be correctly classified, so for our project's scope (looking at the area as a whole) this is still deemed quite satisfactory."
   ]
  },
  {
   "cell_type": "markdown",
   "metadata": {},
   "source": [
    "Discussion"
   ]
  },
  {
   "cell_type": "markdown",
   "metadata": {},
   "source": [
    "There are some factors to consider when analyzing the results of this data science project. First, using the Foursquare database to get the number of venues around each station can make our results a bit biased towards the Food and Travel&Transport categories, as these 2 types of locations are the most commented and checked-into places (see the paper at https://www.researchgate.net/publication/261060627_Exploring_venue_popularity_in_Foursquare for more details). The significance of a location or building also is not shown, so some key landmarks or important areas might not be highlighted. However, with the main theme being density and having users being able to click and reveal the top 3 categories of each rendered location on the map, we were able to answer the questions and challenges asked in the beginning of the project. Users can use the interactive map of Shanghai's Metro to find out more about the surroundings of each station by clicking on a circled area, and a popup will inform them about the top 3 types of venues around the station. By familiarizing themselves with the color scheme of the map (blue for high-density, white for medium-density, red for sparsely-dense areas), users can view the overall status of the Shanghai Metropolitan Region."
   ]
  },
  {
   "cell_type": "markdown",
   "metadata": {},
   "source": [
    "Conclusion"
   ]
  },
  {
   "cell_type": "markdown",
   "metadata": {},
   "source": [
    "We have shown how to use the Baidu API, the Foursquare Places API, and the Python Folium library to retrieve the locations and nearby number of venues around each of Shanghai's line1 metro stations, and plot most of them onto an interactive map of the Shanghai Metropolitan Region. The data collected can be useful to others in the future in other areas of research, especially if combined with more data from other sources, such as social media feeds or census data."
   ]
  }
 ],
 "metadata": {
  "kernelspec": {
   "display_name": "Python 3",
   "language": "python",
   "name": "python3"
  },
  "language_info": {
   "codemirror_mode": {
    "name": "ipython",
    "version": 3
   },
   "file_extension": ".py",
   "mimetype": "text/x-python",
   "name": "python",
   "nbconvert_exporter": "python",
   "pygments_lexer": "ipython3",
   "version": "3.7.3"
  }
 },
 "nbformat": 4,
 "nbformat_minor": 2
}
