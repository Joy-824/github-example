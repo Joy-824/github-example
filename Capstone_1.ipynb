{
 "cells": [
  {
   "cell_type": "markdown",
   "metadata": {},
   "source": [
    "The aim of my capstone is to solve the problem of how to choose the right location to start business, like restaurant, coffee shops and so on. The target customer of my project is the one who is looking for opportunities to run his own business. "
   ]
  },
  {
   "cell_type": "markdown",
   "metadata": {},
   "source": [
    "The next cell is to scrape data from Foursquare. The data mainly includes the detailed informaation about venus in Toronto."
   ]
  },
  {
   "cell_type": "code",
   "execution_count": 2,
   "metadata": {},
   "outputs": [],
   "source": [
    "import pandas as pd\n",
    "import requests\n",
    "import json\n",
    "from bs4 import BeautifulSoup\n",
    "\n",
    "url='https://api.foursquare.com/v2/venues/explore?client_id=RBBEMHAM1HR44PCCPXAJ01R4JTJM2ZAODPKQJ1R1ZOVRU1FW&client_secret=ECOUXJ0UKO3HYKNQMT1YBTR1AYOVWUKCPFBKTM1M3WQJSDV4&v=20170511&ll=104.090602,30.657058'\n",
    "res=requests.get(url).text\n",
    "soup=BeautifulSoup(res, 'html.parser')"
   ]
  },
  {
   "cell_type": "code",
   "execution_count": null,
   "metadata": {},
   "outputs": [],
   "source": []
  }
 ],
 "metadata": {
  "kernelspec": {
   "display_name": "Python 3",
   "language": "python",
   "name": "python3"
  },
  "language_info": {
   "codemirror_mode": {
    "name": "ipython",
    "version": 3
   },
   "file_extension": ".py",
   "mimetype": "text/x-python",
   "name": "python",
   "nbconvert_exporter": "python",
   "pygments_lexer": "ipython3",
   "version": "3.7.3"
  }
 },
 "nbformat": 4,
 "nbformat_minor": 2
}
